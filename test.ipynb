{
 "cells": [
  {
   "cell_type": "code",
   "execution_count": 1,
   "id": "d8f1d7a4-e769-4ddf-aa5a-dc027eff1b58",
   "metadata": {},
   "outputs": [],
   "source": [
    "# dependecies\n",
    "# reference: fourth week's first day's ninth activity\n",
    "import pandas as pd\n",
    "from pathlib import Path"
   ]
  },
  {
   "cell_type": "code",
   "execution_count": 2,
   "id": "04abe689-6feb-4470-8de2-e0d7fae46715",
   "metadata": {},
   "outputs": [],
   "source": [
    "# path\n",
    "# reference: fourth week's first day's ninth activity\n",
    "file = Path(\"Data/cleaneddata.csv\")"
   ]
  },
  {
   "cell_type": "code",
   "execution_count": 3,
   "id": "2443b73b-2dda-4041-9f1d-f64bd91b65e9",
   "metadata": {},
   "outputs": [],
   "source": [
    "# reading file\n",
    "# reference: fourth week's first day's ninth activity\n",
    "# xpert\n",
    "data = pd.read_csv(file, encoding='utf-8')"
   ]
  },
  {
   "cell_type": "code",
   "execution_count": 4,
   "id": "c77c88f1-04c9-4a73-88a8-56b8f9759c29",
   "metadata": {},
   "outputs": [
    {
     "data": {
      "text/html": [
       "<div>\n",
       "<style scoped>\n",
       "    .dataframe tbody tr th:only-of-type {\n",
       "        vertical-align: middle;\n",
       "    }\n",
       "\n",
       "    .dataframe tbody tr th {\n",
       "        vertical-align: top;\n",
       "    }\n",
       "\n",
       "    .dataframe thead th {\n",
       "        text-align: right;\n",
       "    }\n",
       "</style>\n",
       "<table border=\"1\" class=\"dataframe\">\n",
       "  <thead>\n",
       "    <tr style=\"text-align: right;\">\n",
       "      <th></th>\n",
       "      <th>date_documented</th>\n",
       "      <th>date</th>\n",
       "      <th>time</th>\n",
       "      <th>described_duration</th>\n",
       "      <th>described_ufo</th>\n",
       "      <th>full_description</th>\n",
       "      <th>city</th>\n",
       "      <th>state</th>\n",
       "      <th>latitude</th>\n",
       "      <th>longitude</th>\n",
       "    </tr>\n",
       "  </thead>\n",
       "  <tbody>\n",
       "    <tr>\n",
       "      <th>0</th>\n",
       "      <td>4/27/2004</td>\n",
       "      <td>10/10/1949</td>\n",
       "      <td>08:30 PM</td>\n",
       "      <td>45 minutes</td>\n",
       "      <td>cylinder</td>\n",
       "      <td>This event took place in early fall around 194...</td>\n",
       "      <td>san marcos</td>\n",
       "      <td>tx</td>\n",
       "      <td>29.883056</td>\n",
       "      <td>-97.941111</td>\n",
       "    </tr>\n",
       "    <tr>\n",
       "      <th>1</th>\n",
       "      <td>1/17/2004</td>\n",
       "      <td>10/10/1956</td>\n",
       "      <td>09:00 PM</td>\n",
       "      <td>1/2 hour</td>\n",
       "      <td>circle</td>\n",
       "      <td>My older brother and twin sister were leaving ...</td>\n",
       "      <td>edna</td>\n",
       "      <td>tx</td>\n",
       "      <td>28.978333</td>\n",
       "      <td>-96.645833</td>\n",
       "    </tr>\n",
       "    <tr>\n",
       "      <th>2</th>\n",
       "      <td>1/22/2004</td>\n",
       "      <td>10/10/1960</td>\n",
       "      <td>08:00 PM</td>\n",
       "      <td>15 minutes</td>\n",
       "      <td>light</td>\n",
       "      <td>AS a Marine 1st Lt. flying an FJ4B fighter/att...</td>\n",
       "      <td>kaneohe</td>\n",
       "      <td>hi</td>\n",
       "      <td>21.418056</td>\n",
       "      <td>-157.803611</td>\n",
       "    </tr>\n",
       "    <tr>\n",
       "      <th>3</th>\n",
       "      <td>4/27/2007</td>\n",
       "      <td>10/10/1961</td>\n",
       "      <td>07:00 PM</td>\n",
       "      <td>5 minutes</td>\n",
       "      <td>sphere</td>\n",
       "      <td>My father is now 89 my brother 52 the girl wit...</td>\n",
       "      <td>bristol</td>\n",
       "      <td>tn</td>\n",
       "      <td>36.595000</td>\n",
       "      <td>-82.188889</td>\n",
       "    </tr>\n",
       "    <tr>\n",
       "      <th>4</th>\n",
       "      <td>10/2/1999</td>\n",
       "      <td>10/10/1965</td>\n",
       "      <td>11:45 PM</td>\n",
       "      <td>20 minutes</td>\n",
       "      <td>disk</td>\n",
       "      <td>A bright orange color changing to reddish colo...</td>\n",
       "      <td>norwalk</td>\n",
       "      <td>ct</td>\n",
       "      <td>41.117500</td>\n",
       "      <td>-73.408333</td>\n",
       "    </tr>\n",
       "  </tbody>\n",
       "</table>\n",
       "</div>"
      ],
      "text/plain": [
       "  date_documented        date      time described_duration described_ufo  \\\n",
       "0       4/27/2004  10/10/1949  08:30 PM         45 minutes      cylinder   \n",
       "1       1/17/2004  10/10/1956  09:00 PM           1/2 hour        circle   \n",
       "2       1/22/2004  10/10/1960  08:00 PM         15 minutes         light   \n",
       "3       4/27/2007  10/10/1961  07:00 PM          5 minutes        sphere   \n",
       "4       10/2/1999  10/10/1965  11:45 PM         20 minutes          disk   \n",
       "\n",
       "                                    full_description        city state  \\\n",
       "0  This event took place in early fall around 194...  san marcos    tx   \n",
       "1  My older brother and twin sister were leaving ...        edna    tx   \n",
       "2  AS a Marine 1st Lt. flying an FJ4B fighter/att...     kaneohe    hi   \n",
       "3  My father is now 89 my brother 52 the girl wit...     bristol    tn   \n",
       "4  A bright orange color changing to reddish colo...     norwalk    ct   \n",
       "\n",
       "    latitude   longitude  \n",
       "0  29.883056  -97.941111  \n",
       "1  28.978333  -96.645833  \n",
       "2  21.418056 -157.803611  \n",
       "3  36.595000  -82.188889  \n",
       "4  41.117500  -73.408333  "
      ]
     },
     "execution_count": 4,
     "metadata": {},
     "output_type": "execute_result"
    }
   ],
   "source": [
    "# verification\n",
    "# reference: fourth week's first day's ninth activity\n",
    "data.head()"
   ]
  },
  {
   "cell_type": "code",
   "execution_count": 5,
   "id": "d25ebb9e-fe65-43e3-93c9-1c907995cd30",
   "metadata": {},
   "outputs": [],
   "source": [
    "# lists for coordinates\n",
    "# third week\n",
    "latitudes = []\n",
    "longitudes = []\n",
    "for latitude in data[\"latitude\"]:\n",
    "    latitudes.append(latitude)\n",
    "for longitude in data[\"longitude\"]:\n",
    "    longitudes.append(longitude)"
   ]
  },
  {
   "cell_type": "code",
   "execution_count": 6,
   "id": "0d23efc5-f0d3-43b8-8b79-b84cd1691ace",
   "metadata": {},
   "outputs": [
    {
     "data": {
      "text/plain": [
       "29.8830556"
      ]
     },
     "execution_count": 6,
     "metadata": {},
     "output_type": "execute_result"
    }
   ],
   "source": [
    "# verification\n",
    "# third week\n",
    "latitudes[0]"
   ]
  },
  {
   "cell_type": "code",
   "execution_count": 7,
   "id": "775afd55-5730-41a7-a4c2-7e3ffe93e8c0",
   "metadata": {},
   "outputs": [
    {
     "data": {
      "text/plain": [
       "-97.9411111"
      ]
     },
     "execution_count": 7,
     "metadata": {},
     "output_type": "execute_result"
    }
   ],
   "source": [
    "# verification\n",
    "# third week\n",
    "longitudes[0]"
   ]
  },
  {
   "cell_type": "code",
   "execution_count": 8,
   "id": "d34faf65-1c7e-4c28-88e1-84897af157dc",
   "metadata": {},
   "outputs": [],
   "source": [
    "# dependencies\n",
    "# reference: sixth week's third day's second activity\n",
    "import requests\n",
    "import json"
   ]
  },
  {
   "cell_type": "code",
   "execution_count": 9,
   "id": "9c80df55-c786-47e5-8b83-131f04dc4970",
   "metadata": {},
   "outputs": [],
   "source": [
    "# importing key\n",
    "# reference: sixth week's third day's second activity\n",
    "from config import key"
   ]
  },
  {
   "cell_type": "code",
   "execution_count": 10,
   "id": "e328b04e-b4a0-479b-8e1d-136547bebecc",
   "metadata": {},
   "outputs": [],
   "source": [
    "# base\n",
    "# reference: sixth week's third day's second activity\n",
    "# reference: https://apidocs.geoapify.com/docs/geocoding/reverse-geocoding/\n",
    "base = \"https://api.geoapify.com/v1/geocode/reverse?parameter\""
   ]
  },
  {
   "cell_type": "code",
   "execution_count": 11,
   "id": "58184d7b-a817-49a2-81c6-f62d25eedda4",
   "metadata": {},
   "outputs": [],
   "source": [
    "# param\n",
    "# reference: sixth week's third day's second activity\n",
    "# reference: https://apidocs.geoapify.com/docs/geocoding/reverse-geocoding/\n",
    "param = {\n",
    "    \"lat\":latitudes[0],\n",
    "    \"lon\":longitudes[0],\n",
    "    \"format\":\"json\",\n",
    "    \"apiKey\":key\n",
    "    }"
   ]
  },
  {
   "cell_type": "code",
   "execution_count": 13,
   "id": "948f4233-5025-43c4-8402-2d557559daa9",
   "metadata": {},
   "outputs": [
    {
     "data": {
      "text/plain": [
       "{'lat': 29.8830556,\n",
       " 'lon': -97.9411111,\n",
       " 'format': 'json',\n",
       " 'apiKey': '29dd621f945a4c079d2e64166d57c703'}"
      ]
     },
     "execution_count": 13,
     "metadata": {},
     "output_type": "execute_result"
    }
   ],
   "source": [
    "# verificaton (not shown to keep key private)\n",
    "# third week\n",
    "param"
   ]
  },
  {
   "cell_type": "code",
   "execution_count": 14,
   "id": "6236f42f-e3a5-4472-aae3-ce1654681b34",
   "metadata": {},
   "outputs": [],
   "source": [
    "# response\n",
    "# reference: sixth week's third day's second activity\n",
    "response = requests.get(base, params=param)"
   ]
  },
  {
   "cell_type": "code",
   "execution_count": 16,
   "id": "cbc3ede4-e117-44aa-8417-37778e8e7782",
   "metadata": {},
   "outputs": [],
   "source": [
    "# verification (not shown to keep key private)\n",
    "# reference: sixth week's third day's second activity\n",
    "# print(response.url)"
   ]
  },
  {
   "cell_type": "code",
   "execution_count": 17,
   "id": "07496f80-6929-4c0c-b617-ae2efb633eaa",
   "metadata": {},
   "outputs": [],
   "source": [
    "# jsonifying response\n",
    "# reference: sixth week's third day's second activity\n",
    "dictionary = response.json()"
   ]
  },
  {
   "cell_type": "code",
   "execution_count": 23,
   "id": "a749829a-a2a1-450a-b0d4-a3298c21c5d8",
   "metadata": {},
   "outputs": [
    {
     "name": "stdout",
     "output_type": "stream",
     "text": [
      "{\n",
      "    \"results\": [\n",
      "        {\n",
      "            \"country_code\": \"us\",\n",
      "            \"housenumber\": \"101\",\n",
      "            \"street\": \"East Hopkins Street\",\n",
      "            \"country\": \"United States\",\n",
      "            \"county\": \"Hays County\",\n",
      "            \"datasource\": {\n",
      "                \"sourcename\": \"openaddresses\",\n",
      "                \"attribution\": \"\\u00a9 OpenAddresses contributors\",\n",
      "                \"license\": \"BSD-3-Clause License\"\n",
      "            },\n",
      "            \"postcode\": \"78666\",\n",
      "            \"state\": \"Texas\",\n",
      "            \"city\": \"San Marcos\",\n",
      "            \"state_code\": \"TX\",\n",
      "            \"lon\": -97.94126,\n",
      "            \"lat\": 29.883259,\n",
      "            \"distance\": 26.78834123665596,\n",
      "            \"result_type\": \"building\",\n",
      "            \"formatted\": \"101 East Hopkins Street, San Marcos, TX 78666, United States of America\",\n",
      "            \"address_line1\": \"101 East Hopkins Street\",\n",
      "            \"address_line2\": \"San Marcos, TX 78666, United States of America\",\n",
      "            \"timezone\": {\n",
      "                \"name\": \"America/Chicago\",\n",
      "                \"offset_STD\": \"-06:00\",\n",
      "                \"offset_STD_seconds\": -21600,\n",
      "                \"offset_DST\": \"-05:00\",\n",
      "                \"offset_DST_seconds\": -18000,\n",
      "                \"abbreviation_STD\": \"CST\",\n",
      "                \"abbreviation_DST\": \"CDT\"\n",
      "            },\n",
      "            \"plus_code\": \"76X4V3M5+8F\",\n",
      "            \"plus_code_short\": \"+8F, 78666 San Marcos, United States\",\n",
      "            \"rank\": {\n",
      "                \"popularity\": 4.751715804036409\n",
      "            },\n",
      "            \"place_id\": \"511c42959a3d7c58c059cde506431de23d40c00203e203426f70656e6164647265737365733a616464726573733a75732f74782f686179732d6164647265737365732d636f756e74793a66626131323139346436663936393963\"\n",
      "        }\n",
      "    ],\n",
      "    \"query\": {\n",
      "        \"lat\": 29.8830556,\n",
      "        \"lon\": -97.9411111,\n",
      "        \"plus_code\": \"76X4V3M5+6H\"\n",
      "    }\n",
      "}\n"
     ]
    }
   ],
   "source": [
    "# printing dictionaries\n",
    "# reference: \n",
    "print(json.dumps(dictionary, indent=4))"
   ]
  },
  {
   "cell_type": "code",
   "execution_count": 24,
   "id": "5839c63b-2579-47fe-a455-31fedc6e351d",
   "metadata": {},
   "outputs": [],
   "source": [
    "# county\n",
    "# reference: sixth week's third day's second activity\n",
    "county = dictionary[\"results\"][0][\"county\"]"
   ]
  },
  {
   "cell_type": "code",
   "execution_count": 25,
   "id": "3efe3cbd-bbd7-4379-b9d0-7db6a0d973d7",
   "metadata": {},
   "outputs": [
    {
     "data": {
      "text/plain": [
       "'Hays County'"
      ]
     },
     "execution_count": 25,
     "metadata": {},
     "output_type": "execute_result"
    }
   ],
   "source": [
    "# verification\n",
    "# third week\n",
    "county"
   ]
  },
  {
   "cell_type": "code",
   "execution_count": 34,
   "id": "d00054eb-46b5-43e9-a7fe-b7d07d0c4f09",
   "metadata": {},
   "outputs": [
    {
     "data": {
      "text/html": [
       "<div>\n",
       "<style scoped>\n",
       "    .dataframe tbody tr th:only-of-type {\n",
       "        vertical-align: middle;\n",
       "    }\n",
       "\n",
       "    .dataframe tbody tr th {\n",
       "        vertical-align: top;\n",
       "    }\n",
       "\n",
       "    .dataframe thead th {\n",
       "        text-align: right;\n",
       "    }\n",
       "</style>\n",
       "<table border=\"1\" class=\"dataframe\">\n",
       "  <thead>\n",
       "    <tr style=\"text-align: right;\">\n",
       "      <th></th>\n",
       "      <th>city</th>\n",
       "      <th>county</th>\n",
       "      <th>state</th>\n",
       "      <th>latitude</th>\n",
       "      <th>longitude</th>\n",
       "    </tr>\n",
       "  </thead>\n",
       "  <tbody>\n",
       "    <tr>\n",
       "      <th>0</th>\n",
       "      <td>san marcos</td>\n",
       "      <td>Hays County</td>\n",
       "      <td>tx</td>\n",
       "      <td>29.883056</td>\n",
       "      <td>-97.941111</td>\n",
       "    </tr>\n",
       "  </tbody>\n",
       "</table>\n",
       "</div>"
      ],
      "text/plain": [
       "         city       county state   latitude  longitude\n",
       "0  san marcos  Hays County    tx  29.883056 -97.941111"
      ]
     },
     "execution_count": 34,
     "metadata": {},
     "output_type": "execute_result"
    }
   ],
   "source": [
    "# cityandcounty\n",
    "# reference: fourth week's first day's third activity\n",
    "# xpert\n",
    "test = pd.DataFrame({\n",
    "    \"city\": [data[\"city\"][0]],\n",
    "    \"county\": [county],\n",
    "    \"state\": [data[\"state\"][0]],\n",
    "    \"latitude\": [latitudes[0]],\n",
    "    \"longitude\": [longitudes[0]]})\n",
    "test.head()"
   ]
  },
  {
   "cell_type": "code",
   "execution_count": 33,
   "id": "0addab1a-0faf-48f7-bc10-57c2f8b7997a",
   "metadata": {},
   "outputs": [],
   "source": [
    "# saving data\n",
    "# fourth week's second day's third activity\n",
    "test.to_csv(\"Data/test.csv\", index=False, encoding='utf-8')"
   ]
  }
 ],
 "metadata": {
  "kernelspec": {
   "display_name": "Python 3 (ipykernel)",
   "language": "python",
   "name": "python3"
  },
  "language_info": {
   "codemirror_mode": {
    "name": "ipython",
    "version": 3
   },
   "file_extension": ".py",
   "mimetype": "text/x-python",
   "name": "python",
   "nbconvert_exporter": "python",
   "pygments_lexer": "ipython3",
   "version": "3.10.14"
  }
 },
 "nbformat": 4,
 "nbformat_minor": 5
}
