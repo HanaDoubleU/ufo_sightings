{
 "cells": [
  {
   "cell_type": "code",
   "execution_count": 1,
   "id": "828007d4-0d3a-4b98-94b5-334db6ad2568",
   "metadata": {},
   "outputs": [],
   "source": [
    "# dependencies\n",
    "# reference: fourth week's third day's first activity\n",
    "# xpert\n",
    "import pandas as pd\n",
    "import geopandas as gpd\n",
    "# instructor's resources on slack\n",
    "    # https://realpython.com/python-folium-web-maps-from-data/#install-folium\n",
    "import folium\n",
    "# https://python-visualization.github.io/folium/latest/advanced_guide/colormaps.html\n",
    "# tutoring session\n",
    "import branca.colormap as cm\n",
    "# https://stackoverflow.com/questions/49699048/numpy-pandas-remove-outliers\n",
    "import numpy as np"
   ]
  },
  {
   "cell_type": "code",
   "execution_count": 2,
   "id": "a40b133a-5407-4fd9-a875-be1846abfe03",
   "metadata": {},
   "outputs": [],
   "source": [
    "# dependency\n",
    "# fourth week's first day's ninth activity\n",
    "from pathlib import Path"
   ]
  },
  {
   "cell_type": "code",
   "execution_count": 3,
   "id": "c625728a-f7a5-4258-ade0-fbaa93916a0d",
   "metadata": {},
   "outputs": [],
   "source": [
    "# path\n",
    "# fourth week's first day's ninth activity\n",
    "# tutoring session\n",
    "PATHtochoropleth = Path(\"Data/choropleth.geojson\")"
   ]
  },
  {
   "cell_type": "code",
   "execution_count": 4,
   "id": "46953f18-06ad-489d-a2a0-3125a097fb7b",
   "metadata": {},
   "outputs": [
    {
     "name": "stdout",
     "output_type": "stream",
     "text": [
      "(2672, 4)\n"
     ]
    },
    {
     "data": {
      "text/html": [
       "<div>\n",
       "<style scoped>\n",
       "    .dataframe tbody tr th:only-of-type {\n",
       "        vertical-align: middle;\n",
       "    }\n",
       "\n",
       "    .dataframe tbody tr th {\n",
       "        vertical-align: top;\n",
       "    }\n",
       "\n",
       "    .dataframe thead th {\n",
       "        text-align: right;\n",
       "    }\n",
       "</style>\n",
       "<table border=\"1\" class=\"dataframe\">\n",
       "  <thead>\n",
       "    <tr style=\"text-align: right;\">\n",
       "      <th></th>\n",
       "      <th>county</th>\n",
       "      <th>state</th>\n",
       "      <th>counts</th>\n",
       "      <th>geometry</th>\n",
       "    </tr>\n",
       "  </thead>\n",
       "  <tbody>\n",
       "    <tr>\n",
       "      <th>0</th>\n",
       "      <td>los angeles</td>\n",
       "      <td>california</td>\n",
       "      <td>1736</td>\n",
       "      <td>MULTIPOLYGON (((-118.67822 33.03973, -118.6785...</td>\n",
       "    </tr>\n",
       "    <tr>\n",
       "      <th>1</th>\n",
       "      <td>maricopa</td>\n",
       "      <td>arizona</td>\n",
       "      <td>1274</td>\n",
       "      <td>POLYGON ((-111.89310 33.20471, -111.89310 33.2...</td>\n",
       "    </tr>\n",
       "    <tr>\n",
       "      <th>2</th>\n",
       "      <td>king</td>\n",
       "      <td>washington</td>\n",
       "      <td>1095</td>\n",
       "      <td>POLYGON ((-122.00036 47.77540, -122.00038 47.7...</td>\n",
       "    </tr>\n",
       "    <tr>\n",
       "      <th>3</th>\n",
       "      <td>san diego</td>\n",
       "      <td>california</td>\n",
       "      <td>808</td>\n",
       "      <td>POLYGON ((-116.85262 32.55747, -116.85088 32.5...</td>\n",
       "    </tr>\n",
       "    <tr>\n",
       "      <th>4</th>\n",
       "      <td>cook</td>\n",
       "      <td>illinois</td>\n",
       "      <td>781</td>\n",
       "      <td>POLYGON ((-87.52500 41.64464, -87.52485 41.647...</td>\n",
       "    </tr>\n",
       "  </tbody>\n",
       "</table>\n",
       "</div>"
      ],
      "text/plain": [
       "        county       state  counts  \\\n",
       "0  los angeles  california    1736   \n",
       "1     maricopa     arizona    1274   \n",
       "2         king  washington    1095   \n",
       "3    san diego  california     808   \n",
       "4         cook    illinois     781   \n",
       "\n",
       "                                            geometry  \n",
       "0  MULTIPOLYGON (((-118.67822 33.03973, -118.6785...  \n",
       "1  POLYGON ((-111.89310 33.20471, -111.89310 33.2...  \n",
       "2  POLYGON ((-122.00036 47.77540, -122.00038 47.7...  \n",
       "3  POLYGON ((-116.85262 32.55747, -116.85088 32.5...  \n",
       "4  POLYGON ((-87.52500 41.64464, -87.52485 41.647...  "
      ]
     },
     "execution_count": 4,
     "metadata": {},
     "output_type": "execute_result"
    }
   ],
   "source": [
    "# reading choropleth.geojson\n",
    "# tutoring session\n",
    "normalplusoutliers = gpd.read_file(PATHtochoropleth)\n",
    "# verification\n",
    "# tutoring session\n",
    "print(normalplusoutliers.shape)\n",
    "normalplusoutliers.head()"
   ]
  },
  {
   "cell_type": "code",
   "execution_count": 5,
   "id": "19abfb60-c63d-48f5-a744-7f2b624a6755",
   "metadata": {},
   "outputs": [],
   "source": [
    "# getting lower, more common values; getting normal values\n",
    "# https://stackoverflow.com/questions/49699048/numpy-pandas-remove-outliers\n",
    "def nooutliers(data):\n",
    "    q1, q3 = np.percentile(data, [25, 75])\n",
    "    iqr = q3 - q1\n",
    "    lowerbound = q1 - (iqr * 1.5)\n",
    "    upperbound = q3 + (iqr * 1.5)\n",
    "    # xpert\n",
    "    return np.where((data < lowerbound) | ((data >= lowerbound) & (data <= upperbound)))"
   ]
  },
  {
   "cell_type": "code",
   "execution_count": 6,
   "id": "0999a304-3b76-4343-9290-5666d139f9de",
   "metadata": {},
   "outputs": [
    {
     "name": "stdout",
     "output_type": "stream",
     "text": [
      "(2321, 4)\n"
     ]
    },
    {
     "data": {
      "text/html": [
       "<div>\n",
       "<style scoped>\n",
       "    .dataframe tbody tr th:only-of-type {\n",
       "        vertical-align: middle;\n",
       "    }\n",
       "\n",
       "    .dataframe tbody tr th {\n",
       "        vertical-align: top;\n",
       "    }\n",
       "\n",
       "    .dataframe thead th {\n",
       "        text-align: right;\n",
       "    }\n",
       "</style>\n",
       "<table border=\"1\" class=\"dataframe\">\n",
       "  <thead>\n",
       "    <tr style=\"text-align: right;\">\n",
       "      <th></th>\n",
       "      <th>county</th>\n",
       "      <th>state</th>\n",
       "      <th>counts</th>\n",
       "      <th>geometry</th>\n",
       "    </tr>\n",
       "  </thead>\n",
       "  <tbody>\n",
       "    <tr>\n",
       "      <th>351</th>\n",
       "      <td>benton</td>\n",
       "      <td>oregon</td>\n",
       "      <td>38</td>\n",
       "      <td>POLYGON ((-123.45570 44.28065, -123.45129 44.2...</td>\n",
       "    </tr>\n",
       "    <tr>\n",
       "      <th>352</th>\n",
       "      <td>hawaii</td>\n",
       "      <td>hawaii</td>\n",
       "      <td>38</td>\n",
       "      <td>POLYGON ((-155.03001 19.79210, -155.03333 19.7...</td>\n",
       "    </tr>\n",
       "    <tr>\n",
       "      <th>353</th>\n",
       "      <td>la crosse</td>\n",
       "      <td>wisconsin</td>\n",
       "      <td>38</td>\n",
       "      <td>POLYGON ((-91.21186 44.06695, -91.21195 44.066...</td>\n",
       "    </tr>\n",
       "    <tr>\n",
       "      <th>354</th>\n",
       "      <td>medina</td>\n",
       "      <td>ohio</td>\n",
       "      <td>38</td>\n",
       "      <td>POLYGON ((-81.68769 41.04810, -81.68769 41.048...</td>\n",
       "    </tr>\n",
       "    <tr>\n",
       "      <th>355</th>\n",
       "      <td>yellowstone</td>\n",
       "      <td>montana</td>\n",
       "      <td>38</td>\n",
       "      <td>POLYGON ((-107.47432 46.15519, -107.47382 46.1...</td>\n",
       "    </tr>\n",
       "  </tbody>\n",
       "</table>\n",
       "</div>"
      ],
      "text/plain": [
       "          county      state  counts  \\\n",
       "351       benton     oregon      38   \n",
       "352       hawaii     hawaii      38   \n",
       "353    la crosse  wisconsin      38   \n",
       "354       medina       ohio      38   \n",
       "355  yellowstone    montana      38   \n",
       "\n",
       "                                              geometry  \n",
       "351  POLYGON ((-123.45570 44.28065, -123.45129 44.2...  \n",
       "352  POLYGON ((-155.03001 19.79210, -155.03333 19.7...  \n",
       "353  POLYGON ((-91.21186 44.06695, -91.21195 44.066...  \n",
       "354  POLYGON ((-81.68769 41.04810, -81.68769 41.048...  \n",
       "355  POLYGON ((-107.47432 46.15519, -107.47382 46.1...  "
      ]
     },
     "execution_count": 6,
     "metadata": {},
     "output_type": "execute_result"
    }
   ],
   "source": [
    "# normal, no outliers\n",
    "# https://stackoverflow.com/questions/49699048/numpy-pandas-remove-outliers\n",
    "# xpert\n",
    "normal = normalplusoutliers.iloc[nooutliers(normalplusoutliers[\"counts\"])]\n",
    "print(normal.shape)\n",
    "normal.head()"
   ]
  },
  {
   "cell_type": "code",
   "execution_count": 7,
   "id": "e54db10c-99c6-4822-b4d0-766ef08bb91e",
   "metadata": {},
   "outputs": [],
   "source": [
    "# base\n",
    "# https://python-visualization.github.io/folium/latest/user_guide/geojson/choropleth.html\n",
    "# https://www.openstreetmap.org/#map=3/38.01/-95.84\n",
    "base = folium.Map(location=[38.01, -95.84], zoom_start=3)"
   ]
  },
  {
   "cell_type": "code",
   "execution_count": 8,
   "id": "90095927-3ca4-4021-89db-49d69a17b99e",
   "metadata": {},
   "outputs": [],
   "source": [
    "# popup\n",
    "# https://python-visualization.github.io/folium/latest/user_guide/geojson/geojson_popup_and_tooltip.html\n",
    "popup = folium.GeoJsonPopup(\n",
    "    fields=[\"county\", \"counts\"],\n",
    "    aliases=[\"county\", \"sightings\"],\n",
    "    labels=True,\n",
    ")"
   ]
  },
  {
   "cell_type": "code",
   "execution_count": 9,
   "id": "fd98e323-614a-4d0a-bac1-07d9b81c8b95",
   "metadata": {},
   "outputs": [
    {
     "data": {
      "text/html": [
       "<svg height=\"40\" width=\"450\"><line x1=\"0\" y1=\"15\" x2=\"0\" y2=\"27\" style=\"stroke:#fff7fbff;stroke-width:2;\" /><line x1=\"1\" y1=\"15\" x2=\"1\" y2=\"27\" style=\"stroke:#fff7fbff;stroke-width:2;\" /><line x1=\"2\" y1=\"15\" x2=\"2\" y2=\"27\" style=\"stroke:#fff7fbff;stroke-width:2;\" /><line x1=\"3\" y1=\"15\" x2=\"3\" y2=\"27\" style=\"stroke:#fef6fbff;stroke-width:2;\" /><line x1=\"4\" y1=\"15\" x2=\"4\" y2=\"27\" style=\"stroke:#fef6fbff;stroke-width:2;\" /><line x1=\"5\" y1=\"15\" x2=\"5\" y2=\"27\" style=\"stroke:#fef6fbff;stroke-width:2;\" /><line x1=\"6\" y1=\"15\" x2=\"6\" y2=\"27\" style=\"stroke:#fdf5faff;stroke-width:2;\" /><line x1=\"7\" y1=\"15\" x2=\"7\" y2=\"27\" style=\"stroke:#fdf5faff;stroke-width:2;\" /><line x1=\"8\" y1=\"15\" x2=\"8\" y2=\"27\" style=\"stroke:#fdf4faff;stroke-width:2;\" /><line x1=\"9\" y1=\"15\" x2=\"9\" y2=\"27\" style=\"stroke:#fcf4faff;stroke-width:2;\" /><line x1=\"10\" y1=\"15\" x2=\"10\" y2=\"27\" style=\"stroke:#fcf4faff;stroke-width:2;\" /><line x1=\"11\" y1=\"15\" x2=\"11\" y2=\"27\" style=\"stroke:#fcf3f9ff;stroke-width:2;\" /><line x1=\"12\" y1=\"15\" x2=\"12\" y2=\"27\" style=\"stroke:#fbf3f9ff;stroke-width:2;\" /><line x1=\"13\" y1=\"15\" x2=\"13\" y2=\"27\" style=\"stroke:#fbf3f9ff;stroke-width:2;\" /><line x1=\"14\" y1=\"15\" x2=\"14\" y2=\"27\" style=\"stroke:#fbf2f9ff;stroke-width:2;\" /><line x1=\"15\" y1=\"15\" x2=\"15\" y2=\"27\" style=\"stroke:#faf2f9ff;stroke-width:2;\" /><line x1=\"16\" y1=\"15\" x2=\"16\" y2=\"27\" style=\"stroke:#faf1f8ff;stroke-width:2;\" /><line x1=\"17\" y1=\"15\" x2=\"17\" y2=\"27\" style=\"stroke:#faf1f8ff;stroke-width:2;\" /><line x1=\"18\" y1=\"15\" x2=\"18\" y2=\"27\" style=\"stroke:#f9f1f8ff;stroke-width:2;\" /><line x1=\"19\" y1=\"15\" x2=\"19\" y2=\"27\" style=\"stroke:#f9f0f8ff;stroke-width:2;\" /><line x1=\"20\" y1=\"15\" x2=\"20\" y2=\"27\" style=\"stroke:#f9f0f8ff;stroke-width:2;\" /><line x1=\"21\" y1=\"15\" x2=\"21\" y2=\"27\" style=\"stroke:#f8f0f7ff;stroke-width:2;\" /><line x1=\"22\" y1=\"15\" x2=\"22\" y2=\"27\" style=\"stroke:#f8eff7ff;stroke-width:2;\" /><line x1=\"23\" y1=\"15\" x2=\"23\" y2=\"27\" style=\"stroke:#f8eff7ff;stroke-width:2;\" /><line x1=\"24\" y1=\"15\" x2=\"24\" y2=\"27\" style=\"stroke:#f7eef7ff;stroke-width:2;\" /><line x1=\"25\" y1=\"15\" x2=\"25\" y2=\"27\" style=\"stroke:#f7eef7ff;stroke-width:2;\" /><line x1=\"26\" y1=\"15\" x2=\"26\" y2=\"27\" style=\"stroke:#f7eef6ff;stroke-width:2;\" /><line x1=\"27\" y1=\"15\" x2=\"27\" y2=\"27\" style=\"stroke:#f6edf6ff;stroke-width:2;\" /><line x1=\"28\" y1=\"15\" x2=\"28\" y2=\"27\" style=\"stroke:#f6edf6ff;stroke-width:2;\" /><line x1=\"29\" y1=\"15\" x2=\"29\" y2=\"27\" style=\"stroke:#f6edf6ff;stroke-width:2;\" /><line x1=\"30\" y1=\"15\" x2=\"30\" y2=\"27\" style=\"stroke:#f5ecf6ff;stroke-width:2;\" /><line x1=\"31\" y1=\"15\" x2=\"31\" y2=\"27\" style=\"stroke:#f5ecf5ff;stroke-width:2;\" /><line x1=\"32\" y1=\"15\" x2=\"32\" y2=\"27\" style=\"stroke:#f5ebf5ff;stroke-width:2;\" /><line x1=\"33\" y1=\"15\" x2=\"33\" y2=\"27\" style=\"stroke:#f4ebf5ff;stroke-width:2;\" /><line x1=\"34\" y1=\"15\" x2=\"34\" y2=\"27\" style=\"stroke:#f4ebf5ff;stroke-width:2;\" /><line x1=\"35\" y1=\"15\" x2=\"35\" y2=\"27\" style=\"stroke:#f4eaf5ff;stroke-width:2;\" /><line x1=\"36\" y1=\"15\" x2=\"36\" y2=\"27\" style=\"stroke:#f3eaf4ff;stroke-width:2;\" /><line x1=\"37\" y1=\"15\" x2=\"37\" y2=\"27\" style=\"stroke:#f3eaf4ff;stroke-width:2;\" /><line x1=\"38\" y1=\"15\" x2=\"38\" y2=\"27\" style=\"stroke:#f3e9f4ff;stroke-width:2;\" /><line x1=\"39\" y1=\"15\" x2=\"39\" y2=\"27\" style=\"stroke:#f2e9f4ff;stroke-width:2;\" /><line x1=\"40\" y1=\"15\" x2=\"40\" y2=\"27\" style=\"stroke:#f2e8f4ff;stroke-width:2;\" /><line x1=\"41\" y1=\"15\" x2=\"41\" y2=\"27\" style=\"stroke:#f2e8f3ff;stroke-width:2;\" /><line x1=\"42\" y1=\"15\" x2=\"42\" y2=\"27\" style=\"stroke:#f1e8f3ff;stroke-width:2;\" /><line x1=\"43\" y1=\"15\" x2=\"43\" y2=\"27\" style=\"stroke:#f1e7f3ff;stroke-width:2;\" /><line x1=\"44\" y1=\"15\" x2=\"44\" y2=\"27\" style=\"stroke:#f1e7f3ff;stroke-width:2;\" /><line x1=\"45\" y1=\"15\" x2=\"45\" y2=\"27\" style=\"stroke:#f0e7f3ff;stroke-width:2;\" /><line x1=\"46\" y1=\"15\" x2=\"46\" y2=\"27\" style=\"stroke:#f0e6f2ff;stroke-width:2;\" /><line x1=\"47\" y1=\"15\" x2=\"47\" y2=\"27\" style=\"stroke:#f0e6f2ff;stroke-width:2;\" /><line x1=\"48\" y1=\"15\" x2=\"48\" y2=\"27\" style=\"stroke:#efe5f2ff;stroke-width:2;\" /><line x1=\"49\" y1=\"15\" x2=\"49\" y2=\"27\" style=\"stroke:#efe5f2ff;stroke-width:2;\" /><line x1=\"50\" y1=\"15\" x2=\"50\" y2=\"27\" style=\"stroke:#efe5f2ff;stroke-width:2;\" /><line x1=\"51\" y1=\"15\" x2=\"51\" y2=\"27\" style=\"stroke:#eee4f1ff;stroke-width:2;\" /><line x1=\"52\" y1=\"15\" x2=\"52\" y2=\"27\" style=\"stroke:#eee4f1ff;stroke-width:2;\" /><line x1=\"53\" y1=\"15\" x2=\"53\" y2=\"27\" style=\"stroke:#ede4f1ff;stroke-width:2;\" /><line x1=\"54\" y1=\"15\" x2=\"54\" y2=\"27\" style=\"stroke:#ede3f1ff;stroke-width:2;\" /><line x1=\"55\" y1=\"15\" x2=\"55\" y2=\"27\" style=\"stroke:#ede3f1ff;stroke-width:2;\" /><line x1=\"56\" y1=\"15\" x2=\"56\" y2=\"27\" style=\"stroke:#ece2f0ff;stroke-width:2;\" /><line x1=\"57\" y1=\"15\" x2=\"57\" y2=\"27\" style=\"stroke:#ece2f0ff;stroke-width:2;\" /><line x1=\"58\" y1=\"15\" x2=\"58\" y2=\"27\" style=\"stroke:#ebe2f0ff;stroke-width:2;\" /><line x1=\"59\" y1=\"15\" x2=\"59\" y2=\"27\" style=\"stroke:#ebe2f0ff;stroke-width:2;\" /><line x1=\"60\" y1=\"15\" x2=\"60\" y2=\"27\" style=\"stroke:#eae1f0ff;stroke-width:2;\" /><line x1=\"61\" y1=\"15\" x2=\"61\" y2=\"27\" style=\"stroke:#eae1f0ff;stroke-width:2;\" /><line x1=\"62\" y1=\"15\" x2=\"62\" y2=\"27\" style=\"stroke:#e9e1efff;stroke-width:2;\" /><line x1=\"63\" y1=\"15\" x2=\"63\" y2=\"27\" style=\"stroke:#e9e0efff;stroke-width:2;\" /><line x1=\"64\" y1=\"15\" x2=\"64\" y2=\"27\" style=\"stroke:#e8e0efff;stroke-width:2;\" /><line x1=\"65\" y1=\"15\" x2=\"65\" y2=\"27\" style=\"stroke:#e8e0efff;stroke-width:2;\" /><line x1=\"66\" y1=\"15\" x2=\"66\" y2=\"27\" style=\"stroke:#e7dfefff;stroke-width:2;\" /><line x1=\"67\" y1=\"15\" x2=\"67\" y2=\"27\" style=\"stroke:#e7dfeeff;stroke-width:2;\" /><line x1=\"68\" y1=\"15\" x2=\"68\" y2=\"27\" style=\"stroke:#e6dfeeff;stroke-width:2;\" /><line x1=\"69\" y1=\"15\" x2=\"69\" y2=\"27\" style=\"stroke:#e6deeeff;stroke-width:2;\" /><line x1=\"70\" y1=\"15\" x2=\"70\" y2=\"27\" style=\"stroke:#e5deeeff;stroke-width:2;\" /><line x1=\"71\" y1=\"15\" x2=\"71\" y2=\"27\" style=\"stroke:#e5deeeff;stroke-width:2;\" /><line x1=\"72\" y1=\"15\" x2=\"72\" y2=\"27\" style=\"stroke:#e4deeeff;stroke-width:2;\" /><line x1=\"73\" y1=\"15\" x2=\"73\" y2=\"27\" style=\"stroke:#e4ddedff;stroke-width:2;\" /><line x1=\"74\" y1=\"15\" x2=\"74\" y2=\"27\" style=\"stroke:#e3ddedff;stroke-width:2;\" /><line x1=\"75\" y1=\"15\" x2=\"75\" y2=\"27\" style=\"stroke:#e3ddedff;stroke-width:2;\" /><line x1=\"76\" y1=\"15\" x2=\"76\" y2=\"27\" style=\"stroke:#e2dcedff;stroke-width:2;\" /><line x1=\"77\" y1=\"15\" x2=\"77\" y2=\"27\" style=\"stroke:#e2dcedff;stroke-width:2;\" /><line x1=\"78\" y1=\"15\" x2=\"78\" y2=\"27\" style=\"stroke:#e1dcedff;stroke-width:2;\" /><line x1=\"79\" y1=\"15\" x2=\"79\" y2=\"27\" style=\"stroke:#e1dbecff;stroke-width:2;\" /><line x1=\"80\" y1=\"15\" x2=\"80\" y2=\"27\" style=\"stroke:#e0dbecff;stroke-width:2;\" /><line x1=\"81\" y1=\"15\" x2=\"81\" y2=\"27\" style=\"stroke:#e0dbecff;stroke-width:2;\" /><line x1=\"82\" y1=\"15\" x2=\"82\" y2=\"27\" style=\"stroke:#dfdbecff;stroke-width:2;\" /><line x1=\"83\" y1=\"15\" x2=\"83\" y2=\"27\" style=\"stroke:#dfdaecff;stroke-width:2;\" /><line x1=\"84\" y1=\"15\" x2=\"84\" y2=\"27\" style=\"stroke:#dedaebff;stroke-width:2;\" /><line x1=\"85\" y1=\"15\" x2=\"85\" y2=\"27\" style=\"stroke:#dedaebff;stroke-width:2;\" /><line x1=\"86\" y1=\"15\" x2=\"86\" y2=\"27\" style=\"stroke:#ddd9ebff;stroke-width:2;\" /><line x1=\"87\" y1=\"15\" x2=\"87\" y2=\"27\" style=\"stroke:#ddd9ebff;stroke-width:2;\" /><line x1=\"88\" y1=\"15\" x2=\"88\" y2=\"27\" style=\"stroke:#dcd9ebff;stroke-width:2;\" /><line x1=\"89\" y1=\"15\" x2=\"89\" y2=\"27\" style=\"stroke:#dcd8ebff;stroke-width:2;\" /><line x1=\"90\" y1=\"15\" x2=\"90\" y2=\"27\" style=\"stroke:#dbd8eaff;stroke-width:2;\" /><line x1=\"91\" y1=\"15\" x2=\"91\" y2=\"27\" style=\"stroke:#dbd8eaff;stroke-width:2;\" /><line x1=\"92\" y1=\"15\" x2=\"92\" y2=\"27\" style=\"stroke:#dad7eaff;stroke-width:2;\" /><line x1=\"93\" y1=\"15\" x2=\"93\" y2=\"27\" style=\"stroke:#dad7eaff;stroke-width:2;\" /><line x1=\"94\" y1=\"15\" x2=\"94\" y2=\"27\" style=\"stroke:#d9d7eaff;stroke-width:2;\" /><line x1=\"95\" y1=\"15\" x2=\"95\" y2=\"27\" style=\"stroke:#d9d7e9ff;stroke-width:2;\" /><line x1=\"96\" y1=\"15\" x2=\"96\" y2=\"27\" style=\"stroke:#d8d6e9ff;stroke-width:2;\" /><line x1=\"97\" y1=\"15\" x2=\"97\" y2=\"27\" style=\"stroke:#d8d6e9ff;stroke-width:2;\" /><line x1=\"98\" y1=\"15\" x2=\"98\" y2=\"27\" style=\"stroke:#d7d6e9ff;stroke-width:2;\" /><line x1=\"99\" y1=\"15\" x2=\"99\" y2=\"27\" style=\"stroke:#d7d5e9ff;stroke-width:2;\" /><line x1=\"100\" y1=\"15\" x2=\"100\" y2=\"27\" style=\"stroke:#d6d5e9ff;stroke-width:2;\" /><line x1=\"101\" y1=\"15\" x2=\"101\" y2=\"27\" style=\"stroke:#d6d5e8ff;stroke-width:2;\" /><line x1=\"102\" y1=\"15\" x2=\"102\" y2=\"27\" style=\"stroke:#d5d4e8ff;stroke-width:2;\" /><line x1=\"103\" y1=\"15\" x2=\"103\" y2=\"27\" style=\"stroke:#d5d4e8ff;stroke-width:2;\" /><line x1=\"104\" y1=\"15\" x2=\"104\" y2=\"27\" style=\"stroke:#d4d4e8ff;stroke-width:2;\" /><line x1=\"105\" y1=\"15\" x2=\"105\" y2=\"27\" style=\"stroke:#d4d4e8ff;stroke-width:2;\" /><line x1=\"106\" y1=\"15\" x2=\"106\" y2=\"27\" style=\"stroke:#d3d3e8ff;stroke-width:2;\" /><line x1=\"107\" y1=\"15\" x2=\"107\" y2=\"27\" style=\"stroke:#d3d3e7ff;stroke-width:2;\" /><line x1=\"108\" y1=\"15\" x2=\"108\" y2=\"27\" style=\"stroke:#d2d3e7ff;stroke-width:2;\" /><line x1=\"109\" y1=\"15\" x2=\"109\" y2=\"27\" style=\"stroke:#d2d2e7ff;stroke-width:2;\" /><line x1=\"110\" y1=\"15\" x2=\"110\" y2=\"27\" style=\"stroke:#d1d2e7ff;stroke-width:2;\" /><line x1=\"111\" y1=\"15\" x2=\"111\" y2=\"27\" style=\"stroke:#d1d2e7ff;stroke-width:2;\" /><line x1=\"112\" y1=\"15\" x2=\"112\" y2=\"27\" style=\"stroke:#d0d1e6ff;stroke-width:2;\" /><line x1=\"113\" y1=\"15\" x2=\"113\" y2=\"27\" style=\"stroke:#d0d1e6ff;stroke-width:2;\" /><line x1=\"114\" y1=\"15\" x2=\"114\" y2=\"27\" style=\"stroke:#cfd1e6ff;stroke-width:2;\" /><line x1=\"115\" y1=\"15\" x2=\"115\" y2=\"27\" style=\"stroke:#ced0e6ff;stroke-width:2;\" /><line x1=\"116\" y1=\"15\" x2=\"116\" y2=\"27\" style=\"stroke:#cdd0e6ff;stroke-width:2;\" /><line x1=\"117\" y1=\"15\" x2=\"117\" y2=\"27\" style=\"stroke:#cdd0e5ff;stroke-width:2;\" /><line x1=\"118\" y1=\"15\" x2=\"118\" y2=\"27\" style=\"stroke:#cccfe5ff;stroke-width:2;\" /><line x1=\"119\" y1=\"15\" x2=\"119\" y2=\"27\" style=\"stroke:#cbcfe5ff;stroke-width:2;\" /><line x1=\"120\" y1=\"15\" x2=\"120\" y2=\"27\" style=\"stroke:#cacfe5ff;stroke-width:2;\" /><line x1=\"121\" y1=\"15\" x2=\"121\" y2=\"27\" style=\"stroke:#cacee5ff;stroke-width:2;\" /><line x1=\"122\" y1=\"15\" x2=\"122\" y2=\"27\" style=\"stroke:#c9cee4ff;stroke-width:2;\" /><line x1=\"123\" y1=\"15\" x2=\"123\" y2=\"27\" style=\"stroke:#c8cde4ff;stroke-width:2;\" /><line x1=\"124\" y1=\"15\" x2=\"124\" y2=\"27\" style=\"stroke:#c7cde4ff;stroke-width:2;\" /><line x1=\"125\" y1=\"15\" x2=\"125\" y2=\"27\" style=\"stroke:#c7cde4ff;stroke-width:2;\" /><line x1=\"126\" y1=\"15\" x2=\"126\" y2=\"27\" style=\"stroke:#c6cce4ff;stroke-width:2;\" /><line x1=\"127\" y1=\"15\" x2=\"127\" y2=\"27\" style=\"stroke:#c5cce3ff;stroke-width:2;\" /><line x1=\"128\" y1=\"15\" x2=\"128\" y2=\"27\" style=\"stroke:#c4cce3ff;stroke-width:2;\" /><line x1=\"129\" y1=\"15\" x2=\"129\" y2=\"27\" style=\"stroke:#c4cbe3ff;stroke-width:2;\" /><line x1=\"130\" y1=\"15\" x2=\"130\" y2=\"27\" style=\"stroke:#c3cbe3ff;stroke-width:2;\" /><line x1=\"131\" y1=\"15\" x2=\"131\" y2=\"27\" style=\"stroke:#c2cbe3ff;stroke-width:2;\" /><line x1=\"132\" y1=\"15\" x2=\"132\" y2=\"27\" style=\"stroke:#c1cae3ff;stroke-width:2;\" /><line x1=\"133\" y1=\"15\" x2=\"133\" y2=\"27\" style=\"stroke:#c1cae2ff;stroke-width:2;\" /><line x1=\"134\" y1=\"15\" x2=\"134\" y2=\"27\" style=\"stroke:#c0cae2ff;stroke-width:2;\" /><line x1=\"135\" y1=\"15\" x2=\"135\" y2=\"27\" style=\"stroke:#bfc9e2ff;stroke-width:2;\" /><line x1=\"136\" y1=\"15\" x2=\"136\" y2=\"27\" style=\"stroke:#bec9e2ff;stroke-width:2;\" /><line x1=\"137\" y1=\"15\" x2=\"137\" y2=\"27\" style=\"stroke:#bec8e2ff;stroke-width:2;\" /><line x1=\"138\" y1=\"15\" x2=\"138\" y2=\"27\" style=\"stroke:#bdc8e1ff;stroke-width:2;\" /><line x1=\"139\" y1=\"15\" x2=\"139\" y2=\"27\" style=\"stroke:#bcc8e1ff;stroke-width:2;\" /><line x1=\"140\" y1=\"15\" x2=\"140\" y2=\"27\" style=\"stroke:#bbc7e1ff;stroke-width:2;\" /><line x1=\"141\" y1=\"15\" x2=\"141\" y2=\"27\" style=\"stroke:#bbc7e1ff;stroke-width:2;\" /><line x1=\"142\" y1=\"15\" x2=\"142\" y2=\"27\" style=\"stroke:#bac7e1ff;stroke-width:2;\" /><line x1=\"143\" y1=\"15\" x2=\"143\" y2=\"27\" style=\"stroke:#b9c6e0ff;stroke-width:2;\" /><line x1=\"144\" y1=\"15\" x2=\"144\" y2=\"27\" style=\"stroke:#b8c6e0ff;stroke-width:2;\" /><line x1=\"145\" y1=\"15\" x2=\"145\" y2=\"27\" style=\"stroke:#b8c6e0ff;stroke-width:2;\" /><line x1=\"146\" y1=\"15\" x2=\"146\" y2=\"27\" style=\"stroke:#b7c5e0ff;stroke-width:2;\" /><line x1=\"147\" y1=\"15\" x2=\"147\" y2=\"27\" style=\"stroke:#b6c5e0ff;stroke-width:2;\" /><line x1=\"148\" y1=\"15\" x2=\"148\" y2=\"27\" style=\"stroke:#b5c5dfff;stroke-width:2;\" /><line x1=\"149\" y1=\"15\" x2=\"149\" y2=\"27\" style=\"stroke:#b5c4dfff;stroke-width:2;\" /><line x1=\"150\" y1=\"15\" x2=\"150\" y2=\"27\" style=\"stroke:#b4c4dfff;stroke-width:2;\" /><line x1=\"151\" y1=\"15\" x2=\"151\" y2=\"27\" style=\"stroke:#b3c3dfff;stroke-width:2;\" /><line x1=\"152\" y1=\"15\" x2=\"152\" y2=\"27\" style=\"stroke:#b2c3dfff;stroke-width:2;\" /><line x1=\"153\" y1=\"15\" x2=\"153\" y2=\"27\" style=\"stroke:#b2c3deff;stroke-width:2;\" /><line x1=\"154\" y1=\"15\" x2=\"154\" y2=\"27\" style=\"stroke:#b1c2deff;stroke-width:2;\" /><line x1=\"155\" y1=\"15\" x2=\"155\" y2=\"27\" style=\"stroke:#b0c2deff;stroke-width:2;\" /><line x1=\"156\" y1=\"15\" x2=\"156\" y2=\"27\" style=\"stroke:#afc2deff;stroke-width:2;\" /><line x1=\"157\" y1=\"15\" x2=\"157\" y2=\"27\" style=\"stroke:#afc1deff;stroke-width:2;\" /><line x1=\"158\" y1=\"15\" x2=\"158\" y2=\"27\" style=\"stroke:#aec1ddff;stroke-width:2;\" /><line x1=\"159\" y1=\"15\" x2=\"159\" y2=\"27\" style=\"stroke:#adc1ddff;stroke-width:2;\" /><line x1=\"160\" y1=\"15\" x2=\"160\" y2=\"27\" style=\"stroke:#acc0ddff;stroke-width:2;\" /><line x1=\"161\" y1=\"15\" x2=\"161\" y2=\"27\" style=\"stroke:#acc0ddff;stroke-width:2;\" /><line x1=\"162\" y1=\"15\" x2=\"162\" y2=\"27\" style=\"stroke:#abc0ddff;stroke-width:2;\" /><line x1=\"163\" y1=\"15\" x2=\"163\" y2=\"27\" style=\"stroke:#aabfdcff;stroke-width:2;\" /><line x1=\"164\" y1=\"15\" x2=\"164\" y2=\"27\" style=\"stroke:#a9bfdcff;stroke-width:2;\" /><line x1=\"165\" y1=\"15\" x2=\"165\" y2=\"27\" style=\"stroke:#a9bedcff;stroke-width:2;\" /><line x1=\"166\" y1=\"15\" x2=\"166\" y2=\"27\" style=\"stroke:#a8bedcff;stroke-width:2;\" /><line x1=\"167\" y1=\"15\" x2=\"167\" y2=\"27\" style=\"stroke:#a7bedcff;stroke-width:2;\" /><line x1=\"168\" y1=\"15\" x2=\"168\" y2=\"27\" style=\"stroke:#a6bddbff;stroke-width:2;\" /><line x1=\"169\" y1=\"15\" x2=\"169\" y2=\"27\" style=\"stroke:#a5bddbff;stroke-width:2;\" /><line x1=\"170\" y1=\"15\" x2=\"170\" y2=\"27\" style=\"stroke:#a4bddbff;stroke-width:2;\" /><line x1=\"171\" y1=\"15\" x2=\"171\" y2=\"27\" style=\"stroke:#a3bcdbff;stroke-width:2;\" /><line x1=\"172\" y1=\"15\" x2=\"172\" y2=\"27\" style=\"stroke:#a2bcdbff;stroke-width:2;\" /><line x1=\"173\" y1=\"15\" x2=\"173\" y2=\"27\" style=\"stroke:#a1bcdaff;stroke-width:2;\" /><line x1=\"174\" y1=\"15\" x2=\"174\" y2=\"27\" style=\"stroke:#a0bbdaff;stroke-width:2;\" /><line x1=\"175\" y1=\"15\" x2=\"175\" y2=\"27\" style=\"stroke:#9fbbdaff;stroke-width:2;\" /><line x1=\"176\" y1=\"15\" x2=\"176\" y2=\"27\" style=\"stroke:#9ebbdaff;stroke-width:2;\" /><line x1=\"177\" y1=\"15\" x2=\"177\" y2=\"27\" style=\"stroke:#9cbadaff;stroke-width:2;\" /><line x1=\"178\" y1=\"15\" x2=\"178\" y2=\"27\" style=\"stroke:#9bbad9ff;stroke-width:2;\" /><line x1=\"179\" y1=\"15\" x2=\"179\" y2=\"27\" style=\"stroke:#9ab9d9ff;stroke-width:2;\" /><line x1=\"180\" y1=\"15\" x2=\"180\" y2=\"27\" style=\"stroke:#99b9d9ff;stroke-width:2;\" /><line x1=\"181\" y1=\"15\" x2=\"181\" y2=\"27\" style=\"stroke:#98b9d9ff;stroke-width:2;\" /><line x1=\"182\" y1=\"15\" x2=\"182\" y2=\"27\" style=\"stroke:#97b8d8ff;stroke-width:2;\" /><line x1=\"183\" y1=\"15\" x2=\"183\" y2=\"27\" style=\"stroke:#96b8d8ff;stroke-width:2;\" /><line x1=\"184\" y1=\"15\" x2=\"184\" y2=\"27\" style=\"stroke:#95b8d8ff;stroke-width:2;\" /><line x1=\"185\" y1=\"15\" x2=\"185\" y2=\"27\" style=\"stroke:#93b7d8ff;stroke-width:2;\" /><line x1=\"186\" y1=\"15\" x2=\"186\" y2=\"27\" style=\"stroke:#92b7d8ff;stroke-width:2;\" /><line x1=\"187\" y1=\"15\" x2=\"187\" y2=\"27\" style=\"stroke:#91b7d7ff;stroke-width:2;\" /><line x1=\"188\" y1=\"15\" x2=\"188\" y2=\"27\" style=\"stroke:#90b6d7ff;stroke-width:2;\" /><line x1=\"189\" y1=\"15\" x2=\"189\" y2=\"27\" style=\"stroke:#8fb6d7ff;stroke-width:2;\" /><line x1=\"190\" y1=\"15\" x2=\"190\" y2=\"27\" style=\"stroke:#8eb6d7ff;stroke-width:2;\" /><line x1=\"191\" y1=\"15\" x2=\"191\" y2=\"27\" style=\"stroke:#8db5d7ff;stroke-width:2;\" /><line x1=\"192\" y1=\"15\" x2=\"192\" y2=\"27\" style=\"stroke:#8cb5d6ff;stroke-width:2;\" /><line x1=\"193\" y1=\"15\" x2=\"193\" y2=\"27\" style=\"stroke:#8ab4d6ff;stroke-width:2;\" /><line x1=\"194\" y1=\"15\" x2=\"194\" y2=\"27\" style=\"stroke:#89b4d6ff;stroke-width:2;\" /><line x1=\"195\" y1=\"15\" x2=\"195\" y2=\"27\" style=\"stroke:#88b4d6ff;stroke-width:2;\" /><line x1=\"196\" y1=\"15\" x2=\"196\" y2=\"27\" style=\"stroke:#87b3d5ff;stroke-width:2;\" /><line x1=\"197\" y1=\"15\" x2=\"197\" y2=\"27\" style=\"stroke:#86b3d5ff;stroke-width:2;\" /><line x1=\"198\" y1=\"15\" x2=\"198\" y2=\"27\" style=\"stroke:#85b3d5ff;stroke-width:2;\" /><line x1=\"199\" y1=\"15\" x2=\"199\" y2=\"27\" style=\"stroke:#84b2d5ff;stroke-width:2;\" /><line x1=\"200\" y1=\"15\" x2=\"200\" y2=\"27\" style=\"stroke:#83b2d5ff;stroke-width:2;\" /><line x1=\"201\" y1=\"15\" x2=\"201\" y2=\"27\" style=\"stroke:#81b2d4ff;stroke-width:2;\" /><line x1=\"202\" y1=\"15\" x2=\"202\" y2=\"27\" style=\"stroke:#80b1d4ff;stroke-width:2;\" /><line x1=\"203\" y1=\"15\" x2=\"203\" y2=\"27\" style=\"stroke:#7fb1d4ff;stroke-width:2;\" /><line x1=\"204\" y1=\"15\" x2=\"204\" y2=\"27\" style=\"stroke:#7eb0d4ff;stroke-width:2;\" /><line x1=\"205\" y1=\"15\" x2=\"205\" y2=\"27\" style=\"stroke:#7db0d3ff;stroke-width:2;\" /><line x1=\"206\" y1=\"15\" x2=\"206\" y2=\"27\" style=\"stroke:#7cb0d3ff;stroke-width:2;\" /><line x1=\"207\" y1=\"15\" x2=\"207\" y2=\"27\" style=\"stroke:#7bafd3ff;stroke-width:2;\" /><line x1=\"208\" y1=\"15\" x2=\"208\" y2=\"27\" style=\"stroke:#79afd3ff;stroke-width:2;\" /><line x1=\"209\" y1=\"15\" x2=\"209\" y2=\"27\" style=\"stroke:#78afd3ff;stroke-width:2;\" /><line x1=\"210\" y1=\"15\" x2=\"210\" y2=\"27\" style=\"stroke:#77aed2ff;stroke-width:2;\" /><line x1=\"211\" y1=\"15\" x2=\"211\" y2=\"27\" style=\"stroke:#76aed2ff;stroke-width:2;\" /><line x1=\"212\" y1=\"15\" x2=\"212\" y2=\"27\" style=\"stroke:#75aed2ff;stroke-width:2;\" /><line x1=\"213\" y1=\"15\" x2=\"213\" y2=\"27\" style=\"stroke:#74add2ff;stroke-width:2;\" /><line x1=\"214\" y1=\"15\" x2=\"214\" y2=\"27\" style=\"stroke:#73add2ff;stroke-width:2;\" /><line x1=\"215\" y1=\"15\" x2=\"215\" y2=\"27\" style=\"stroke:#72add1ff;stroke-width:2;\" /><line x1=\"216\" y1=\"15\" x2=\"216\" y2=\"27\" style=\"stroke:#70acd1ff;stroke-width:2;\" /><line x1=\"217\" y1=\"15\" x2=\"217\" y2=\"27\" style=\"stroke:#6facd1ff;stroke-width:2;\" /><line x1=\"218\" y1=\"15\" x2=\"218\" y2=\"27\" style=\"stroke:#6eabd1ff;stroke-width:2;\" /><line x1=\"219\" y1=\"15\" x2=\"219\" y2=\"27\" style=\"stroke:#6dabd0ff;stroke-width:2;\" /><line x1=\"220\" y1=\"15\" x2=\"220\" y2=\"27\" style=\"stroke:#6cabd0ff;stroke-width:2;\" /><line x1=\"221\" y1=\"15\" x2=\"221\" y2=\"27\" style=\"stroke:#6baad0ff;stroke-width:2;\" /><line x1=\"222\" y1=\"15\" x2=\"222\" y2=\"27\" style=\"stroke:#6aaad0ff;stroke-width:2;\" /><line x1=\"223\" y1=\"15\" x2=\"223\" y2=\"27\" style=\"stroke:#69aad0ff;stroke-width:2;\" /><line x1=\"224\" y1=\"15\" x2=\"224\" y2=\"27\" style=\"stroke:#67a9cfff;stroke-width:2;\" /><line x1=\"225\" y1=\"15\" x2=\"225\" y2=\"27\" style=\"stroke:#66a9cfff;stroke-width:2;\" /><line x1=\"226\" y1=\"15\" x2=\"226\" y2=\"27\" style=\"stroke:#66a8cfff;stroke-width:2;\" /><line x1=\"227\" y1=\"15\" x2=\"227\" y2=\"27\" style=\"stroke:#65a8cfff;stroke-width:2;\" /><line x1=\"228\" y1=\"15\" x2=\"228\" y2=\"27\" style=\"stroke:#64a8ceff;stroke-width:2;\" /><line x1=\"229\" y1=\"15\" x2=\"229\" y2=\"27\" style=\"stroke:#63a7ceff;stroke-width:2;\" /><line x1=\"230\" y1=\"15\" x2=\"230\" y2=\"27\" style=\"stroke:#62a7ceff;stroke-width:2;\" /><line x1=\"231\" y1=\"15\" x2=\"231\" y2=\"27\" style=\"stroke:#61a6ceff;stroke-width:2;\" /><line x1=\"232\" y1=\"15\" x2=\"232\" y2=\"27\" style=\"stroke:#60a6cdff;stroke-width:2;\" /><line x1=\"233\" y1=\"15\" x2=\"233\" y2=\"27\" style=\"stroke:#5fa5cdff;stroke-width:2;\" /><line x1=\"234\" y1=\"15\" x2=\"234\" y2=\"27\" style=\"stroke:#5fa5cdff;stroke-width:2;\" /><line x1=\"235\" y1=\"15\" x2=\"235\" y2=\"27\" style=\"stroke:#5ea4ccff;stroke-width:2;\" /><line x1=\"236\" y1=\"15\" x2=\"236\" y2=\"27\" style=\"stroke:#5da4ccff;stroke-width:2;\" /><line x1=\"237\" y1=\"15\" x2=\"237\" y2=\"27\" style=\"stroke:#5ca4ccff;stroke-width:2;\" /><line x1=\"238\" y1=\"15\" x2=\"238\" y2=\"27\" style=\"stroke:#5ba3ccff;stroke-width:2;\" /><line x1=\"239\" y1=\"15\" x2=\"239\" y2=\"27\" style=\"stroke:#5aa3cbff;stroke-width:2;\" /><line x1=\"240\" y1=\"15\" x2=\"240\" y2=\"27\" style=\"stroke:#59a2cbff;stroke-width:2;\" /><line x1=\"241\" y1=\"15\" x2=\"241\" y2=\"27\" style=\"stroke:#58a2cbff;stroke-width:2;\" /><line x1=\"242\" y1=\"15\" x2=\"242\" y2=\"27\" style=\"stroke:#58a1cbff;stroke-width:2;\" /><line x1=\"243\" y1=\"15\" x2=\"243\" y2=\"27\" style=\"stroke:#57a1caff;stroke-width:2;\" /><line x1=\"244\" y1=\"15\" x2=\"244\" y2=\"27\" style=\"stroke:#56a0caff;stroke-width:2;\" /><line x1=\"245\" y1=\"15\" x2=\"245\" y2=\"27\" style=\"stroke:#55a0caff;stroke-width:2;\" /><line x1=\"246\" y1=\"15\" x2=\"246\" y2=\"27\" style=\"stroke:#54a0caff;stroke-width:2;\" /><line x1=\"247\" y1=\"15\" x2=\"247\" y2=\"27\" style=\"stroke:#539fc9ff;stroke-width:2;\" /><line x1=\"248\" y1=\"15\" x2=\"248\" y2=\"27\" style=\"stroke:#529fc9ff;stroke-width:2;\" /><line x1=\"249\" y1=\"15\" x2=\"249\" y2=\"27\" style=\"stroke:#519ec9ff;stroke-width:2;\" /><line x1=\"250\" y1=\"15\" x2=\"250\" y2=\"27\" style=\"stroke:#519ec8ff;stroke-width:2;\" /><line x1=\"251\" y1=\"15\" x2=\"251\" y2=\"27\" style=\"stroke:#509dc8ff;stroke-width:2;\" /><line x1=\"252\" y1=\"15\" x2=\"252\" y2=\"27\" style=\"stroke:#4f9dc8ff;stroke-width:2;\" /><line x1=\"253\" y1=\"15\" x2=\"253\" y2=\"27\" style=\"stroke:#4e9cc8ff;stroke-width:2;\" /><line x1=\"254\" y1=\"15\" x2=\"254\" y2=\"27\" style=\"stroke:#4d9cc7ff;stroke-width:2;\" /><line x1=\"255\" y1=\"15\" x2=\"255\" y2=\"27\" style=\"stroke:#4c9cc7ff;stroke-width:2;\" /><line x1=\"256\" y1=\"15\" x2=\"256\" y2=\"27\" style=\"stroke:#4b9bc7ff;stroke-width:2;\" /><line x1=\"257\" y1=\"15\" x2=\"257\" y2=\"27\" style=\"stroke:#4a9bc7ff;stroke-width:2;\" /><line x1=\"258\" y1=\"15\" x2=\"258\" y2=\"27\" style=\"stroke:#4a9ac6ff;stroke-width:2;\" /><line x1=\"259\" y1=\"15\" x2=\"259\" y2=\"27\" style=\"stroke:#499ac6ff;stroke-width:2;\" /><line x1=\"260\" y1=\"15\" x2=\"260\" y2=\"27\" style=\"stroke:#4899c6ff;stroke-width:2;\" /><line x1=\"261\" y1=\"15\" x2=\"261\" y2=\"27\" style=\"stroke:#4799c6ff;stroke-width:2;\" /><line x1=\"262\" y1=\"15\" x2=\"262\" y2=\"27\" style=\"stroke:#4698c5ff;stroke-width:2;\" /><line x1=\"263\" y1=\"15\" x2=\"263\" y2=\"27\" style=\"stroke:#4598c5ff;stroke-width:2;\" /><line x1=\"264\" y1=\"15\" x2=\"264\" y2=\"27\" style=\"stroke:#4497c5ff;stroke-width:2;\" /><line x1=\"265\" y1=\"15\" x2=\"265\" y2=\"27\" style=\"stroke:#4397c4ff;stroke-width:2;\" /><line x1=\"266\" y1=\"15\" x2=\"266\" y2=\"27\" style=\"stroke:#4397c4ff;stroke-width:2;\" /><line x1=\"267\" y1=\"15\" x2=\"267\" y2=\"27\" style=\"stroke:#4296c4ff;stroke-width:2;\" /><line x1=\"268\" y1=\"15\" x2=\"268\" y2=\"27\" style=\"stroke:#4196c4ff;stroke-width:2;\" /><line x1=\"269\" y1=\"15\" x2=\"269\" y2=\"27\" style=\"stroke:#4095c3ff;stroke-width:2;\" /><line x1=\"270\" y1=\"15\" x2=\"270\" y2=\"27\" style=\"stroke:#3f95c3ff;stroke-width:2;\" /><line x1=\"271\" y1=\"15\" x2=\"271\" y2=\"27\" style=\"stroke:#3e94c3ff;stroke-width:2;\" /><line x1=\"272\" y1=\"15\" x2=\"272\" y2=\"27\" style=\"stroke:#3d94c3ff;stroke-width:2;\" /><line x1=\"273\" y1=\"15\" x2=\"273\" y2=\"27\" style=\"stroke:#3c93c2ff;stroke-width:2;\" /><line x1=\"274\" y1=\"15\" x2=\"274\" y2=\"27\" style=\"stroke:#3c93c2ff;stroke-width:2;\" /><line x1=\"275\" y1=\"15\" x2=\"275\" y2=\"27\" style=\"stroke:#3b93c2ff;stroke-width:2;\" /><line x1=\"276\" y1=\"15\" x2=\"276\" y2=\"27\" style=\"stroke:#3a92c1ff;stroke-width:2;\" /><line x1=\"277\" y1=\"15\" x2=\"277\" y2=\"27\" style=\"stroke:#3992c1ff;stroke-width:2;\" /><line x1=\"278\" y1=\"15\" x2=\"278\" y2=\"27\" style=\"stroke:#3891c1ff;stroke-width:2;\" /><line x1=\"279\" y1=\"15\" x2=\"279\" y2=\"27\" style=\"stroke:#3791c1ff;stroke-width:2;\" /><line x1=\"280\" y1=\"15\" x2=\"280\" y2=\"27\" style=\"stroke:#3690c0ff;stroke-width:2;\" /><line x1=\"281\" y1=\"15\" x2=\"281\" y2=\"27\" style=\"stroke:#3590c0ff;stroke-width:2;\" /><line x1=\"282\" y1=\"15\" x2=\"282\" y2=\"27\" style=\"stroke:#3490bfff;stroke-width:2;\" /><line x1=\"283\" y1=\"15\" x2=\"283\" y2=\"27\" style=\"stroke:#348fbeff;stroke-width:2;\" /><line x1=\"284\" y1=\"15\" x2=\"284\" y2=\"27\" style=\"stroke:#338fbdff;stroke-width:2;\" /><line x1=\"285\" y1=\"15\" x2=\"285\" y2=\"27\" style=\"stroke:#328fbcff;stroke-width:2;\" /><line x1=\"286\" y1=\"15\" x2=\"286\" y2=\"27\" style=\"stroke:#318fbbff;stroke-width:2;\" /><line x1=\"287\" y1=\"15\" x2=\"287\" y2=\"27\" style=\"stroke:#308ebaff;stroke-width:2;\" /><line x1=\"288\" y1=\"15\" x2=\"288\" y2=\"27\" style=\"stroke:#2f8eb9ff;stroke-width:2;\" /><line x1=\"289\" y1=\"15\" x2=\"289\" y2=\"27\" style=\"stroke:#2e8eb8ff;stroke-width:2;\" /><line x1=\"290\" y1=\"15\" x2=\"290\" y2=\"27\" style=\"stroke:#2d8eb7ff;stroke-width:2;\" /><line x1=\"291\" y1=\"15\" x2=\"291\" y2=\"27\" style=\"stroke:#2c8db6ff;stroke-width:2;\" /><line x1=\"292\" y1=\"15\" x2=\"292\" y2=\"27\" style=\"stroke:#2b8db5ff;stroke-width:2;\" /><line x1=\"293\" y1=\"15\" x2=\"293\" y2=\"27\" style=\"stroke:#2a8db4ff;stroke-width:2;\" /><line x1=\"294\" y1=\"15\" x2=\"294\" y2=\"27\" style=\"stroke:#298cb3ff;stroke-width:2;\" /><line x1=\"295\" y1=\"15\" x2=\"295\" y2=\"27\" style=\"stroke:#288cb2ff;stroke-width:2;\" /><line x1=\"296\" y1=\"15\" x2=\"296\" y2=\"27\" style=\"stroke:#278cb1ff;stroke-width:2;\" /><line x1=\"297\" y1=\"15\" x2=\"297\" y2=\"27\" style=\"stroke:#268cb0ff;stroke-width:2;\" /><line x1=\"298\" y1=\"15\" x2=\"298\" y2=\"27\" style=\"stroke:#268bafff;stroke-width:2;\" /><line x1=\"299\" y1=\"15\" x2=\"299\" y2=\"27\" style=\"stroke:#258bafff;stroke-width:2;\" /><line x1=\"300\" y1=\"15\" x2=\"300\" y2=\"27\" style=\"stroke:#248baeff;stroke-width:2;\" /><line x1=\"301\" y1=\"15\" x2=\"301\" y2=\"27\" style=\"stroke:#238badff;stroke-width:2;\" /><line x1=\"302\" y1=\"15\" x2=\"302\" y2=\"27\" style=\"stroke:#228aacff;stroke-width:2;\" /><line x1=\"303\" y1=\"15\" x2=\"303\" y2=\"27\" style=\"stroke:#218aabff;stroke-width:2;\" /><line x1=\"304\" y1=\"15\" x2=\"304\" y2=\"27\" style=\"stroke:#208aaaff;stroke-width:2;\" /><line x1=\"305\" y1=\"15\" x2=\"305\" y2=\"27\" style=\"stroke:#1f8aa9ff;stroke-width:2;\" /><line x1=\"306\" y1=\"15\" x2=\"306\" y2=\"27\" style=\"stroke:#1e89a8ff;stroke-width:2;\" /><line x1=\"307\" y1=\"15\" x2=\"307\" y2=\"27\" style=\"stroke:#1d89a7ff;stroke-width:2;\" /><line x1=\"308\" y1=\"15\" x2=\"308\" y2=\"27\" style=\"stroke:#1c89a6ff;stroke-width:2;\" /><line x1=\"309\" y1=\"15\" x2=\"309\" y2=\"27\" style=\"stroke:#1b88a5ff;stroke-width:2;\" /><line x1=\"310\" y1=\"15\" x2=\"310\" y2=\"27\" style=\"stroke:#1a88a4ff;stroke-width:2;\" /><line x1=\"311\" y1=\"15\" x2=\"311\" y2=\"27\" style=\"stroke:#1988a3ff;stroke-width:2;\" /><line x1=\"312\" y1=\"15\" x2=\"312\" y2=\"27\" style=\"stroke:#1988a2ff;stroke-width:2;\" /><line x1=\"313\" y1=\"15\" x2=\"313\" y2=\"27\" style=\"stroke:#1887a1ff;stroke-width:2;\" /><line x1=\"314\" y1=\"15\" x2=\"314\" y2=\"27\" style=\"stroke:#1787a0ff;stroke-width:2;\" /><line x1=\"315\" y1=\"15\" x2=\"315\" y2=\"27\" style=\"stroke:#16879fff;stroke-width:2;\" /><line x1=\"316\" y1=\"15\" x2=\"316\" y2=\"27\" style=\"stroke:#15879eff;stroke-width:2;\" /><line x1=\"317\" y1=\"15\" x2=\"317\" y2=\"27\" style=\"stroke:#14869dff;stroke-width:2;\" /><line x1=\"318\" y1=\"15\" x2=\"318\" y2=\"27\" style=\"stroke:#13869cff;stroke-width:2;\" /><line x1=\"319\" y1=\"15\" x2=\"319\" y2=\"27\" style=\"stroke:#12869bff;stroke-width:2;\" /><line x1=\"320\" y1=\"15\" x2=\"320\" y2=\"27\" style=\"stroke:#11869aff;stroke-width:2;\" /><line x1=\"321\" y1=\"15\" x2=\"321\" y2=\"27\" style=\"stroke:#108599ff;stroke-width:2;\" /><line x1=\"322\" y1=\"15\" x2=\"322\" y2=\"27\" style=\"stroke:#0f8598ff;stroke-width:2;\" /><line x1=\"323\" y1=\"15\" x2=\"323\" y2=\"27\" style=\"stroke:#0e8597ff;stroke-width:2;\" /><line x1=\"324\" y1=\"15\" x2=\"324\" y2=\"27\" style=\"stroke:#0d8496ff;stroke-width:2;\" /><line x1=\"325\" y1=\"15\" x2=\"325\" y2=\"27\" style=\"stroke:#0c8495ff;stroke-width:2;\" /><line x1=\"326\" y1=\"15\" x2=\"326\" y2=\"27\" style=\"stroke:#0c8494ff;stroke-width:2;\" /><line x1=\"327\" y1=\"15\" x2=\"327\" y2=\"27\" style=\"stroke:#0b8493ff;stroke-width:2;\" /><line x1=\"328\" y1=\"15\" x2=\"328\" y2=\"27\" style=\"stroke:#0a8392ff;stroke-width:2;\" /><line x1=\"329\" y1=\"15\" x2=\"329\" y2=\"27\" style=\"stroke:#098392ff;stroke-width:2;\" /><line x1=\"330\" y1=\"15\" x2=\"330\" y2=\"27\" style=\"stroke:#088391ff;stroke-width:2;\" /><line x1=\"331\" y1=\"15\" x2=\"331\" y2=\"27\" style=\"stroke:#078390ff;stroke-width:2;\" /><line x1=\"332\" y1=\"15\" x2=\"332\" y2=\"27\" style=\"stroke:#06828fff;stroke-width:2;\" /><line x1=\"333\" y1=\"15\" x2=\"333\" y2=\"27\" style=\"stroke:#05828eff;stroke-width:2;\" /><line x1=\"334\" y1=\"15\" x2=\"334\" y2=\"27\" style=\"stroke:#04828dff;stroke-width:2;\" /><line x1=\"335\" y1=\"15\" x2=\"335\" y2=\"27\" style=\"stroke:#03818cff;stroke-width:2;\" /><line x1=\"336\" y1=\"15\" x2=\"336\" y2=\"27\" style=\"stroke:#02818bff;stroke-width:2;\" /><line x1=\"337\" y1=\"15\" x2=\"337\" y2=\"27\" style=\"stroke:#02818aff;stroke-width:2;\" /><line x1=\"338\" y1=\"15\" x2=\"338\" y2=\"27\" style=\"stroke:#018189ff;stroke-width:2;\" /><line x1=\"339\" y1=\"15\" x2=\"339\" y2=\"27\" style=\"stroke:#018088ff;stroke-width:2;\" /><line x1=\"340\" y1=\"15\" x2=\"340\" y2=\"27\" style=\"stroke:#018087ff;stroke-width:2;\" /><line x1=\"341\" y1=\"15\" x2=\"341\" y2=\"27\" style=\"stroke:#017f86ff;stroke-width:2;\" /><line x1=\"342\" y1=\"15\" x2=\"342\" y2=\"27\" style=\"stroke:#017f85ff;stroke-width:2;\" /><line x1=\"343\" y1=\"15\" x2=\"343\" y2=\"27\" style=\"stroke:#017f85ff;stroke-width:2;\" /><line x1=\"344\" y1=\"15\" x2=\"344\" y2=\"27\" style=\"stroke:#017e84ff;stroke-width:2;\" /><line x1=\"345\" y1=\"15\" x2=\"345\" y2=\"27\" style=\"stroke:#017e83ff;stroke-width:2;\" /><line x1=\"346\" y1=\"15\" x2=\"346\" y2=\"27\" style=\"stroke:#017e82ff;stroke-width:2;\" /><line x1=\"347\" y1=\"15\" x2=\"347\" y2=\"27\" style=\"stroke:#017d81ff;stroke-width:2;\" /><line x1=\"348\" y1=\"15\" x2=\"348\" y2=\"27\" style=\"stroke:#017d80ff;stroke-width:2;\" /><line x1=\"349\" y1=\"15\" x2=\"349\" y2=\"27\" style=\"stroke:#017c7fff;stroke-width:2;\" /><line x1=\"350\" y1=\"15\" x2=\"350\" y2=\"27\" style=\"stroke:#017c7eff;stroke-width:2;\" /><line x1=\"351\" y1=\"15\" x2=\"351\" y2=\"27\" style=\"stroke:#017c7eff;stroke-width:2;\" /><line x1=\"352\" y1=\"15\" x2=\"352\" y2=\"27\" style=\"stroke:#017b7dff;stroke-width:2;\" /><line x1=\"353\" y1=\"15\" x2=\"353\" y2=\"27\" style=\"stroke:#017b7cff;stroke-width:2;\" /><line x1=\"354\" y1=\"15\" x2=\"354\" y2=\"27\" style=\"stroke:#017b7bff;stroke-width:2;\" /><line x1=\"355\" y1=\"15\" x2=\"355\" y2=\"27\" style=\"stroke:#017a7aff;stroke-width:2;\" /><line x1=\"356\" y1=\"15\" x2=\"356\" y2=\"27\" style=\"stroke:#017a79ff;stroke-width:2;\" /><line x1=\"357\" y1=\"15\" x2=\"357\" y2=\"27\" style=\"stroke:#017978ff;stroke-width:2;\" /><line x1=\"358\" y1=\"15\" x2=\"358\" y2=\"27\" style=\"stroke:#017977ff;stroke-width:2;\" /><line x1=\"359\" y1=\"15\" x2=\"359\" y2=\"27\" style=\"stroke:#017977ff;stroke-width:2;\" /><line x1=\"360\" y1=\"15\" x2=\"360\" y2=\"27\" style=\"stroke:#017876ff;stroke-width:2;\" /><line x1=\"361\" y1=\"15\" x2=\"361\" y2=\"27\" style=\"stroke:#017875ff;stroke-width:2;\" /><line x1=\"362\" y1=\"15\" x2=\"362\" y2=\"27\" style=\"stroke:#017874ff;stroke-width:2;\" /><line x1=\"363\" y1=\"15\" x2=\"363\" y2=\"27\" style=\"stroke:#017773ff;stroke-width:2;\" /><line x1=\"364\" y1=\"15\" x2=\"364\" y2=\"27\" style=\"stroke:#017772ff;stroke-width:2;\" /><line x1=\"365\" y1=\"15\" x2=\"365\" y2=\"27\" style=\"stroke:#017671ff;stroke-width:2;\" /><line x1=\"366\" y1=\"15\" x2=\"366\" y2=\"27\" style=\"stroke:#017670ff;stroke-width:2;\" /><line x1=\"367\" y1=\"15\" x2=\"367\" y2=\"27\" style=\"stroke:#017670ff;stroke-width:2;\" /><line x1=\"368\" y1=\"15\" x2=\"368\" y2=\"27\" style=\"stroke:#01756fff;stroke-width:2;\" /><line x1=\"369\" y1=\"15\" x2=\"369\" y2=\"27\" style=\"stroke:#01756eff;stroke-width:2;\" /><line x1=\"370\" y1=\"15\" x2=\"370\" y2=\"27\" style=\"stroke:#01756dff;stroke-width:2;\" /><line x1=\"371\" y1=\"15\" x2=\"371\" y2=\"27\" style=\"stroke:#01746cff;stroke-width:2;\" /><line x1=\"372\" y1=\"15\" x2=\"372\" y2=\"27\" style=\"stroke:#01746bff;stroke-width:2;\" /><line x1=\"373\" y1=\"15\" x2=\"373\" y2=\"27\" style=\"stroke:#01736aff;stroke-width:2;\" /><line x1=\"374\" y1=\"15\" x2=\"374\" y2=\"27\" style=\"stroke:#017369ff;stroke-width:2;\" /><line x1=\"375\" y1=\"15\" x2=\"375\" y2=\"27\" style=\"stroke:#017369ff;stroke-width:2;\" /><line x1=\"376\" y1=\"15\" x2=\"376\" y2=\"27\" style=\"stroke:#017268ff;stroke-width:2;\" /><line x1=\"377\" y1=\"15\" x2=\"377\" y2=\"27\" style=\"stroke:#017267ff;stroke-width:2;\" /><line x1=\"378\" y1=\"15\" x2=\"378\" y2=\"27\" style=\"stroke:#017266ff;stroke-width:2;\" /><line x1=\"379\" y1=\"15\" x2=\"379\" y2=\"27\" style=\"stroke:#017165ff;stroke-width:2;\" /><line x1=\"380\" y1=\"15\" x2=\"380\" y2=\"27\" style=\"stroke:#017164ff;stroke-width:2;\" /><line x1=\"381\" y1=\"15\" x2=\"381\" y2=\"27\" style=\"stroke:#017063ff;stroke-width:2;\" /><line x1=\"382\" y1=\"15\" x2=\"382\" y2=\"27\" style=\"stroke:#017062ff;stroke-width:2;\" /><line x1=\"383\" y1=\"15\" x2=\"383\" y2=\"27\" style=\"stroke:#017062ff;stroke-width:2;\" /><line x1=\"384\" y1=\"15\" x2=\"384\" y2=\"27\" style=\"stroke:#016f61ff;stroke-width:2;\" /><line x1=\"385\" y1=\"15\" x2=\"385\" y2=\"27\" style=\"stroke:#016f60ff;stroke-width:2;\" /><line x1=\"386\" y1=\"15\" x2=\"386\" y2=\"27\" style=\"stroke:#016f5fff;stroke-width:2;\" /><line x1=\"387\" y1=\"15\" x2=\"387\" y2=\"27\" style=\"stroke:#016e5eff;stroke-width:2;\" /><line x1=\"388\" y1=\"15\" x2=\"388\" y2=\"27\" style=\"stroke:#016e5dff;stroke-width:2;\" /><line x1=\"389\" y1=\"15\" x2=\"389\" y2=\"27\" style=\"stroke:#016d5cff;stroke-width:2;\" /><line x1=\"390\" y1=\"15\" x2=\"390\" y2=\"27\" style=\"stroke:#016d5bff;stroke-width:2;\" /><line x1=\"391\" y1=\"15\" x2=\"391\" y2=\"27\" style=\"stroke:#016d5aff;stroke-width:2;\" /><line x1=\"392\" y1=\"15\" x2=\"392\" y2=\"27\" style=\"stroke:#016c5aff;stroke-width:2;\" /><line x1=\"393\" y1=\"15\" x2=\"393\" y2=\"27\" style=\"stroke:#016c59ff;stroke-width:2;\" /><line x1=\"394\" y1=\"15\" x2=\"394\" y2=\"27\" style=\"stroke:#016b58ff;stroke-width:2;\" /><line x1=\"395\" y1=\"15\" x2=\"395\" y2=\"27\" style=\"stroke:#016a58ff;stroke-width:2;\" /><line x1=\"396\" y1=\"15\" x2=\"396\" y2=\"27\" style=\"stroke:#016a57ff;stroke-width:2;\" /><line x1=\"397\" y1=\"15\" x2=\"397\" y2=\"27\" style=\"stroke:#016956ff;stroke-width:2;\" /><line x1=\"398\" y1=\"15\" x2=\"398\" y2=\"27\" style=\"stroke:#016856ff;stroke-width:2;\" /><line x1=\"399\" y1=\"15\" x2=\"399\" y2=\"27\" style=\"stroke:#016855ff;stroke-width:2;\" /><line x1=\"400\" y1=\"15\" x2=\"400\" y2=\"27\" style=\"stroke:#016754ff;stroke-width:2;\" /><line x1=\"401\" y1=\"15\" x2=\"401\" y2=\"27\" style=\"stroke:#016654ff;stroke-width:2;\" /><line x1=\"402\" y1=\"15\" x2=\"402\" y2=\"27\" style=\"stroke:#016653ff;stroke-width:2;\" /><line x1=\"403\" y1=\"15\" x2=\"403\" y2=\"27\" style=\"stroke:#016553ff;stroke-width:2;\" /><line x1=\"404\" y1=\"15\" x2=\"404\" y2=\"27\" style=\"stroke:#016452ff;stroke-width:2;\" /><line x1=\"405\" y1=\"15\" x2=\"405\" y2=\"27\" style=\"stroke:#016451ff;stroke-width:2;\" /><line x1=\"406\" y1=\"15\" x2=\"406\" y2=\"27\" style=\"stroke:#016351ff;stroke-width:2;\" /><line x1=\"407\" y1=\"15\" x2=\"407\" y2=\"27\" style=\"stroke:#016250ff;stroke-width:2;\" /><line x1=\"408\" y1=\"15\" x2=\"408\" y2=\"27\" style=\"stroke:#01624fff;stroke-width:2;\" /><line x1=\"409\" y1=\"15\" x2=\"409\" y2=\"27\" style=\"stroke:#01614fff;stroke-width:2;\" /><line x1=\"410\" y1=\"15\" x2=\"410\" y2=\"27\" style=\"stroke:#01604eff;stroke-width:2;\" /><line x1=\"411\" y1=\"15\" x2=\"411\" y2=\"27\" style=\"stroke:#01604eff;stroke-width:2;\" /><line x1=\"412\" y1=\"15\" x2=\"412\" y2=\"27\" style=\"stroke:#015f4dff;stroke-width:2;\" /><line x1=\"413\" y1=\"15\" x2=\"413\" y2=\"27\" style=\"stroke:#015e4cff;stroke-width:2;\" /><line x1=\"414\" y1=\"15\" x2=\"414\" y2=\"27\" style=\"stroke:#015e4cff;stroke-width:2;\" /><line x1=\"415\" y1=\"15\" x2=\"415\" y2=\"27\" style=\"stroke:#015d4bff;stroke-width:2;\" /><line x1=\"416\" y1=\"15\" x2=\"416\" y2=\"27\" style=\"stroke:#015c4aff;stroke-width:2;\" /><line x1=\"417\" y1=\"15\" x2=\"417\" y2=\"27\" style=\"stroke:#015c4aff;stroke-width:2;\" /><line x1=\"418\" y1=\"15\" x2=\"418\" y2=\"27\" style=\"stroke:#015b49ff;stroke-width:2;\" /><line x1=\"419\" y1=\"15\" x2=\"419\" y2=\"27\" style=\"stroke:#015a48ff;stroke-width:2;\" /><line x1=\"420\" y1=\"15\" x2=\"420\" y2=\"27\" style=\"stroke:#015948ff;stroke-width:2;\" /><line x1=\"421\" y1=\"15\" x2=\"421\" y2=\"27\" style=\"stroke:#015947ff;stroke-width:2;\" /><line x1=\"422\" y1=\"15\" x2=\"422\" y2=\"27\" style=\"stroke:#015847ff;stroke-width:2;\" /><line x1=\"423\" y1=\"15\" x2=\"423\" y2=\"27\" style=\"stroke:#015746ff;stroke-width:2;\" /><line x1=\"424\" y1=\"15\" x2=\"424\" y2=\"27\" style=\"stroke:#015745ff;stroke-width:2;\" /><line x1=\"425\" y1=\"15\" x2=\"425\" y2=\"27\" style=\"stroke:#015645ff;stroke-width:2;\" /><line x1=\"426\" y1=\"15\" x2=\"426\" y2=\"27\" style=\"stroke:#015544ff;stroke-width:2;\" /><line x1=\"427\" y1=\"15\" x2=\"427\" y2=\"27\" style=\"stroke:#015543ff;stroke-width:2;\" /><line x1=\"428\" y1=\"15\" x2=\"428\" y2=\"27\" style=\"stroke:#015443ff;stroke-width:2;\" /><line x1=\"429\" y1=\"15\" x2=\"429\" y2=\"27\" style=\"stroke:#015342ff;stroke-width:2;\" /><line x1=\"430\" y1=\"15\" x2=\"430\" y2=\"27\" style=\"stroke:#015342ff;stroke-width:2;\" /><line x1=\"431\" y1=\"15\" x2=\"431\" y2=\"27\" style=\"stroke:#015241ff;stroke-width:2;\" /><line x1=\"432\" y1=\"15\" x2=\"432\" y2=\"27\" style=\"stroke:#015140ff;stroke-width:2;\" /><line x1=\"433\" y1=\"15\" x2=\"433\" y2=\"27\" style=\"stroke:#015140ff;stroke-width:2;\" /><line x1=\"434\" y1=\"15\" x2=\"434\" y2=\"27\" style=\"stroke:#01503fff;stroke-width:2;\" /><line x1=\"435\" y1=\"15\" x2=\"435\" y2=\"27\" style=\"stroke:#014f3eff;stroke-width:2;\" /><line x1=\"436\" y1=\"15\" x2=\"436\" y2=\"27\" style=\"stroke:#014f3eff;stroke-width:2;\" /><line x1=\"437\" y1=\"15\" x2=\"437\" y2=\"27\" style=\"stroke:#014e3dff;stroke-width:2;\" /><line x1=\"438\" y1=\"15\" x2=\"438\" y2=\"27\" style=\"stroke:#014d3dff;stroke-width:2;\" /><line x1=\"439\" y1=\"15\" x2=\"439\" y2=\"27\" style=\"stroke:#014d3cff;stroke-width:2;\" /><line x1=\"440\" y1=\"15\" x2=\"440\" y2=\"27\" style=\"stroke:#014c3bff;stroke-width:2;\" /><line x1=\"441\" y1=\"15\" x2=\"441\" y2=\"27\" style=\"stroke:#014b3bff;stroke-width:2;\" /><line x1=\"442\" y1=\"15\" x2=\"442\" y2=\"27\" style=\"stroke:#014b3aff;stroke-width:2;\" /><line x1=\"443\" y1=\"15\" x2=\"443\" y2=\"27\" style=\"stroke:#014a39ff;stroke-width:2;\" /><line x1=\"444\" y1=\"15\" x2=\"444\" y2=\"27\" style=\"stroke:#014939ff;stroke-width:2;\" /><line x1=\"445\" y1=\"15\" x2=\"445\" y2=\"27\" style=\"stroke:#014838ff;stroke-width:2;\" /><line x1=\"446\" y1=\"15\" x2=\"446\" y2=\"27\" style=\"stroke:#014838ff;stroke-width:2;\" /><line x1=\"447\" y1=\"15\" x2=\"447\" y2=\"27\" style=\"stroke:#014737ff;stroke-width:2;\" /><line x1=\"448\" y1=\"15\" x2=\"448\" y2=\"27\" style=\"stroke:#014636ff;stroke-width:2;\" /><line x1=\"449\" y1=\"15\" x2=\"449\" y2=\"27\" style=\"stroke:#014636ff;stroke-width:2;\" /><text x=\"0\" y=\"38\" style=\"text-anchor:start; font-size:11px; font:Arial; fill:black\">1</text><text x=\"75\" y=\"38\"; style=\"text-anchor:middle; font-size:11px; font:Arial; fill:black\">7.2</text><text x=\"150\" y=\"38\"; style=\"text-anchor:middle; font-size:11px; font:Arial; fill:black\">13.3</text><text x=\"225\" y=\"38\"; style=\"text-anchor:middle; font-size:11px; font:Arial; fill:black\">19.5</text><text x=\"300\" y=\"38\"; style=\"text-anchor:middle; font-size:11px; font:Arial; fill:black\">25.7</text><text x=\"375\" y=\"38\"; style=\"text-anchor:middle; font-size:11px; font:Arial; fill:black\">31.8</text><text x=\"450\" y=\"38\" style=\"text-anchor:end; font-size:11px; font:Arial; fill:black\">38</text><text x=\"0\" y=\"12\" style=\"font-size:11px; font:Arial; fill:black\">sightings</text></svg>"
      ],
      "text/plain": [
       "<branca.colormap.LinearColormap at 0x7ff637f3d630>"
      ]
     },
     "execution_count": 9,
     "metadata": {},
     "output_type": "execute_result"
    }
   ],
   "source": [
    "# gradient\n",
    "# https://python-visualization.github.io/folium/latest/advanced_guide/colormaps.html\n",
    "# tutoring session\n",
    "gradient = cm.linear.PuBuGn_09.scale(normal[\"counts\"].min(), normal[\"counts\"].max())\n",
    "# https://python-visualization.github.io/folium/latest/advanced_guide/colormaps.html#Draw-a-ColorMap-on-a-map\n",
    "gradient.caption = \"sightings\"\n",
    "gradient"
   ]
  },
  {
   "cell_type": "code",
   "execution_count": 10,
   "id": "97d6cb8e-914b-430d-92ff-2fca265460cc",
   "metadata": {},
   "outputs": [
    {
     "data": {
      "text/html": [
       "<div style=\"width:100%;\"><div style=\"position:relative;width:100%;height:0;padding-bottom:60%;\"><span style=\"color:#565656\">Make this Notebook Trusted to load map: File -> Trust Notebook</span><iframe srcdoc=\"&lt;!DOCTYPE html&gt;\n",
       "&lt;html&gt;\n",
       "&lt;head&gt;\n",
       "    \n",
       "    &lt;meta http-equiv=&quot;content-type&quot; content=&quot;text/html; charset=UTF-8&quot; /&gt;\n",
       "    \n",
       "        &lt;script&gt;\n",
       "            L_NO_TOUCH = false;\n",
       "            L_DISABLE_3D = false;\n",
       "        &lt;/script&gt;\n",
       "    \n",
       "    &lt;style&gt;html, body {width: 100%;height: 100%;margin: 0;padding: 0;}&lt;/style&gt;\n",
       "    &lt;style&gt;#map {position:absolute;top:0;bottom:0;right:0;left:0;}&lt;/style&gt;\n",
       "    &lt;script src=&quot;https://cdn.jsdelivr.net/npm/leaflet@1.9.3/dist/leaflet.js&quot;&gt;&lt;/script&gt;\n",
       "    &lt;script src=&quot;https://code.jquery.com/jquery-3.7.1.min.js&quot;&gt;&lt;/script&gt;\n",
       "    &lt;script src=&quot;https://cdn.jsdelivr.net/npm/bootstrap@5.2.2/dist/js/bootstrap.bundle.min.js&quot;&gt;&lt;/script&gt;\n",
       "    &lt;script src=&quot;https://cdnjs.cloudflare.com/ajax/libs/Leaflet.awesome-markers/2.0.2/leaflet.awesome-markers.js&quot;&gt;&lt;/script&gt;\n",
       "    &lt;link rel=&quot;stylesheet&quot; href=&quot;https://cdn.jsdelivr.net/npm/leaflet@1.9.3/dist/leaflet.css&quot;/&gt;\n",
       "    &lt;link rel=&quot;stylesheet&quot; href=&quot;https://cdn.jsdelivr.net/npm/bootstrap@5.2.2/dist/css/bootstrap.min.css&quot;/&gt;\n",
       "    &lt;link rel=&quot;stylesheet&quot; href=&quot;https://netdna.bootstrapcdn.com/bootstrap/3.0.0/css/bootstrap-glyphicons.css&quot;/&gt;\n",
       "    &lt;link rel=&quot;stylesheet&quot; href=&quot;https://cdn.jsdelivr.net/npm/@fortawesome/fontawesome-free@6.2.0/css/all.min.css&quot;/&gt;\n",
       "    &lt;link rel=&quot;stylesheet&quot; href=&quot;https://cdnjs.cloudflare.com/ajax/libs/Leaflet.awesome-markers/2.0.2/leaflet.awesome-markers.css&quot;/&gt;\n",
       "    &lt;link rel=&quot;stylesheet&quot; href=&quot;https://cdn.jsdelivr.net/gh/python-visualization/folium/folium/templates/leaflet.awesome.rotate.min.css&quot;/&gt;\n",
       "    \n",
       "            &lt;meta name=&quot;viewport&quot; content=&quot;width=device-width,\n",
       "                initial-scale=1.0, maximum-scale=1.0, user-scalable=no&quot; /&gt;\n",
       "            &lt;style&gt;\n",
       "                #map_06f4211e55bf57a7c4f16f2df3f4ba02 {\n",
       "                    position: relative;\n",
       "                    width: 100.0%;\n",
       "                    height: 100.0%;\n",
       "                    left: 0.0%;\n",
       "                    top: 0.0%;\n",
       "                }\n",
       "                .leaflet-container { font-size: 1rem; }\n",
       "            &lt;/style&gt;\n",
       "        \n",
       "    &lt;script src=&quot;https://cdnjs.cloudflare.com/ajax/libs/d3/3.5.5/d3.min.js&quot;&gt;&lt;/script&gt;\n",
       "&lt;/head&gt;\n",
       "&lt;body&gt;\n",
       "    \n",
       "    \n",
       "            &lt;div class=&quot;folium-map&quot; id=&quot;map_06f4211e55bf57a7c4f16f2df3f4ba02&quot; &gt;&lt;/div&gt;\n",
       "        \n",
       "&lt;/body&gt;\n",
       "&lt;script&gt;\n",
       "    \n",
       "    \n",
       "            var map_06f4211e55bf57a7c4f16f2df3f4ba02 = L.map(\n",
       "                &quot;map_06f4211e55bf57a7c4f16f2df3f4ba02&quot;,\n",
       "                {\n",
       "                    center: [38.01, -95.84],\n",
       "                    crs: L.CRS.EPSG3857,\n",
       "                    zoom: 3,\n",
       "                    zoomControl: true,\n",
       "                    preferCanvas: false,\n",
       "                }\n",
       "            );\n",
       "\n",
       "            \n",
       "\n",
       "        \n",
       "    \n",
       "            var tile_layer_e45702a0a680d90deebebba7de24482a = L.tileLayer(\n",
       "                &quot;https://tile.openstreetmap.org/{z}/{x}/{y}.png&quot;,\n",
       "                {&quot;attribution&quot;: &quot;\\u0026copy; \\u003ca href=\\&quot;https://www.openstreetmap.org/copyright\\&quot;\\u003eOpenStreetMap\\u003c/a\\u003e contributors&quot;, &quot;detectRetina&quot;: false, &quot;maxNativeZoom&quot;: 19, &quot;maxZoom&quot;: 19, &quot;minZoom&quot;: 0, &quot;noWrap&quot;: false, &quot;opacity&quot;: 1, &quot;subdomains&quot;: &quot;abc&quot;, &quot;tms&quot;: false}\n",
       "            );\n",
       "        \n",
       "    \n",
       "            tile_layer_e45702a0a680d90deebebba7de24482a.addTo(map_06f4211e55bf57a7c4f16f2df3f4ba02);\n",
       "        \n",
       "    \n",
       "    var color_map_f0a39dfe0ab69d3267297e640c75d035 = {};\n",
       "\n",
       "    \n",
       "    color_map_f0a39dfe0ab69d3267297e640c75d035.color = d3.scale.threshold()\n",
       "              .domain([1.0, 1.0741482965931863, 1.1482965931863727, 1.2224448897795592, 1.2965931863727456, 1.370741482965932, 1.4448897795591182, 1.5190380761523046, 1.5931863727454911, 1.6673346693386772, 1.7414829659318638, 1.8156312625250501, 1.8897795591182365, 1.9639278557114228, 2.038076152304609, 2.1122244488977957, 2.1863727454909823, 2.2605210420841684, 2.3346693386773545, 2.408817635270541, 2.4829659318637276, 2.5571142284569137, 2.6312625250501003, 2.7054108216432864, 2.779559118236473, 2.8537074148296595, 2.9278557114228456, 3.002004008016032, 3.0761523046092183, 3.150300601202405, 3.224448897795591, 3.2985971943887775, 3.372745490981964, 3.44689378757515, 3.5210420841683367, 3.595190380761523, 3.6693386773547094, 3.743486973947896, 3.817635270541082, 3.8917835671342687, 3.9659318637274548, 4.040080160320642, 4.114228456913827, 4.188376753507014, 4.2625250501002006, 4.336673346693386, 4.410821643286573, 4.484969939879759, 4.559118236472946, 4.6332665330661325, 4.707414829659319, 4.781563126252506, 4.855711422845691, 4.929859719438878, 5.004008016032064, 5.078156312625251, 5.152304609218437, 5.226452905811623, 5.30060120240481, 5.374749498997996, 5.448897795591182, 5.5230460921843685, 5.597194388777555, 5.671342685370742, 5.745490981963928, 5.819639278557114, 5.8937875751503, 5.967935871743487, 6.0420841683366735, 6.11623246492986, 6.190380761523046, 6.264529058116232, 6.338677354709419, 6.412825651302605, 6.486973947895792, 6.561122244488978, 6.635270541082164, 6.709418837675351, 6.783567134268537, 6.857715430861724, 6.9318637274549095, 7.006012024048096, 7.080160320641283, 7.154308617234469, 7.228456913827655, 7.302605210420841, 7.376753507014028, 7.4509018036072145, 7.525050100200401, 7.599198396793587, 7.673346693386773, 7.74749498997996, 7.8216432865731464, 7.895791583166333, 7.969939879759519, 8.044088176352705, 8.118236472945892, 8.192384769539078, 8.266533066132265, 8.340681362725451, 8.414829659318638, 8.488977955911825, 8.563126252505011, 8.637274549098198, 8.711422845691382, 8.785571142284569, 8.859719438877756, 8.933867735470942, 9.008016032064129, 9.082164328657315, 9.156312625250502, 9.230460921843687, 9.304609218436873, 9.37875751503006, 9.452905811623246, 9.527054108216433, 9.60120240480962, 9.675350701402806, 9.749498997995993, 9.823647294589179, 9.897795591182364, 9.97194388777555, 10.046092184368737, 10.120240480961924, 10.19438877755511, 10.268537074148297, 10.342685370741483, 10.41683366733467, 10.490981963927856, 10.565130260521043, 10.639278557114228, 10.713426853707414, 10.7875751503006, 10.861723446893787, 10.935871743486974, 11.01002004008016, 11.084168336673347, 11.158316633266534, 11.23246492985972, 11.306613226452907, 11.380761523046091, 11.454909819639278, 11.529058116232465, 11.603206412825651, 11.677354709418838, 11.751503006012024, 11.82565130260521, 11.899799599198397, 11.973947895791584, 12.048096192384769, 12.122244488977955, 12.196392785571142, 12.270541082164328, 12.344689378757515, 12.418837675350701, 12.492985971943888, 12.567134268537075, 12.641282565130261, 12.715430861723448, 12.789579158316633, 12.863727454909819, 12.937875751503006, 13.012024048096192, 13.086172344689379, 13.160320641282565, 13.234468937875752, 13.308617234468938, 13.382765531062125, 13.45691382765531, 13.531062124248496, 13.605210420841683, 13.67935871743487, 13.753507014028056, 13.827655310621243, 13.901803607214429, 13.975951903807616, 14.050100200400802, 14.124248496993989, 14.198396793587174, 14.27254509018036, 14.346693386773547, 14.420841683366733, 14.49498997995992, 14.569138276553106, 14.643286573146293, 14.71743486973948, 14.791583166332666, 14.865731462925853, 14.939879759519037, 15.014028056112224, 15.08817635270541, 15.162324649298597, 15.236472945891784, 15.31062124248497, 15.384769539078157, 15.458917835671343, 15.53306613226453, 15.607214428857715, 15.681362725450901, 15.755511022044088, 15.829659318637274, 15.90380761523046, 15.977955911823647, 16.052104208416836, 16.126252505010022, 16.20040080160321, 16.274549098196395, 16.34869739478958, 16.422845691382765, 16.49699398797595, 16.571142284569138, 16.645290581162325, 16.71943887775551, 16.793587174348698, 16.867735470941884, 16.94188376753507, 17.016032064128257, 17.090180360721444, 17.16432865731463, 17.238476953907817, 17.312625250501004, 17.386773547094187, 17.460921843687373, 17.53507014028056, 17.609218436873746, 17.683366733466933, 17.75751503006012, 17.831663326653306, 17.905811623246493, 17.97995991983968, 18.054108216432866, 18.128256513026052, 18.20240480961924, 18.276553106212425, 18.350701402805612, 18.4248496993988, 18.498997995991985, 18.57314629258517, 18.647294589178358, 18.721442885771545, 18.795591182364728, 18.869739478957914, 18.9438877755511, 19.018036072144287, 19.092184368737474, 19.16633266533066, 19.240480961923847, 19.314629258517034, 19.38877755511022, 19.462925851703407, 19.537074148296593, 19.61122244488978, 19.685370741482966, 19.759519038076153, 19.83366733466934, 19.907815631262526, 19.981963927855713, 20.0561122244489, 20.130260521042086, 20.204408817635272, 20.278557114228455, 20.352705410821642, 20.42685370741483, 20.501002004008015, 20.5751503006012, 20.649298597194388, 20.723446893787575, 20.79759519038076, 20.871743486973948, 20.945891783567134, 21.02004008016032, 21.094188376753507, 21.168336673346694, 21.24248496993988, 21.316633266533067, 21.390781563126254, 21.46492985971944, 21.539078156312627, 21.613226452905813, 21.687374749498996, 21.761523046092183, 21.83567134268537, 21.909819639278556, 21.983967935871743, 22.05811623246493, 22.132264529058116, 22.206412825651302, 22.28056112224449, 22.354709418837675, 22.428857715430862, 22.50300601202405, 22.577154308617235, 22.65130260521042, 22.725450901803608, 22.799599198396795, 22.87374749498998, 22.947895791583168, 23.022044088176354, 23.096192384769537, 23.170340681362724, 23.24448897795591, 23.318637274549097, 23.392785571142284, 23.46693386773547, 23.541082164328657, 23.615230460921843, 23.68937875751503, 23.763527054108216, 23.837675350701403, 23.91182364729459, 23.985971943887776, 24.060120240480963, 24.13426853707415, 24.208416833667336, 24.282565130260522, 24.35671342685371, 24.430861723446895, 24.50501002004008, 24.579158316633265, 24.65330661322645, 24.727454909819638, 24.801603206412825, 24.87575150300601, 24.949899799599198, 25.024048096192384, 25.09819639278557, 25.172344689378757, 25.246492985971944, 25.32064128256513, 25.394789579158317, 25.468937875751504, 25.54308617234469, 25.617234468937877, 25.691382765531063, 25.76553106212425, 25.839679358717436, 25.91382765531062, 25.987975951903806, 26.062124248496993, 26.13627254509018, 26.210420841683366, 26.284569138276552, 26.35871743486974, 26.432865731462925, 26.507014028056112, 26.5811623246493, 26.655310621242485, 26.72945891783567, 26.803607214428858, 26.877755511022045, 26.95190380761523, 27.026052104208418, 27.100200400801604, 27.17434869739479, 27.248496993987978, 27.322645290581164, 27.396793587174347, 27.470941883767534, 27.54509018036072, 27.619238476953907, 27.693386773547093, 27.76753507014028, 27.841683366733466, 27.915831663326653, 27.98997995991984, 28.064128256513026, 28.138276553106213, 28.2124248496994, 28.286573146292586, 28.360721442885772, 28.43486973947896, 28.509018036072145, 28.583166332665332, 28.65731462925852, 28.731462925851705, 28.805611222444888, 28.879759519038075, 28.95390781563126, 29.028056112224448, 29.102204408817634, 29.17635270541082, 29.250501002004007, 29.324649298597194, 29.39879759519038, 29.472945891783567, 29.547094188376754, 29.62124248496994, 29.695390781563127, 29.769539078156313, 29.8436873747495, 29.917835671342687, 29.991983967935873, 30.06613226452906, 30.140280561122246, 30.21442885771543, 30.288577154308616, 30.362725450901802, 30.43687374749499, 30.511022044088175, 30.585170340681362, 30.65931863727455, 30.733466933867735, 30.80761523046092, 30.881763527054108, 30.955911823647295, 31.03006012024048, 31.104208416833668, 31.178356713426854, 31.25250501002004, 31.326653306613228, 31.400801603206414, 31.4749498997996, 31.549098196392787, 31.62324649298597, 31.697394789579157, 31.771543086172343, 31.84569138276553, 31.919839679358716, 31.993987975951903, 32.06813627254509, 32.142284569138276, 32.21643286573146, 32.29058116232465, 32.364729458917836, 32.43887775551102, 32.51302605210421, 32.587174348697395, 32.66132264529058, 32.73547094188377, 32.809619238476955, 32.88376753507014, 32.95791583166333, 33.032064128256515, 33.1062124248497, 33.18036072144289, 33.254509018036075, 33.32865731462926, 33.40280561122245, 33.476953907815634, 33.55110220440882, 33.62525050100201, 33.699398797595194, 33.77354709418837, 33.84769539078156, 33.921843687374746, 33.99599198396793, 34.07014028056112, 34.144288577154306, 34.21843687374749, 34.29258517034068, 34.366733466933866, 34.44088176352705, 34.51503006012024, 34.589178356713425, 34.66332665330661, 34.7374749498998, 34.811623246492985, 34.88577154308617, 34.95991983967936, 35.034068136272545, 35.10821643286573, 35.18236472945892, 35.256513026052104, 35.33066132264529, 35.40480961923848, 35.478957915831664, 35.55310621242485, 35.62725450901804, 35.701402805611224, 35.77555110220441, 35.8496993987976, 35.92384769539078, 35.99799599198397, 36.07214428857716, 36.14629258517034, 36.22044088176353, 36.294589178356716, 36.3687374749499, 36.44288577154309, 36.517034068136276, 36.591182364729455, 36.66533066132264, 36.73947895791583, 36.813627254509015, 36.8877755511022, 36.96192384769539, 37.036072144288575, 37.11022044088176, 37.18436873747495, 37.258517034068134, 37.33266533066132, 37.40681362725451, 37.480961923847694, 37.55511022044088, 37.62925851703407, 37.703406813627254, 37.77755511022044, 37.85170340681363, 37.92585170340681, 38.0])\n",
       "              .range([&#x27;#fff7fbff&#x27;, &#x27;#fff7fbff&#x27;, &#x27;#fff7fbff&#x27;, &#x27;#fff6fbff&#x27;, &#x27;#fef6fbff&#x27;, &#x27;#fef6fbff&#x27;, &#x27;#fef5faff&#x27;, &#x27;#fdf5faff&#x27;, &#x27;#fdf5faff&#x27;, &#x27;#fdf4faff&#x27;, &#x27;#fcf4faff&#x27;, &#x27;#fcf4faff&#x27;, &#x27;#fcf3f9ff&#x27;, &#x27;#fcf3f9ff&#x27;, &#x27;#fbf3f9ff&#x27;, &#x27;#fbf2f9ff&#x27;, &#x27;#fbf2f9ff&#x27;, &#x27;#faf2f8ff&#x27;, &#x27;#faf1f8ff&#x27;, &#x27;#faf1f8ff&#x27;, &#x27;#f9f1f8ff&#x27;, &#x27;#f9f0f8ff&#x27;, &#x27;#f9f0f8ff&#x27;, &#x27;#f8f0f7ff&#x27;, &#x27;#f8eff7ff&#x27;, &#x27;#f8eff7ff&#x27;, &#x27;#f8eff7ff&#x27;, &#x27;#f7eef7ff&#x27;, &#x27;#f7eef7ff&#x27;, &#x27;#f7eef6ff&#x27;, &#x27;#f6edf6ff&#x27;, &#x27;#f6edf6ff&#x27;, &#x27;#f6edf6ff&#x27;, &#x27;#f5ecf6ff&#x27;, &#x27;#f5ecf5ff&#x27;, &#x27;#f5ecf5ff&#x27;, &#x27;#f4ebf5ff&#x27;, &#x27;#f4ebf5ff&#x27;, &#x27;#f4ebf5ff&#x27;, &#x27;#f4eaf5ff&#x27;, &#x27;#f3eaf4ff&#x27;, &#x27;#f3eaf4ff&#x27;, &#x27;#f3e9f4ff&#x27;, &#x27;#f2e9f4ff&#x27;, &#x27;#f2e9f4ff&#x27;, &#x27;#f2e8f4ff&#x27;, &#x27;#f1e8f3ff&#x27;, &#x27;#f1e8f3ff&#x27;, &#x27;#f1e7f3ff&#x27;, &#x27;#f1e7f3ff&#x27;, &#x27;#f0e7f3ff&#x27;, &#x27;#f0e6f2ff&#x27;, &#x27;#f0e6f2ff&#x27;, &#x27;#efe6f2ff&#x27;, &#x27;#efe5f2ff&#x27;, &#x27;#efe5f2ff&#x27;, &#x27;#eee5f2ff&#x27;, &#x27;#eee4f1ff&#x27;, &#x27;#eee4f1ff&#x27;, &#x27;#ede4f1ff&#x27;, &#x27;#ede3f1ff&#x27;, &#x27;#ede3f1ff&#x27;, &#x27;#ede3f1ff&#x27;, &#x27;#ece2f0ff&#x27;, &#x27;#ece2f0ff&#x27;, &#x27;#ebe2f0ff&#x27;, &#x27;#ebe1f0ff&#x27;, &#x27;#eae1f0ff&#x27;, &#x27;#eae1f0ff&#x27;, &#x27;#e9e1efff&#x27;, &#x27;#e9e0efff&#x27;, &#x27;#e9e0efff&#x27;, &#x27;#e8e0efff&#x27;, &#x27;#e8dfefff&#x27;, &#x27;#e7dfefff&#x27;, &#x27;#e7dfeeff&#x27;, &#x27;#e6dfeeff&#x27;, &#x27;#e6deeeff&#x27;, &#x27;#e5deeeff&#x27;, &#x27;#e5deeeff&#x27;, &#x27;#e4deeeff&#x27;, &#x27;#e4ddedff&#x27;, &#x27;#e4ddedff&#x27;, &#x27;#e3ddedff&#x27;, &#x27;#e3dcedff&#x27;, &#x27;#e2dcedff&#x27;, &#x27;#e2dcedff&#x27;, &#x27;#e1dcecff&#x27;, &#x27;#e1dbecff&#x27;, &#x27;#e0dbecff&#x27;, &#x27;#e0dbecff&#x27;, &#x27;#e0dbecff&#x27;, &#x27;#dfdaecff&#x27;, &#x27;#dfdaecff&#x27;, &#x27;#dedaebff&#x27;, &#x27;#ded9ebff&#x27;, &#x27;#ddd9ebff&#x27;, &#x27;#ddd9ebff&#x27;, &#x27;#dcd9ebff&#x27;, &#x27;#dcd8ebff&#x27;, &#x27;#dbd8eaff&#x27;, &#x27;#dbd8eaff&#x27;, &#x27;#dbd8eaff&#x27;, &#x27;#dad7eaff&#x27;, &#x27;#dad7eaff&#x27;, &#x27;#d9d7eaff&#x27;, &#x27;#d9d6e9ff&#x27;, &#x27;#d8d6e9ff&#x27;, &#x27;#d8d6e9ff&#x27;, &#x27;#d7d6e9ff&#x27;, &#x27;#d7d5e9ff&#x27;, &#x27;#d7d5e9ff&#x27;, &#x27;#d6d5e8ff&#x27;, &#x27;#d6d5e8ff&#x27;, &#x27;#d5d4e8ff&#x27;, &#x27;#d5d4e8ff&#x27;, &#x27;#d4d4e8ff&#x27;, &#x27;#d4d3e8ff&#x27;, &#x27;#d3d3e7ff&#x27;, &#x27;#d3d3e7ff&#x27;, &#x27;#d2d3e7ff&#x27;, &#x27;#d2d2e7ff&#x27;, &#x27;#d2d2e7ff&#x27;, &#x27;#d1d2e7ff&#x27;, &#x27;#d1d2e7ff&#x27;, &#x27;#d0d1e6ff&#x27;, &#x27;#cfd1e6ff&#x27;, &#x27;#cfd1e6ff&#x27;, &#x27;#ced0e6ff&#x27;, &#x27;#cdd0e6ff&#x27;, &#x27;#cdd0e5ff&#x27;, &#x27;#cccfe5ff&#x27;, &#x27;#cbcfe5ff&#x27;, &#x27;#cbcfe5ff&#x27;, &#x27;#cacee5ff&#x27;, &#x27;#c9cee5ff&#x27;, &#x27;#c9cee4ff&#x27;, &#x27;#c8cde4ff&#x27;, &#x27;#c7cde4ff&#x27;, &#x27;#c7cde4ff&#x27;, &#x27;#c6cce4ff&#x27;, &#x27;#c5cce4ff&#x27;, &#x27;#c5cce3ff&#x27;, &#x27;#c4cbe3ff&#x27;, &#x27;#c3cbe3ff&#x27;, &#x27;#c3cbe3ff&#x27;, &#x27;#c2cae3ff&#x27;, &#x27;#c1cae2ff&#x27;, &#x27;#c1cae2ff&#x27;, &#x27;#c0cae2ff&#x27;, &#x27;#bfc9e2ff&#x27;, &#x27;#bfc9e2ff&#x27;, &#x27;#bec9e2ff&#x27;, &#x27;#bdc8e1ff&#x27;, &#x27;#bdc8e1ff&#x27;, &#x27;#bcc8e1ff&#x27;, &#x27;#bbc7e1ff&#x27;, &#x27;#bbc7e1ff&#x27;, &#x27;#bac7e1ff&#x27;, &#x27;#b9c6e0ff&#x27;, &#x27;#b8c6e0ff&#x27;, &#x27;#b8c6e0ff&#x27;, &#x27;#b7c5e0ff&#x27;, &#x27;#b6c5e0ff&#x27;, &#x27;#b6c5dfff&#x27;, &#x27;#b5c4dfff&#x27;, &#x27;#b4c4dfff&#x27;, &#x27;#b4c4dfff&#x27;, &#x27;#b3c3dfff&#x27;, &#x27;#b2c3dfff&#x27;, &#x27;#b2c3deff&#x27;, &#x27;#b1c2deff&#x27;, &#x27;#b0c2deff&#x27;, &#x27;#b0c2deff&#x27;, &#x27;#afc1deff&#x27;, &#x27;#aec1deff&#x27;, &#x27;#aec1ddff&#x27;, &#x27;#adc1ddff&#x27;, &#x27;#acc0ddff&#x27;, &#x27;#acc0ddff&#x27;, &#x27;#abc0ddff&#x27;, &#x27;#aabfdcff&#x27;, &#x27;#aabfdcff&#x27;, &#x27;#a9bfdcff&#x27;, &#x27;#a8bedcff&#x27;, &#x27;#a8bedcff&#x27;, &#x27;#a7bedcff&#x27;, &#x27;#a6bddbff&#x27;, &#x27;#a5bddbff&#x27;, &#x27;#a4bddbff&#x27;, &#x27;#a3bcdbff&#x27;, &#x27;#a2bcdbff&#x27;, &#x27;#a1bcdaff&#x27;, &#x27;#a0bbdaff&#x27;, &#x27;#9fbbdaff&#x27;, &#x27;#9ebbdaff&#x27;, &#x27;#9dbadaff&#x27;, &#x27;#9cbad9ff&#x27;, &#x27;#9bbad9ff&#x27;, &#x27;#9ab9d9ff&#x27;, &#x27;#99b9d9ff&#x27;, &#x27;#98b9d9ff&#x27;, &#x27;#97b8d8ff&#x27;, &#x27;#96b8d8ff&#x27;, &#x27;#95b8d8ff&#x27;, &#x27;#94b7d8ff&#x27;, &#x27;#93b7d8ff&#x27;, &#x27;#92b7d8ff&#x27;, &#x27;#91b7d7ff&#x27;, &#x27;#90b6d7ff&#x27;, &#x27;#8fb6d7ff&#x27;, &#x27;#8eb6d7ff&#x27;, &#x27;#8db5d7ff&#x27;, &#x27;#8cb5d6ff&#x27;, &#x27;#8bb5d6ff&#x27;, &#x27;#8ab4d6ff&#x27;, &#x27;#89b4d6ff&#x27;, &#x27;#88b4d6ff&#x27;, &#x27;#87b3d5ff&#x27;, &#x27;#86b3d5ff&#x27;, &#x27;#85b3d5ff&#x27;, &#x27;#84b2d5ff&#x27;, &#x27;#83b2d5ff&#x27;, &#x27;#82b2d4ff&#x27;, &#x27;#81b1d4ff&#x27;, &#x27;#80b1d4ff&#x27;, &#x27;#7fb1d4ff&#x27;, &#x27;#7eb0d4ff&#x27;, &#x27;#7db0d3ff&#x27;, &#x27;#7cb0d3ff&#x27;, &#x27;#7bafd3ff&#x27;, &#x27;#7aafd3ff&#x27;, &#x27;#79afd3ff&#x27;, &#x27;#78aed2ff&#x27;, &#x27;#77aed2ff&#x27;, &#x27;#76aed2ff&#x27;, &#x27;#75aed2ff&#x27;, &#x27;#74add2ff&#x27;, &#x27;#73add2ff&#x27;, &#x27;#72add1ff&#x27;, &#x27;#71acd1ff&#x27;, &#x27;#70acd1ff&#x27;, &#x27;#6facd1ff&#x27;, &#x27;#6dabd1ff&#x27;, &#x27;#6cabd0ff&#x27;, &#x27;#6babd0ff&#x27;, &#x27;#6aaad0ff&#x27;, &#x27;#69aad0ff&#x27;, &#x27;#68aad0ff&#x27;, &#x27;#67a9cfff&#x27;, &#x27;#67a9cfff&#x27;, &#x27;#66a9cfff&#x27;, &#x27;#65a8cfff&#x27;, &#x27;#64a8ceff&#x27;, &#x27;#63a7ceff&#x27;, &#x27;#63a7ceff&#x27;, &#x27;#62a7ceff&#x27;, &#x27;#61a6ceff&#x27;, &#x27;#60a6cdff&#x27;, &#x27;#5fa5cdff&#x27;, &#x27;#5fa5cdff&#x27;, &#x27;#5ea5cdff&#x27;, &#x27;#5da4ccff&#x27;, &#x27;#5ca4ccff&#x27;, &#x27;#5ba3ccff&#x27;, &#x27;#5ba3ccff&#x27;, &#x27;#5aa3cbff&#x27;, &#x27;#59a2cbff&#x27;, &#x27;#58a2cbff&#x27;, &#x27;#58a1cbff&#x27;, &#x27;#57a1caff&#x27;, &#x27;#56a1caff&#x27;, &#x27;#55a0caff&#x27;, &#x27;#54a0caff&#x27;, &#x27;#549fc9ff&#x27;, &#x27;#539fc9ff&#x27;, &#x27;#529ec9ff&#x27;, &#x27;#519ec9ff&#x27;, &#x27;#509ec8ff&#x27;, &#x27;#509dc8ff&#x27;, &#x27;#4f9dc8ff&#x27;, &#x27;#4e9cc8ff&#x27;, &#x27;#4d9cc7ff&#x27;, &#x27;#4c9cc7ff&#x27;, &#x27;#4c9bc7ff&#x27;, &#x27;#4b9bc7ff&#x27;, &#x27;#4a9ac6ff&#x27;, &#x27;#499ac6ff&#x27;, &#x27;#499ac6ff&#x27;, &#x27;#4899c6ff&#x27;, &#x27;#4799c6ff&#x27;, &#x27;#4698c5ff&#x27;, &#x27;#4598c5ff&#x27;, &#x27;#4598c5ff&#x27;, &#x27;#4497c5ff&#x27;, &#x27;#4397c4ff&#x27;, &#x27;#4296c4ff&#x27;, &#x27;#4196c4ff&#x27;, &#x27;#4196c4ff&#x27;, &#x27;#4095c3ff&#x27;, &#x27;#3f95c3ff&#x27;, &#x27;#3e94c3ff&#x27;, &#x27;#3d94c3ff&#x27;, &#x27;#3d94c2ff&#x27;, &#x27;#3c93c2ff&#x27;, &#x27;#3b93c2ff&#x27;, &#x27;#3a92c2ff&#x27;, &#x27;#3a92c1ff&#x27;, &#x27;#3992c1ff&#x27;, &#x27;#3891c1ff&#x27;, &#x27;#3791c1ff&#x27;, &#x27;#3690c0ff&#x27;, &#x27;#3690c0ff&#x27;, &#x27;#3590bfff&#x27;, &#x27;#3490beff&#x27;, &#x27;#338fbeff&#x27;, &#x27;#328fbdff&#x27;, &#x27;#318fbcff&#x27;, &#x27;#318fbbff&#x27;, &#x27;#308ebaff&#x27;, &#x27;#2f8eb9ff&#x27;, &#x27;#2e8eb8ff&#x27;, &#x27;#2d8eb7ff&#x27;, &#x27;#2c8db7ff&#x27;, &#x27;#2c8db6ff&#x27;, &#x27;#2b8db5ff&#x27;, &#x27;#2a8db4ff&#x27;, &#x27;#298cb3ff&#x27;, &#x27;#288cb2ff&#x27;, &#x27;#278cb1ff&#x27;, &#x27;#278cb0ff&#x27;, &#x27;#268bb0ff&#x27;, &#x27;#258bafff&#x27;, &#x27;#248baeff&#x27;, &#x27;#238badff&#x27;, &#x27;#228aacff&#x27;, &#x27;#228aabff&#x27;, &#x27;#218aaaff&#x27;, &#x27;#208aaaff&#x27;, &#x27;#1f8aa9ff&#x27;, &#x27;#1e89a8ff&#x27;, &#x27;#1d89a7ff&#x27;, &#x27;#1c89a6ff&#x27;, &#x27;#1c89a5ff&#x27;, &#x27;#1b88a4ff&#x27;, &#x27;#1a88a3ff&#x27;, &#x27;#1988a3ff&#x27;, &#x27;#1888a2ff&#x27;, &#x27;#1787a1ff&#x27;, &#x27;#1787a0ff&#x27;, &#x27;#16879fff&#x27;, &#x27;#15879eff&#x27;, &#x27;#14869dff&#x27;, &#x27;#13869dff&#x27;, &#x27;#12869cff&#x27;, &#x27;#12869bff&#x27;, &#x27;#11859aff&#x27;, &#x27;#108599ff&#x27;, &#x27;#0f8598ff&#x27;, &#x27;#0e8597ff&#x27;, &#x27;#0d8496ff&#x27;, &#x27;#0d8496ff&#x27;, &#x27;#0c8495ff&#x27;, &#x27;#0b8494ff&#x27;, &#x27;#0a8393ff&#x27;, &#x27;#098392ff&#x27;, &#x27;#088391ff&#x27;, &#x27;#088390ff&#x27;, &#x27;#07838fff&#x27;, &#x27;#06828fff&#x27;, &#x27;#05828eff&#x27;, &#x27;#04828dff&#x27;, &#x27;#03828cff&#x27;, &#x27;#03818bff&#x27;, &#x27;#02818aff&#x27;, &#x27;#018189ff&#x27;, &#x27;#018089ff&#x27;, &#x27;#018088ff&#x27;, &#x27;#018087ff&#x27;, &#x27;#017f86ff&#x27;, &#x27;#017f86ff&#x27;, &#x27;#017f85ff&#x27;, &#x27;#017e84ff&#x27;, &#x27;#017e83ff&#x27;, &#x27;#017e82ff&#x27;, &#x27;#017d82ff&#x27;, &#x27;#017d81ff&#x27;, &#x27;#017d80ff&#x27;, &#x27;#017c7fff&#x27;, &#x27;#017c7eff&#x27;, &#x27;#017c7eff&#x27;, &#x27;#017b7dff&#x27;, &#x27;#017b7cff&#x27;, &#x27;#017b7bff&#x27;, &#x27;#017a7aff&#x27;, &#x27;#017a7aff&#x27;, &#x27;#017a79ff&#x27;, &#x27;#017978ff&#x27;, &#x27;#017977ff&#x27;, &#x27;#017977ff&#x27;, &#x27;#017876ff&#x27;, &#x27;#017875ff&#x27;, &#x27;#017874ff&#x27;, &#x27;#017773ff&#x27;, &#x27;#017773ff&#x27;, &#x27;#017772ff&#x27;, &#x27;#017671ff&#x27;, &#x27;#017670ff&#x27;, &#x27;#01766fff&#x27;, &#x27;#01756fff&#x27;, &#x27;#01756eff&#x27;, &#x27;#01756dff&#x27;, &#x27;#01746cff&#x27;, &#x27;#01746bff&#x27;, &#x27;#01746bff&#x27;, &#x27;#01736aff&#x27;, &#x27;#017369ff&#x27;, &#x27;#017368ff&#x27;, &#x27;#017268ff&#x27;, &#x27;#017267ff&#x27;, &#x27;#017266ff&#x27;, &#x27;#017165ff&#x27;, &#x27;#017164ff&#x27;, &#x27;#017164ff&#x27;, &#x27;#017063ff&#x27;, &#x27;#017062ff&#x27;, &#x27;#017061ff&#x27;, &#x27;#016f60ff&#x27;, &#x27;#016f60ff&#x27;, &#x27;#016f5fff&#x27;, &#x27;#016e5eff&#x27;, &#x27;#016e5dff&#x27;, &#x27;#016d5cff&#x27;, &#x27;#016d5cff&#x27;, &#x27;#016d5bff&#x27;, &#x27;#016c5aff&#x27;, &#x27;#016c59ff&#x27;, &#x27;#016c59ff&#x27;, &#x27;#016b58ff&#x27;, &#x27;#016a58ff&#x27;, &#x27;#016a57ff&#x27;, &#x27;#016956ff&#x27;, &#x27;#016956ff&#x27;, &#x27;#016855ff&#x27;, &#x27;#016755ff&#x27;, &#x27;#016754ff&#x27;, &#x27;#016654ff&#x27;, &#x27;#016653ff&#x27;, &#x27;#016552ff&#x27;, &#x27;#016452ff&#x27;, &#x27;#016451ff&#x27;, &#x27;#016351ff&#x27;, &#x27;#016350ff&#x27;, &#x27;#016250ff&#x27;, &#x27;#01614fff&#x27;, &#x27;#01614eff&#x27;, &#x27;#01604eff&#x27;, &#x27;#015f4dff&#x27;, &#x27;#015f4dff&#x27;, &#x27;#015e4cff&#x27;, &#x27;#015e4cff&#x27;, &#x27;#015d4bff&#x27;, &#x27;#015c4bff&#x27;, &#x27;#015c4aff&#x27;, &#x27;#015b49ff&#x27;, &#x27;#015b49ff&#x27;, &#x27;#015a48ff&#x27;, &#x27;#015948ff&#x27;, &#x27;#015947ff&#x27;, &#x27;#015847ff&#x27;, &#x27;#015846ff&#x27;, &#x27;#015745ff&#x27;, &#x27;#015645ff&#x27;, &#x27;#015644ff&#x27;, &#x27;#015544ff&#x27;, &#x27;#015443ff&#x27;, &#x27;#015443ff&#x27;, &#x27;#015342ff&#x27;, &#x27;#015342ff&#x27;, &#x27;#015241ff&#x27;, &#x27;#015140ff&#x27;, &#x27;#015140ff&#x27;, &#x27;#01503fff&#x27;, &#x27;#01503fff&#x27;, &#x27;#014f3eff&#x27;, &#x27;#014e3eff&#x27;, &#x27;#014e3dff&#x27;, &#x27;#014d3cff&#x27;, &#x27;#014d3cff&#x27;, &#x27;#014c3bff&#x27;, &#x27;#014b3bff&#x27;, &#x27;#014b3aff&#x27;, &#x27;#014a3aff&#x27;, &#x27;#014939ff&#x27;, &#x27;#014939ff&#x27;, &#x27;#014838ff&#x27;, &#x27;#014837ff&#x27;, &#x27;#014737ff&#x27;, &#x27;#014636ff&#x27;, &#x27;#014636ff&#x27;]);\n",
       "    \n",
       "\n",
       "    color_map_f0a39dfe0ab69d3267297e640c75d035.x = d3.scale.linear()\n",
       "              .domain([1.0, 38.0])\n",
       "              .range([0, 450 - 50]);\n",
       "\n",
       "    color_map_f0a39dfe0ab69d3267297e640c75d035.legend = L.control({position: &#x27;topright&#x27;});\n",
       "    color_map_f0a39dfe0ab69d3267297e640c75d035.legend.onAdd = function (map) {var div = L.DomUtil.create(&#x27;div&#x27;, &#x27;legend&#x27;); return div};\n",
       "    color_map_f0a39dfe0ab69d3267297e640c75d035.legend.addTo(map_06f4211e55bf57a7c4f16f2df3f4ba02);\n",
       "\n",
       "    color_map_f0a39dfe0ab69d3267297e640c75d035.xAxis = d3.svg.axis()\n",
       "        .scale(color_map_f0a39dfe0ab69d3267297e640c75d035.x)\n",
       "        .orient(&quot;top&quot;)\n",
       "        .tickSize(1)\n",
       "        .tickValues([1.0, 5.625, 10.25, 14.875, 19.5, 24.125, 28.75, 33.375, 38.0]);\n",
       "\n",
       "    color_map_f0a39dfe0ab69d3267297e640c75d035.svg = d3.select(&quot;.legend.leaflet-control&quot;).append(&quot;svg&quot;)\n",
       "        .attr(&quot;id&quot;, &#x27;legend&#x27;)\n",
       "        .attr(&quot;width&quot;, 450)\n",
       "        .attr(&quot;height&quot;, 40);\n",
       "\n",
       "    color_map_f0a39dfe0ab69d3267297e640c75d035.g = color_map_f0a39dfe0ab69d3267297e640c75d035.svg.append(&quot;g&quot;)\n",
       "        .attr(&quot;class&quot;, &quot;key&quot;)\n",
       "        .attr(&quot;fill&quot;, &quot;black&quot;)\n",
       "        .attr(&quot;transform&quot;, &quot;translate(25,16)&quot;);\n",
       "\n",
       "    color_map_f0a39dfe0ab69d3267297e640c75d035.g.selectAll(&quot;rect&quot;)\n",
       "        .data(color_map_f0a39dfe0ab69d3267297e640c75d035.color.range().map(function(d, i) {\n",
       "          return {\n",
       "            x0: i ? color_map_f0a39dfe0ab69d3267297e640c75d035.x(color_map_f0a39dfe0ab69d3267297e640c75d035.color.domain()[i - 1]) : color_map_f0a39dfe0ab69d3267297e640c75d035.x.range()[0],\n",
       "            x1: i &lt; color_map_f0a39dfe0ab69d3267297e640c75d035.color.domain().length ? color_map_f0a39dfe0ab69d3267297e640c75d035.x(color_map_f0a39dfe0ab69d3267297e640c75d035.color.domain()[i]) : color_map_f0a39dfe0ab69d3267297e640c75d035.x.range()[1],\n",
       "            z: d\n",
       "          };\n",
       "        }))\n",
       "      .enter().append(&quot;rect&quot;)\n",
       "        .attr(&quot;height&quot;, 40 - 30)\n",
       "        .attr(&quot;x&quot;, function(d) { return d.x0; })\n",
       "        .attr(&quot;width&quot;, function(d) { return d.x1 - d.x0; })\n",
       "        .style(&quot;fill&quot;, function(d) { return d.z; });\n",
       "\n",
       "    color_map_f0a39dfe0ab69d3267297e640c75d035.g.call(color_map_f0a39dfe0ab69d3267297e640c75d035.xAxis).append(&quot;text&quot;)\n",
       "        .attr(&quot;class&quot;, &quot;caption&quot;)\n",
       "        .attr(&quot;y&quot;, 21)\n",
       "        .attr(&quot;fill&quot;, &quot;black&quot;)\n",
       "        .text(&quot;sightings&quot;);\n",
       "&lt;/script&gt;\n",
       "&lt;/html&gt;\" style=\"position:absolute;width:100%;height:100%;left:0;top:0;border:none !important;\" allowfullscreen webkitallowfullscreen mozallowfullscreen></iframe></div></div>"
      ],
      "text/plain": [
       "<folium.folium.Map at 0x7ff637efbeb0>"
      ]
     },
     "execution_count": 10,
     "metadata": {},
     "output_type": "execute_result"
    }
   ],
   "source": [
    "# adding gradient to base\n",
    "# https://python-visualization.github.io/folium/latest/advanced_guide/colormaps.html#Draw-a-ColorMap-on-a-map\n",
    "base.add_child(gradient)"
   ]
  },
  {
   "cell_type": "code",
   "execution_count": 11,
   "id": "29356edd-bfa8-4d02-800e-c0babfaac390",
   "metadata": {},
   "outputs": [],
   "source": [
    "# function to determine which color belongs to which county\n",
    "# tutoring session\n",
    "def style(feature):\n",
    "    count = feature[\"properties\"][\"counts\"]\n",
    "    colorforcount = gradient(count)\n",
    "    dict = {\n",
    "        \"fillColor\": colorforcount,\n",
    "        \"color\": \"black\",\n",
    "        \"fillOpacity\": 1,\n",
    "        \"weight\": 0.1,\n",
    "    }\n",
    "    return dict"
   ]
  },
  {
   "cell_type": "code",
   "execution_count": 12,
   "id": "65b96168-4435-4f80-b008-1e07017a6887",
   "metadata": {},
   "outputs": [
    {
     "data": {
      "text/plain": [
       "<folium.features.GeoJson at 0x7ff637f3f100>"
      ]
     },
     "execution_count": 12,
     "metadata": {},
     "output_type": "execute_result"
    }
   ],
   "source": [
    "# adding counties and colors to base\n",
    "# https://python-visualization.github.io/folium/latest/user_guide/geojson/geojson_popup_and_tooltip.html\n",
    "# https://python-visualization.github.io/folium/latest/user_guide/ui_elements/layer_control.html\n",
    "# tutoring session\n",
    "folium.GeoJson(normal, style_function=style, popup=popup,).add_to(base)"
   ]
  },
  {
   "cell_type": "code",
   "execution_count": 13,
   "id": "35b010f4-6977-44d4-ba74-de19a06e5973",
   "metadata": {},
   "outputs": [],
   "source": [
    "# saving base\n",
    "# xpert\n",
    "base.save(\"nooutliers.html\")"
   ]
  }
 ],
 "metadata": {
  "kernelspec": {
   "display_name": "Python 3 (ipykernel)",
   "language": "python",
   "name": "python3"
  },
  "language_info": {
   "codemirror_mode": {
    "name": "ipython",
    "version": 3
   },
   "file_extension": ".py",
   "mimetype": "text/x-python",
   "name": "python",
   "nbconvert_exporter": "python",
   "pygments_lexer": "ipython3",
   "version": "3.10.14"
  }
 },
 "nbformat": 4,
 "nbformat_minor": 5
}
