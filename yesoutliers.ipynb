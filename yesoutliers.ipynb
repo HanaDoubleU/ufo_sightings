{
 "cells": [
  {
   "cell_type": "code",
   "execution_count": 1,
   "id": "828007d4-0d3a-4b98-94b5-334db6ad2568",
   "metadata": {},
   "outputs": [],
   "source": [
    "# dependencies\n",
    "# reference: fourth week's third day's first activity\n",
    "# xpert\n",
    "import pandas as pd\n",
    "import geopandas as gpd\n",
    "# instructor's resources on slack\n",
    "    # https://realpython.com/python-folium-web-maps-from-data/#install-folium\n",
    "import folium\n",
    "# https://python-visualization.github.io/folium/latest/advanced_guide/colormaps.html\n",
    "# tutoring session\n",
    "import branca.colormap as cm\n",
    "# https://stackoverflow.com/questions/49699048/numpy-pandas-remove-outliers\n",
    "import numpy as np"
   ]
  },
  {
   "cell_type": "code",
   "execution_count": 2,
   "id": "a40b133a-5407-4fd9-a875-be1846abfe03",
   "metadata": {},
   "outputs": [],
   "source": [
    "# dependency\n",
    "# fourth week's first day's ninth activity\n",
    "from pathlib import Path"
   ]
  },
  {
   "cell_type": "code",
   "execution_count": 3,
   "id": "c625728a-f7a5-4258-ade0-fbaa93916a0d",
   "metadata": {},
   "outputs": [],
   "source": [
    "# path\n",
    "# fourth week's first day's ninth activity\n",
    "# tutoring session\n",
    "PATHtochoropleth = Path(\"Data/choropleth.geojson\")"
   ]
  },
  {
   "cell_type": "code",
   "execution_count": 4,
   "id": "46953f18-06ad-489d-a2a0-3125a097fb7b",
   "metadata": {},
   "outputs": [
    {
     "name": "stdout",
     "output_type": "stream",
     "text": [
      "(2672, 4)\n"
     ]
    },
    {
     "data": {
      "text/html": [
       "<div>\n",
       "<style scoped>\n",
       "    .dataframe tbody tr th:only-of-type {\n",
       "        vertical-align: middle;\n",
       "    }\n",
       "\n",
       "    .dataframe tbody tr th {\n",
       "        vertical-align: top;\n",
       "    }\n",
       "\n",
       "    .dataframe thead th {\n",
       "        text-align: right;\n",
       "    }\n",
       "</style>\n",
       "<table border=\"1\" class=\"dataframe\">\n",
       "  <thead>\n",
       "    <tr style=\"text-align: right;\">\n",
       "      <th></th>\n",
       "      <th>county</th>\n",
       "      <th>state</th>\n",
       "      <th>counts</th>\n",
       "      <th>geometry</th>\n",
       "    </tr>\n",
       "  </thead>\n",
       "  <tbody>\n",
       "    <tr>\n",
       "      <th>0</th>\n",
       "      <td>los angeles</td>\n",
       "      <td>california</td>\n",
       "      <td>1736</td>\n",
       "      <td>MULTIPOLYGON (((-118.67822 33.03973, -118.6785...</td>\n",
       "    </tr>\n",
       "    <tr>\n",
       "      <th>1</th>\n",
       "      <td>maricopa</td>\n",
       "      <td>arizona</td>\n",
       "      <td>1274</td>\n",
       "      <td>POLYGON ((-111.89310 33.20471, -111.89310 33.2...</td>\n",
       "    </tr>\n",
       "    <tr>\n",
       "      <th>2</th>\n",
       "      <td>king</td>\n",
       "      <td>washington</td>\n",
       "      <td>1095</td>\n",
       "      <td>POLYGON ((-122.00036 47.77540, -122.00038 47.7...</td>\n",
       "    </tr>\n",
       "    <tr>\n",
       "      <th>3</th>\n",
       "      <td>san diego</td>\n",
       "      <td>california</td>\n",
       "      <td>808</td>\n",
       "      <td>POLYGON ((-116.85262 32.55747, -116.85088 32.5...</td>\n",
       "    </tr>\n",
       "    <tr>\n",
       "      <th>4</th>\n",
       "      <td>cook</td>\n",
       "      <td>illinois</td>\n",
       "      <td>781</td>\n",
       "      <td>POLYGON ((-87.52500 41.64464, -87.52485 41.647...</td>\n",
       "    </tr>\n",
       "  </tbody>\n",
       "</table>\n",
       "</div>"
      ],
      "text/plain": [
       "        county       state  counts  \\\n",
       "0  los angeles  california    1736   \n",
       "1     maricopa     arizona    1274   \n",
       "2         king  washington    1095   \n",
       "3    san diego  california     808   \n",
       "4         cook    illinois     781   \n",
       "\n",
       "                                            geometry  \n",
       "0  MULTIPOLYGON (((-118.67822 33.03973, -118.6785...  \n",
       "1  POLYGON ((-111.89310 33.20471, -111.89310 33.2...  \n",
       "2  POLYGON ((-122.00036 47.77540, -122.00038 47.7...  \n",
       "3  POLYGON ((-116.85262 32.55747, -116.85088 32.5...  \n",
       "4  POLYGON ((-87.52500 41.64464, -87.52485 41.647...  "
      ]
     },
     "execution_count": 4,
     "metadata": {},
     "output_type": "execute_result"
    }
   ],
   "source": [
    "# reading choropleth.geojson\n",
    "# tutoring session\n",
    "normalplusoutliers = gpd.read_file(PATHtochoropleth)\n",
    "# verification\n",
    "# tutoring session\n",
    "print(normalplusoutliers.shape)\n",
    "normalplusoutliers.head()"
   ]
  },
  {
   "cell_type": "code",
   "execution_count": 6,
   "id": "19abfb60-c63d-48f5-a744-7f2b624a6755",
   "metadata": {},
   "outputs": [],
   "source": [
    "# getting higher, less common values; getting normal values\n",
    "# https://stackoverflow.com/questions/49699048/numpy-pandas-remove-outliers\n",
    "def yesoutliers(data):\n",
    "    q1, q3 = np.percentile(data, [25, 75])\n",
    "    iqr = q3 - q1\n",
    "    lowerbound = q1 - (iqr * 1.5)\n",
    "    upperbound = q3 + (iqr * 1.5)\n",
    "    # xpert\n",
    "    return np.where(data > upperbound)"
   ]
  },
  {
   "cell_type": "code",
   "execution_count": 7,
   "id": "0999a304-3b76-4343-9290-5666d139f9de",
   "metadata": {},
   "outputs": [
    {
     "name": "stdout",
     "output_type": "stream",
     "text": [
      "(351, 4)\n"
     ]
    },
    {
     "data": {
      "text/html": [
       "<div>\n",
       "<style scoped>\n",
       "    .dataframe tbody tr th:only-of-type {\n",
       "        vertical-align: middle;\n",
       "    }\n",
       "\n",
       "    .dataframe tbody tr th {\n",
       "        vertical-align: top;\n",
       "    }\n",
       "\n",
       "    .dataframe thead th {\n",
       "        text-align: right;\n",
       "    }\n",
       "</style>\n",
       "<table border=\"1\" class=\"dataframe\">\n",
       "  <thead>\n",
       "    <tr style=\"text-align: right;\">\n",
       "      <th></th>\n",
       "      <th>county</th>\n",
       "      <th>state</th>\n",
       "      <th>counts</th>\n",
       "      <th>geometry</th>\n",
       "    </tr>\n",
       "  </thead>\n",
       "  <tbody>\n",
       "    <tr>\n",
       "      <th>0</th>\n",
       "      <td>los angeles</td>\n",
       "      <td>california</td>\n",
       "      <td>1736</td>\n",
       "      <td>MULTIPOLYGON (((-118.67822 33.03973, -118.6785...</td>\n",
       "    </tr>\n",
       "    <tr>\n",
       "      <th>1</th>\n",
       "      <td>maricopa</td>\n",
       "      <td>arizona</td>\n",
       "      <td>1274</td>\n",
       "      <td>POLYGON ((-111.89310 33.20471, -111.89310 33.2...</td>\n",
       "    </tr>\n",
       "    <tr>\n",
       "      <th>2</th>\n",
       "      <td>king</td>\n",
       "      <td>washington</td>\n",
       "      <td>1095</td>\n",
       "      <td>POLYGON ((-122.00036 47.77540, -122.00038 47.7...</td>\n",
       "    </tr>\n",
       "    <tr>\n",
       "      <th>3</th>\n",
       "      <td>san diego</td>\n",
       "      <td>california</td>\n",
       "      <td>808</td>\n",
       "      <td>POLYGON ((-116.85262 32.55747, -116.85088 32.5...</td>\n",
       "    </tr>\n",
       "    <tr>\n",
       "      <th>4</th>\n",
       "      <td>cook</td>\n",
       "      <td>illinois</td>\n",
       "      <td>781</td>\n",
       "      <td>POLYGON ((-87.52500 41.64464, -87.52485 41.647...</td>\n",
       "    </tr>\n",
       "  </tbody>\n",
       "</table>\n",
       "</div>"
      ],
      "text/plain": [
       "        county       state  counts  \\\n",
       "0  los angeles  california    1736   \n",
       "1     maricopa     arizona    1274   \n",
       "2         king  washington    1095   \n",
       "3    san diego  california     808   \n",
       "4         cook    illinois     781   \n",
       "\n",
       "                                            geometry  \n",
       "0  MULTIPOLYGON (((-118.67822 33.03973, -118.6785...  \n",
       "1  POLYGON ((-111.89310 33.20471, -111.89310 33.2...  \n",
       "2  POLYGON ((-122.00036 47.77540, -122.00038 47.7...  \n",
       "3  POLYGON ((-116.85262 32.55747, -116.85088 32.5...  \n",
       "4  POLYGON ((-87.52500 41.64464, -87.52485 41.647...  "
      ]
     },
     "execution_count": 7,
     "metadata": {},
     "output_type": "execute_result"
    }
   ],
   "source": [
    "# outliers, yes outliers\n",
    "# https://stackoverflow.com/questions/49699048/numpy-pandas-remove-outliers\n",
    "# xpert\n",
    "outliers = normalplusoutliers.iloc[yesoutliers(normalplusoutliers[\"counts\"])]\n",
    "print(outliers.shape)\n",
    "outliers.head()"
   ]
  },
  {
   "cell_type": "code",
   "execution_count": 8,
   "id": "e54db10c-99c6-4822-b4d0-766ef08bb91e",
   "metadata": {},
   "outputs": [],
   "source": [
    "# base\n",
    "# https://python-visualization.github.io/folium/latest/user_guide/geojson/choropleth.html\n",
    "# https://www.openstreetmap.org/#map=3/38.01/-95.84\n",
    "base = folium.Map(location=[38.01, -95.84], zoom_start=3)"
   ]
  },
  {
   "cell_type": "code",
   "execution_count": 9,
   "id": "90095927-3ca4-4021-89db-49d69a17b99e",
   "metadata": {},
   "outputs": [],
   "source": [
    "# popup\n",
    "# https://python-visualization.github.io/folium/latest/user_guide/geojson/geojson_popup_and_tooltip.html\n",
    "popup = folium.GeoJsonPopup(\n",
    "    fields=[\"county\", \"counts\"],\n",
    "    aliases=[\"county\", \"sightings\"],\n",
    "    labels=True,\n",
    ")"
   ]
  },
  {
   "cell_type": "code",
   "execution_count": 10,
   "id": "fd98e323-614a-4d0a-bac1-07d9b81c8b95",
   "metadata": {},
   "outputs": [
    {
     "data": {
      "text/html": [
       "<svg height=\"40\" width=\"450\"><line x1=\"0\" y1=\"15\" x2=\"0\" y2=\"27\" style=\"stroke:#fff7fbff;stroke-width:2;\" /><line x1=\"1\" y1=\"15\" x2=\"1\" y2=\"27\" style=\"stroke:#fff7fbff;stroke-width:2;\" /><line x1=\"2\" y1=\"15\" x2=\"2\" y2=\"27\" style=\"stroke:#fff7fbff;stroke-width:2;\" /><line x1=\"3\" y1=\"15\" x2=\"3\" y2=\"27\" style=\"stroke:#fef6fbff;stroke-width:2;\" /><line x1=\"4\" y1=\"15\" x2=\"4\" y2=\"27\" style=\"stroke:#fef6fbff;stroke-width:2;\" /><line x1=\"5\" y1=\"15\" x2=\"5\" y2=\"27\" style=\"stroke:#fef6fbff;stroke-width:2;\" /><line x1=\"6\" y1=\"15\" x2=\"6\" y2=\"27\" style=\"stroke:#fdf5faff;stroke-width:2;\" /><line x1=\"7\" y1=\"15\" x2=\"7\" y2=\"27\" style=\"stroke:#fdf5faff;stroke-width:2;\" /><line x1=\"8\" y1=\"15\" x2=\"8\" y2=\"27\" style=\"stroke:#fdf4faff;stroke-width:2;\" /><line x1=\"9\" y1=\"15\" x2=\"9\" y2=\"27\" style=\"stroke:#fcf4faff;stroke-width:2;\" /><line x1=\"10\" y1=\"15\" x2=\"10\" y2=\"27\" style=\"stroke:#fcf4faff;stroke-width:2;\" /><line x1=\"11\" y1=\"15\" x2=\"11\" y2=\"27\" style=\"stroke:#fcf3f9ff;stroke-width:2;\" /><line x1=\"12\" y1=\"15\" x2=\"12\" y2=\"27\" style=\"stroke:#fbf3f9ff;stroke-width:2;\" /><line x1=\"13\" y1=\"15\" x2=\"13\" y2=\"27\" style=\"stroke:#fbf3f9ff;stroke-width:2;\" /><line x1=\"14\" y1=\"15\" x2=\"14\" y2=\"27\" style=\"stroke:#fbf2f9ff;stroke-width:2;\" /><line x1=\"15\" y1=\"15\" x2=\"15\" y2=\"27\" style=\"stroke:#faf2f9ff;stroke-width:2;\" /><line x1=\"16\" y1=\"15\" x2=\"16\" y2=\"27\" style=\"stroke:#faf1f8ff;stroke-width:2;\" /><line x1=\"17\" y1=\"15\" x2=\"17\" y2=\"27\" style=\"stroke:#faf1f8ff;stroke-width:2;\" /><line x1=\"18\" y1=\"15\" x2=\"18\" y2=\"27\" style=\"stroke:#f9f1f8ff;stroke-width:2;\" /><line x1=\"19\" y1=\"15\" x2=\"19\" y2=\"27\" style=\"stroke:#f9f0f8ff;stroke-width:2;\" /><line x1=\"20\" y1=\"15\" x2=\"20\" y2=\"27\" style=\"stroke:#f9f0f8ff;stroke-width:2;\" /><line x1=\"21\" y1=\"15\" x2=\"21\" y2=\"27\" style=\"stroke:#f8f0f7ff;stroke-width:2;\" /><line x1=\"22\" y1=\"15\" x2=\"22\" y2=\"27\" style=\"stroke:#f8eff7ff;stroke-width:2;\" /><line x1=\"23\" y1=\"15\" x2=\"23\" y2=\"27\" style=\"stroke:#f8eff7ff;stroke-width:2;\" /><line x1=\"24\" y1=\"15\" x2=\"24\" y2=\"27\" style=\"stroke:#f7eef7ff;stroke-width:2;\" /><line x1=\"25\" y1=\"15\" x2=\"25\" y2=\"27\" style=\"stroke:#f7eef7ff;stroke-width:2;\" /><line x1=\"26\" y1=\"15\" x2=\"26\" y2=\"27\" style=\"stroke:#f7eef6ff;stroke-width:2;\" /><line x1=\"27\" y1=\"15\" x2=\"27\" y2=\"27\" style=\"stroke:#f6edf6ff;stroke-width:2;\" /><line x1=\"28\" y1=\"15\" x2=\"28\" y2=\"27\" style=\"stroke:#f6edf6ff;stroke-width:2;\" /><line x1=\"29\" y1=\"15\" x2=\"29\" y2=\"27\" style=\"stroke:#f6edf6ff;stroke-width:2;\" /><line x1=\"30\" y1=\"15\" x2=\"30\" y2=\"27\" style=\"stroke:#f5ecf6ff;stroke-width:2;\" /><line x1=\"31\" y1=\"15\" x2=\"31\" y2=\"27\" style=\"stroke:#f5ecf5ff;stroke-width:2;\" /><line x1=\"32\" y1=\"15\" x2=\"32\" y2=\"27\" style=\"stroke:#f5ebf5ff;stroke-width:2;\" /><line x1=\"33\" y1=\"15\" x2=\"33\" y2=\"27\" style=\"stroke:#f4ebf5ff;stroke-width:2;\" /><line x1=\"34\" y1=\"15\" x2=\"34\" y2=\"27\" style=\"stroke:#f4ebf5ff;stroke-width:2;\" /><line x1=\"35\" y1=\"15\" x2=\"35\" y2=\"27\" style=\"stroke:#f4eaf5ff;stroke-width:2;\" /><line x1=\"36\" y1=\"15\" x2=\"36\" y2=\"27\" style=\"stroke:#f3eaf4ff;stroke-width:2;\" /><line x1=\"37\" y1=\"15\" x2=\"37\" y2=\"27\" style=\"stroke:#f3eaf4ff;stroke-width:2;\" /><line x1=\"38\" y1=\"15\" x2=\"38\" y2=\"27\" style=\"stroke:#f3e9f4ff;stroke-width:2;\" /><line x1=\"39\" y1=\"15\" x2=\"39\" y2=\"27\" style=\"stroke:#f2e9f4ff;stroke-width:2;\" /><line x1=\"40\" y1=\"15\" x2=\"40\" y2=\"27\" style=\"stroke:#f2e8f4ff;stroke-width:2;\" /><line x1=\"41\" y1=\"15\" x2=\"41\" y2=\"27\" style=\"stroke:#f2e8f3ff;stroke-width:2;\" /><line x1=\"42\" y1=\"15\" x2=\"42\" y2=\"27\" style=\"stroke:#f1e8f3ff;stroke-width:2;\" /><line x1=\"43\" y1=\"15\" x2=\"43\" y2=\"27\" style=\"stroke:#f1e7f3ff;stroke-width:2;\" /><line x1=\"44\" y1=\"15\" x2=\"44\" y2=\"27\" style=\"stroke:#f1e7f3ff;stroke-width:2;\" /><line x1=\"45\" y1=\"15\" x2=\"45\" y2=\"27\" style=\"stroke:#f0e7f3ff;stroke-width:2;\" /><line x1=\"46\" y1=\"15\" x2=\"46\" y2=\"27\" style=\"stroke:#f0e6f2ff;stroke-width:2;\" /><line x1=\"47\" y1=\"15\" x2=\"47\" y2=\"27\" style=\"stroke:#f0e6f2ff;stroke-width:2;\" /><line x1=\"48\" y1=\"15\" x2=\"48\" y2=\"27\" style=\"stroke:#efe5f2ff;stroke-width:2;\" /><line x1=\"49\" y1=\"15\" x2=\"49\" y2=\"27\" style=\"stroke:#efe5f2ff;stroke-width:2;\" /><line x1=\"50\" y1=\"15\" x2=\"50\" y2=\"27\" style=\"stroke:#efe5f2ff;stroke-width:2;\" /><line x1=\"51\" y1=\"15\" x2=\"51\" y2=\"27\" style=\"stroke:#eee4f1ff;stroke-width:2;\" /><line x1=\"52\" y1=\"15\" x2=\"52\" y2=\"27\" style=\"stroke:#eee4f1ff;stroke-width:2;\" /><line x1=\"53\" y1=\"15\" x2=\"53\" y2=\"27\" style=\"stroke:#ede4f1ff;stroke-width:2;\" /><line x1=\"54\" y1=\"15\" x2=\"54\" y2=\"27\" style=\"stroke:#ede3f1ff;stroke-width:2;\" /><line x1=\"55\" y1=\"15\" x2=\"55\" y2=\"27\" style=\"stroke:#ede3f1ff;stroke-width:2;\" /><line x1=\"56\" y1=\"15\" x2=\"56\" y2=\"27\" style=\"stroke:#ece2f0ff;stroke-width:2;\" /><line x1=\"57\" y1=\"15\" x2=\"57\" y2=\"27\" style=\"stroke:#ece2f0ff;stroke-width:2;\" /><line x1=\"58\" y1=\"15\" x2=\"58\" y2=\"27\" style=\"stroke:#ebe2f0ff;stroke-width:2;\" /><line x1=\"59\" y1=\"15\" x2=\"59\" y2=\"27\" style=\"stroke:#ebe2f0ff;stroke-width:2;\" /><line x1=\"60\" y1=\"15\" x2=\"60\" y2=\"27\" style=\"stroke:#eae1f0ff;stroke-width:2;\" /><line x1=\"61\" y1=\"15\" x2=\"61\" y2=\"27\" style=\"stroke:#eae1f0ff;stroke-width:2;\" /><line x1=\"62\" y1=\"15\" x2=\"62\" y2=\"27\" style=\"stroke:#e9e1efff;stroke-width:2;\" /><line x1=\"63\" y1=\"15\" x2=\"63\" y2=\"27\" style=\"stroke:#e9e0efff;stroke-width:2;\" /><line x1=\"64\" y1=\"15\" x2=\"64\" y2=\"27\" style=\"stroke:#e8e0efff;stroke-width:2;\" /><line x1=\"65\" y1=\"15\" x2=\"65\" y2=\"27\" style=\"stroke:#e8e0efff;stroke-width:2;\" /><line x1=\"66\" y1=\"15\" x2=\"66\" y2=\"27\" style=\"stroke:#e7dfefff;stroke-width:2;\" /><line x1=\"67\" y1=\"15\" x2=\"67\" y2=\"27\" style=\"stroke:#e7dfeeff;stroke-width:2;\" /><line x1=\"68\" y1=\"15\" x2=\"68\" y2=\"27\" style=\"stroke:#e6dfeeff;stroke-width:2;\" /><line x1=\"69\" y1=\"15\" x2=\"69\" y2=\"27\" style=\"stroke:#e6deeeff;stroke-width:2;\" /><line x1=\"70\" y1=\"15\" x2=\"70\" y2=\"27\" style=\"stroke:#e5deeeff;stroke-width:2;\" /><line x1=\"71\" y1=\"15\" x2=\"71\" y2=\"27\" style=\"stroke:#e5deeeff;stroke-width:2;\" /><line x1=\"72\" y1=\"15\" x2=\"72\" y2=\"27\" style=\"stroke:#e4deeeff;stroke-width:2;\" /><line x1=\"73\" y1=\"15\" x2=\"73\" y2=\"27\" style=\"stroke:#e4ddedff;stroke-width:2;\" /><line x1=\"74\" y1=\"15\" x2=\"74\" y2=\"27\" style=\"stroke:#e3ddedff;stroke-width:2;\" /><line x1=\"75\" y1=\"15\" x2=\"75\" y2=\"27\" style=\"stroke:#e3ddedff;stroke-width:2;\" /><line x1=\"76\" y1=\"15\" x2=\"76\" y2=\"27\" style=\"stroke:#e2dcedff;stroke-width:2;\" /><line x1=\"77\" y1=\"15\" x2=\"77\" y2=\"27\" style=\"stroke:#e2dcedff;stroke-width:2;\" /><line x1=\"78\" y1=\"15\" x2=\"78\" y2=\"27\" style=\"stroke:#e1dcedff;stroke-width:2;\" /><line x1=\"79\" y1=\"15\" x2=\"79\" y2=\"27\" style=\"stroke:#e1dbecff;stroke-width:2;\" /><line x1=\"80\" y1=\"15\" x2=\"80\" y2=\"27\" style=\"stroke:#e0dbecff;stroke-width:2;\" /><line x1=\"81\" y1=\"15\" x2=\"81\" y2=\"27\" style=\"stroke:#e0dbecff;stroke-width:2;\" /><line x1=\"82\" y1=\"15\" x2=\"82\" y2=\"27\" style=\"stroke:#dfdbecff;stroke-width:2;\" /><line x1=\"83\" y1=\"15\" x2=\"83\" y2=\"27\" style=\"stroke:#dfdaecff;stroke-width:2;\" /><line x1=\"84\" y1=\"15\" x2=\"84\" y2=\"27\" style=\"stroke:#dedaebff;stroke-width:2;\" /><line x1=\"85\" y1=\"15\" x2=\"85\" y2=\"27\" style=\"stroke:#dedaebff;stroke-width:2;\" /><line x1=\"86\" y1=\"15\" x2=\"86\" y2=\"27\" style=\"stroke:#ddd9ebff;stroke-width:2;\" /><line x1=\"87\" y1=\"15\" x2=\"87\" y2=\"27\" style=\"stroke:#ddd9ebff;stroke-width:2;\" /><line x1=\"88\" y1=\"15\" x2=\"88\" y2=\"27\" style=\"stroke:#dcd9ebff;stroke-width:2;\" /><line x1=\"89\" y1=\"15\" x2=\"89\" y2=\"27\" style=\"stroke:#dcd8ebff;stroke-width:2;\" /><line x1=\"90\" y1=\"15\" x2=\"90\" y2=\"27\" style=\"stroke:#dbd8eaff;stroke-width:2;\" /><line x1=\"91\" y1=\"15\" x2=\"91\" y2=\"27\" style=\"stroke:#dbd8eaff;stroke-width:2;\" /><line x1=\"92\" y1=\"15\" x2=\"92\" y2=\"27\" style=\"stroke:#dad7eaff;stroke-width:2;\" /><line x1=\"93\" y1=\"15\" x2=\"93\" y2=\"27\" style=\"stroke:#dad7eaff;stroke-width:2;\" /><line x1=\"94\" y1=\"15\" x2=\"94\" y2=\"27\" style=\"stroke:#d9d7eaff;stroke-width:2;\" /><line x1=\"95\" y1=\"15\" x2=\"95\" y2=\"27\" style=\"stroke:#d9d7e9ff;stroke-width:2;\" /><line x1=\"96\" y1=\"15\" x2=\"96\" y2=\"27\" style=\"stroke:#d8d6e9ff;stroke-width:2;\" /><line x1=\"97\" y1=\"15\" x2=\"97\" y2=\"27\" style=\"stroke:#d8d6e9ff;stroke-width:2;\" /><line x1=\"98\" y1=\"15\" x2=\"98\" y2=\"27\" style=\"stroke:#d7d6e9ff;stroke-width:2;\" /><line x1=\"99\" y1=\"15\" x2=\"99\" y2=\"27\" style=\"stroke:#d7d5e9ff;stroke-width:2;\" /><line x1=\"100\" y1=\"15\" x2=\"100\" y2=\"27\" style=\"stroke:#d6d5e9ff;stroke-width:2;\" /><line x1=\"101\" y1=\"15\" x2=\"101\" y2=\"27\" style=\"stroke:#d6d5e8ff;stroke-width:2;\" /><line x1=\"102\" y1=\"15\" x2=\"102\" y2=\"27\" style=\"stroke:#d5d4e8ff;stroke-width:2;\" /><line x1=\"103\" y1=\"15\" x2=\"103\" y2=\"27\" style=\"stroke:#d5d4e8ff;stroke-width:2;\" /><line x1=\"104\" y1=\"15\" x2=\"104\" y2=\"27\" style=\"stroke:#d4d4e8ff;stroke-width:2;\" /><line x1=\"105\" y1=\"15\" x2=\"105\" y2=\"27\" style=\"stroke:#d4d4e8ff;stroke-width:2;\" /><line x1=\"106\" y1=\"15\" x2=\"106\" y2=\"27\" style=\"stroke:#d3d3e8ff;stroke-width:2;\" /><line x1=\"107\" y1=\"15\" x2=\"107\" y2=\"27\" style=\"stroke:#d3d3e7ff;stroke-width:2;\" /><line x1=\"108\" y1=\"15\" x2=\"108\" y2=\"27\" style=\"stroke:#d2d3e7ff;stroke-width:2;\" /><line x1=\"109\" y1=\"15\" x2=\"109\" y2=\"27\" style=\"stroke:#d2d2e7ff;stroke-width:2;\" /><line x1=\"110\" y1=\"15\" x2=\"110\" y2=\"27\" style=\"stroke:#d1d2e7ff;stroke-width:2;\" /><line x1=\"111\" y1=\"15\" x2=\"111\" y2=\"27\" style=\"stroke:#d1d2e7ff;stroke-width:2;\" /><line x1=\"112\" y1=\"15\" x2=\"112\" y2=\"27\" style=\"stroke:#d0d1e6ff;stroke-width:2;\" /><line x1=\"113\" y1=\"15\" x2=\"113\" y2=\"27\" style=\"stroke:#d0d1e6ff;stroke-width:2;\" /><line x1=\"114\" y1=\"15\" x2=\"114\" y2=\"27\" style=\"stroke:#cfd1e6ff;stroke-width:2;\" /><line x1=\"115\" y1=\"15\" x2=\"115\" y2=\"27\" style=\"stroke:#ced0e6ff;stroke-width:2;\" /><line x1=\"116\" y1=\"15\" x2=\"116\" y2=\"27\" style=\"stroke:#cdd0e6ff;stroke-width:2;\" /><line x1=\"117\" y1=\"15\" x2=\"117\" y2=\"27\" style=\"stroke:#cdd0e5ff;stroke-width:2;\" /><line x1=\"118\" y1=\"15\" x2=\"118\" y2=\"27\" style=\"stroke:#cccfe5ff;stroke-width:2;\" /><line x1=\"119\" y1=\"15\" x2=\"119\" y2=\"27\" style=\"stroke:#cbcfe5ff;stroke-width:2;\" /><line x1=\"120\" y1=\"15\" x2=\"120\" y2=\"27\" style=\"stroke:#cacfe5ff;stroke-width:2;\" /><line x1=\"121\" y1=\"15\" x2=\"121\" y2=\"27\" style=\"stroke:#cacee5ff;stroke-width:2;\" /><line x1=\"122\" y1=\"15\" x2=\"122\" y2=\"27\" style=\"stroke:#c9cee4ff;stroke-width:2;\" /><line x1=\"123\" y1=\"15\" x2=\"123\" y2=\"27\" style=\"stroke:#c8cde4ff;stroke-width:2;\" /><line x1=\"124\" y1=\"15\" x2=\"124\" y2=\"27\" style=\"stroke:#c7cde4ff;stroke-width:2;\" /><line x1=\"125\" y1=\"15\" x2=\"125\" y2=\"27\" style=\"stroke:#c7cde4ff;stroke-width:2;\" /><line x1=\"126\" y1=\"15\" x2=\"126\" y2=\"27\" style=\"stroke:#c6cce4ff;stroke-width:2;\" /><line x1=\"127\" y1=\"15\" x2=\"127\" y2=\"27\" style=\"stroke:#c5cce3ff;stroke-width:2;\" /><line x1=\"128\" y1=\"15\" x2=\"128\" y2=\"27\" style=\"stroke:#c4cce3ff;stroke-width:2;\" /><line x1=\"129\" y1=\"15\" x2=\"129\" y2=\"27\" style=\"stroke:#c4cbe3ff;stroke-width:2;\" /><line x1=\"130\" y1=\"15\" x2=\"130\" y2=\"27\" style=\"stroke:#c3cbe3ff;stroke-width:2;\" /><line x1=\"131\" y1=\"15\" x2=\"131\" y2=\"27\" style=\"stroke:#c2cbe3ff;stroke-width:2;\" /><line x1=\"132\" y1=\"15\" x2=\"132\" y2=\"27\" style=\"stroke:#c1cae3ff;stroke-width:2;\" /><line x1=\"133\" y1=\"15\" x2=\"133\" y2=\"27\" style=\"stroke:#c1cae2ff;stroke-width:2;\" /><line x1=\"134\" y1=\"15\" x2=\"134\" y2=\"27\" style=\"stroke:#c0cae2ff;stroke-width:2;\" /><line x1=\"135\" y1=\"15\" x2=\"135\" y2=\"27\" style=\"stroke:#bfc9e2ff;stroke-width:2;\" /><line x1=\"136\" y1=\"15\" x2=\"136\" y2=\"27\" style=\"stroke:#bec9e2ff;stroke-width:2;\" /><line x1=\"137\" y1=\"15\" x2=\"137\" y2=\"27\" style=\"stroke:#bec8e2ff;stroke-width:2;\" /><line x1=\"138\" y1=\"15\" x2=\"138\" y2=\"27\" style=\"stroke:#bdc8e1ff;stroke-width:2;\" /><line x1=\"139\" y1=\"15\" x2=\"139\" y2=\"27\" style=\"stroke:#bcc8e1ff;stroke-width:2;\" /><line x1=\"140\" y1=\"15\" x2=\"140\" y2=\"27\" style=\"stroke:#bbc7e1ff;stroke-width:2;\" /><line x1=\"141\" y1=\"15\" x2=\"141\" y2=\"27\" style=\"stroke:#bbc7e1ff;stroke-width:2;\" /><line x1=\"142\" y1=\"15\" x2=\"142\" y2=\"27\" style=\"stroke:#bac7e1ff;stroke-width:2;\" /><line x1=\"143\" y1=\"15\" x2=\"143\" y2=\"27\" style=\"stroke:#b9c6e0ff;stroke-width:2;\" /><line x1=\"144\" y1=\"15\" x2=\"144\" y2=\"27\" style=\"stroke:#b8c6e0ff;stroke-width:2;\" /><line x1=\"145\" y1=\"15\" x2=\"145\" y2=\"27\" style=\"stroke:#b8c6e0ff;stroke-width:2;\" /><line x1=\"146\" y1=\"15\" x2=\"146\" y2=\"27\" style=\"stroke:#b7c5e0ff;stroke-width:2;\" /><line x1=\"147\" y1=\"15\" x2=\"147\" y2=\"27\" style=\"stroke:#b6c5e0ff;stroke-width:2;\" /><line x1=\"148\" y1=\"15\" x2=\"148\" y2=\"27\" style=\"stroke:#b5c5dfff;stroke-width:2;\" /><line x1=\"149\" y1=\"15\" x2=\"149\" y2=\"27\" style=\"stroke:#b5c4dfff;stroke-width:2;\" /><line x1=\"150\" y1=\"15\" x2=\"150\" y2=\"27\" style=\"stroke:#b4c4dfff;stroke-width:2;\" /><line x1=\"151\" y1=\"15\" x2=\"151\" y2=\"27\" style=\"stroke:#b3c3dfff;stroke-width:2;\" /><line x1=\"152\" y1=\"15\" x2=\"152\" y2=\"27\" style=\"stroke:#b2c3dfff;stroke-width:2;\" /><line x1=\"153\" y1=\"15\" x2=\"153\" y2=\"27\" style=\"stroke:#b2c3deff;stroke-width:2;\" /><line x1=\"154\" y1=\"15\" x2=\"154\" y2=\"27\" style=\"stroke:#b1c2deff;stroke-width:2;\" /><line x1=\"155\" y1=\"15\" x2=\"155\" y2=\"27\" style=\"stroke:#b0c2deff;stroke-width:2;\" /><line x1=\"156\" y1=\"15\" x2=\"156\" y2=\"27\" style=\"stroke:#afc2deff;stroke-width:2;\" /><line x1=\"157\" y1=\"15\" x2=\"157\" y2=\"27\" style=\"stroke:#afc1deff;stroke-width:2;\" /><line x1=\"158\" y1=\"15\" x2=\"158\" y2=\"27\" style=\"stroke:#aec1ddff;stroke-width:2;\" /><line x1=\"159\" y1=\"15\" x2=\"159\" y2=\"27\" style=\"stroke:#adc1ddff;stroke-width:2;\" /><line x1=\"160\" y1=\"15\" x2=\"160\" y2=\"27\" style=\"stroke:#acc0ddff;stroke-width:2;\" /><line x1=\"161\" y1=\"15\" x2=\"161\" y2=\"27\" style=\"stroke:#acc0ddff;stroke-width:2;\" /><line x1=\"162\" y1=\"15\" x2=\"162\" y2=\"27\" style=\"stroke:#abc0ddff;stroke-width:2;\" /><line x1=\"163\" y1=\"15\" x2=\"163\" y2=\"27\" style=\"stroke:#aabfdcff;stroke-width:2;\" /><line x1=\"164\" y1=\"15\" x2=\"164\" y2=\"27\" style=\"stroke:#a9bfdcff;stroke-width:2;\" /><line x1=\"165\" y1=\"15\" x2=\"165\" y2=\"27\" style=\"stroke:#a9bedcff;stroke-width:2;\" /><line x1=\"166\" y1=\"15\" x2=\"166\" y2=\"27\" style=\"stroke:#a8bedcff;stroke-width:2;\" /><line x1=\"167\" y1=\"15\" x2=\"167\" y2=\"27\" style=\"stroke:#a7bedcff;stroke-width:2;\" /><line x1=\"168\" y1=\"15\" x2=\"168\" y2=\"27\" style=\"stroke:#a6bddbff;stroke-width:2;\" /><line x1=\"169\" y1=\"15\" x2=\"169\" y2=\"27\" style=\"stroke:#a5bddbff;stroke-width:2;\" /><line x1=\"170\" y1=\"15\" x2=\"170\" y2=\"27\" style=\"stroke:#a4bddbff;stroke-width:2;\" /><line x1=\"171\" y1=\"15\" x2=\"171\" y2=\"27\" style=\"stroke:#a3bcdbff;stroke-width:2;\" /><line x1=\"172\" y1=\"15\" x2=\"172\" y2=\"27\" style=\"stroke:#a2bcdbff;stroke-width:2;\" /><line x1=\"173\" y1=\"15\" x2=\"173\" y2=\"27\" style=\"stroke:#a1bcdaff;stroke-width:2;\" /><line x1=\"174\" y1=\"15\" x2=\"174\" y2=\"27\" style=\"stroke:#a0bbdaff;stroke-width:2;\" /><line x1=\"175\" y1=\"15\" x2=\"175\" y2=\"27\" style=\"stroke:#9fbbdaff;stroke-width:2;\" /><line x1=\"176\" y1=\"15\" x2=\"176\" y2=\"27\" style=\"stroke:#9ebbdaff;stroke-width:2;\" /><line x1=\"177\" y1=\"15\" x2=\"177\" y2=\"27\" style=\"stroke:#9cbadaff;stroke-width:2;\" /><line x1=\"178\" y1=\"15\" x2=\"178\" y2=\"27\" style=\"stroke:#9bbad9ff;stroke-width:2;\" /><line x1=\"179\" y1=\"15\" x2=\"179\" y2=\"27\" style=\"stroke:#9ab9d9ff;stroke-width:2;\" /><line x1=\"180\" y1=\"15\" x2=\"180\" y2=\"27\" style=\"stroke:#99b9d9ff;stroke-width:2;\" /><line x1=\"181\" y1=\"15\" x2=\"181\" y2=\"27\" style=\"stroke:#98b9d9ff;stroke-width:2;\" /><line x1=\"182\" y1=\"15\" x2=\"182\" y2=\"27\" style=\"stroke:#97b8d8ff;stroke-width:2;\" /><line x1=\"183\" y1=\"15\" x2=\"183\" y2=\"27\" style=\"stroke:#96b8d8ff;stroke-width:2;\" /><line x1=\"184\" y1=\"15\" x2=\"184\" y2=\"27\" style=\"stroke:#95b8d8ff;stroke-width:2;\" /><line x1=\"185\" y1=\"15\" x2=\"185\" y2=\"27\" style=\"stroke:#93b7d8ff;stroke-width:2;\" /><line x1=\"186\" y1=\"15\" x2=\"186\" y2=\"27\" style=\"stroke:#92b7d8ff;stroke-width:2;\" /><line x1=\"187\" y1=\"15\" x2=\"187\" y2=\"27\" style=\"stroke:#91b7d7ff;stroke-width:2;\" /><line x1=\"188\" y1=\"15\" x2=\"188\" y2=\"27\" style=\"stroke:#90b6d7ff;stroke-width:2;\" /><line x1=\"189\" y1=\"15\" x2=\"189\" y2=\"27\" style=\"stroke:#8fb6d7ff;stroke-width:2;\" /><line x1=\"190\" y1=\"15\" x2=\"190\" y2=\"27\" style=\"stroke:#8eb6d7ff;stroke-width:2;\" /><line x1=\"191\" y1=\"15\" x2=\"191\" y2=\"27\" style=\"stroke:#8db5d7ff;stroke-width:2;\" /><line x1=\"192\" y1=\"15\" x2=\"192\" y2=\"27\" style=\"stroke:#8cb5d6ff;stroke-width:2;\" /><line x1=\"193\" y1=\"15\" x2=\"193\" y2=\"27\" style=\"stroke:#8ab4d6ff;stroke-width:2;\" /><line x1=\"194\" y1=\"15\" x2=\"194\" y2=\"27\" style=\"stroke:#89b4d6ff;stroke-width:2;\" /><line x1=\"195\" y1=\"15\" x2=\"195\" y2=\"27\" style=\"stroke:#88b4d6ff;stroke-width:2;\" /><line x1=\"196\" y1=\"15\" x2=\"196\" y2=\"27\" style=\"stroke:#87b3d5ff;stroke-width:2;\" /><line x1=\"197\" y1=\"15\" x2=\"197\" y2=\"27\" style=\"stroke:#86b3d5ff;stroke-width:2;\" /><line x1=\"198\" y1=\"15\" x2=\"198\" y2=\"27\" style=\"stroke:#85b3d5ff;stroke-width:2;\" /><line x1=\"199\" y1=\"15\" x2=\"199\" y2=\"27\" style=\"stroke:#84b2d5ff;stroke-width:2;\" /><line x1=\"200\" y1=\"15\" x2=\"200\" y2=\"27\" style=\"stroke:#83b2d5ff;stroke-width:2;\" /><line x1=\"201\" y1=\"15\" x2=\"201\" y2=\"27\" style=\"stroke:#81b2d4ff;stroke-width:2;\" /><line x1=\"202\" y1=\"15\" x2=\"202\" y2=\"27\" style=\"stroke:#80b1d4ff;stroke-width:2;\" /><line x1=\"203\" y1=\"15\" x2=\"203\" y2=\"27\" style=\"stroke:#7fb1d4ff;stroke-width:2;\" /><line x1=\"204\" y1=\"15\" x2=\"204\" y2=\"27\" style=\"stroke:#7eb0d4ff;stroke-width:2;\" /><line x1=\"205\" y1=\"15\" x2=\"205\" y2=\"27\" style=\"stroke:#7db0d3ff;stroke-width:2;\" /><line x1=\"206\" y1=\"15\" x2=\"206\" y2=\"27\" style=\"stroke:#7cb0d3ff;stroke-width:2;\" /><line x1=\"207\" y1=\"15\" x2=\"207\" y2=\"27\" style=\"stroke:#7bafd3ff;stroke-width:2;\" /><line x1=\"208\" y1=\"15\" x2=\"208\" y2=\"27\" style=\"stroke:#79afd3ff;stroke-width:2;\" /><line x1=\"209\" y1=\"15\" x2=\"209\" y2=\"27\" style=\"stroke:#78afd3ff;stroke-width:2;\" /><line x1=\"210\" y1=\"15\" x2=\"210\" y2=\"27\" style=\"stroke:#77aed2ff;stroke-width:2;\" /><line x1=\"211\" y1=\"15\" x2=\"211\" y2=\"27\" style=\"stroke:#76aed2ff;stroke-width:2;\" /><line x1=\"212\" y1=\"15\" x2=\"212\" y2=\"27\" style=\"stroke:#75aed2ff;stroke-width:2;\" /><line x1=\"213\" y1=\"15\" x2=\"213\" y2=\"27\" style=\"stroke:#74add2ff;stroke-width:2;\" /><line x1=\"214\" y1=\"15\" x2=\"214\" y2=\"27\" style=\"stroke:#73add2ff;stroke-width:2;\" /><line x1=\"215\" y1=\"15\" x2=\"215\" y2=\"27\" style=\"stroke:#72add1ff;stroke-width:2;\" /><line x1=\"216\" y1=\"15\" x2=\"216\" y2=\"27\" style=\"stroke:#70acd1ff;stroke-width:2;\" /><line x1=\"217\" y1=\"15\" x2=\"217\" y2=\"27\" style=\"stroke:#6facd1ff;stroke-width:2;\" /><line x1=\"218\" y1=\"15\" x2=\"218\" y2=\"27\" style=\"stroke:#6eabd1ff;stroke-width:2;\" /><line x1=\"219\" y1=\"15\" x2=\"219\" y2=\"27\" style=\"stroke:#6dabd0ff;stroke-width:2;\" /><line x1=\"220\" y1=\"15\" x2=\"220\" y2=\"27\" style=\"stroke:#6cabd0ff;stroke-width:2;\" /><line x1=\"221\" y1=\"15\" x2=\"221\" y2=\"27\" style=\"stroke:#6baad0ff;stroke-width:2;\" /><line x1=\"222\" y1=\"15\" x2=\"222\" y2=\"27\" style=\"stroke:#6aaad0ff;stroke-width:2;\" /><line x1=\"223\" y1=\"15\" x2=\"223\" y2=\"27\" style=\"stroke:#69aad0ff;stroke-width:2;\" /><line x1=\"224\" y1=\"15\" x2=\"224\" y2=\"27\" style=\"stroke:#67a9cfff;stroke-width:2;\" /><line x1=\"225\" y1=\"15\" x2=\"225\" y2=\"27\" style=\"stroke:#66a9cfff;stroke-width:2;\" /><line x1=\"226\" y1=\"15\" x2=\"226\" y2=\"27\" style=\"stroke:#66a8cfff;stroke-width:2;\" /><line x1=\"227\" y1=\"15\" x2=\"227\" y2=\"27\" style=\"stroke:#65a8cfff;stroke-width:2;\" /><line x1=\"228\" y1=\"15\" x2=\"228\" y2=\"27\" style=\"stroke:#64a8ceff;stroke-width:2;\" /><line x1=\"229\" y1=\"15\" x2=\"229\" y2=\"27\" style=\"stroke:#63a7ceff;stroke-width:2;\" /><line x1=\"230\" y1=\"15\" x2=\"230\" y2=\"27\" style=\"stroke:#62a7ceff;stroke-width:2;\" /><line x1=\"231\" y1=\"15\" x2=\"231\" y2=\"27\" style=\"stroke:#61a6ceff;stroke-width:2;\" /><line x1=\"232\" y1=\"15\" x2=\"232\" y2=\"27\" style=\"stroke:#60a6cdff;stroke-width:2;\" /><line x1=\"233\" y1=\"15\" x2=\"233\" y2=\"27\" style=\"stroke:#5fa5cdff;stroke-width:2;\" /><line x1=\"234\" y1=\"15\" x2=\"234\" y2=\"27\" style=\"stroke:#5fa5cdff;stroke-width:2;\" /><line x1=\"235\" y1=\"15\" x2=\"235\" y2=\"27\" style=\"stroke:#5ea4ccff;stroke-width:2;\" /><line x1=\"236\" y1=\"15\" x2=\"236\" y2=\"27\" style=\"stroke:#5da4ccff;stroke-width:2;\" /><line x1=\"237\" y1=\"15\" x2=\"237\" y2=\"27\" style=\"stroke:#5ca4ccff;stroke-width:2;\" /><line x1=\"238\" y1=\"15\" x2=\"238\" y2=\"27\" style=\"stroke:#5ba3ccff;stroke-width:2;\" /><line x1=\"239\" y1=\"15\" x2=\"239\" y2=\"27\" style=\"stroke:#5aa3cbff;stroke-width:2;\" /><line x1=\"240\" y1=\"15\" x2=\"240\" y2=\"27\" style=\"stroke:#59a2cbff;stroke-width:2;\" /><line x1=\"241\" y1=\"15\" x2=\"241\" y2=\"27\" style=\"stroke:#58a2cbff;stroke-width:2;\" /><line x1=\"242\" y1=\"15\" x2=\"242\" y2=\"27\" style=\"stroke:#58a1cbff;stroke-width:2;\" /><line x1=\"243\" y1=\"15\" x2=\"243\" y2=\"27\" style=\"stroke:#57a1caff;stroke-width:2;\" /><line x1=\"244\" y1=\"15\" x2=\"244\" y2=\"27\" style=\"stroke:#56a0caff;stroke-width:2;\" /><line x1=\"245\" y1=\"15\" x2=\"245\" y2=\"27\" style=\"stroke:#55a0caff;stroke-width:2;\" /><line x1=\"246\" y1=\"15\" x2=\"246\" y2=\"27\" style=\"stroke:#54a0caff;stroke-width:2;\" /><line x1=\"247\" y1=\"15\" x2=\"247\" y2=\"27\" style=\"stroke:#539fc9ff;stroke-width:2;\" /><line x1=\"248\" y1=\"15\" x2=\"248\" y2=\"27\" style=\"stroke:#529fc9ff;stroke-width:2;\" /><line x1=\"249\" y1=\"15\" x2=\"249\" y2=\"27\" style=\"stroke:#519ec9ff;stroke-width:2;\" /><line x1=\"250\" y1=\"15\" x2=\"250\" y2=\"27\" style=\"stroke:#519ec8ff;stroke-width:2;\" /><line x1=\"251\" y1=\"15\" x2=\"251\" y2=\"27\" style=\"stroke:#509dc8ff;stroke-width:2;\" /><line x1=\"252\" y1=\"15\" x2=\"252\" y2=\"27\" style=\"stroke:#4f9dc8ff;stroke-width:2;\" /><line x1=\"253\" y1=\"15\" x2=\"253\" y2=\"27\" style=\"stroke:#4e9cc8ff;stroke-width:2;\" /><line x1=\"254\" y1=\"15\" x2=\"254\" y2=\"27\" style=\"stroke:#4d9cc7ff;stroke-width:2;\" /><line x1=\"255\" y1=\"15\" x2=\"255\" y2=\"27\" style=\"stroke:#4c9cc7ff;stroke-width:2;\" /><line x1=\"256\" y1=\"15\" x2=\"256\" y2=\"27\" style=\"stroke:#4b9bc7ff;stroke-width:2;\" /><line x1=\"257\" y1=\"15\" x2=\"257\" y2=\"27\" style=\"stroke:#4a9bc7ff;stroke-width:2;\" /><line x1=\"258\" y1=\"15\" x2=\"258\" y2=\"27\" style=\"stroke:#4a9ac6ff;stroke-width:2;\" /><line x1=\"259\" y1=\"15\" x2=\"259\" y2=\"27\" style=\"stroke:#499ac6ff;stroke-width:2;\" /><line x1=\"260\" y1=\"15\" x2=\"260\" y2=\"27\" style=\"stroke:#4899c6ff;stroke-width:2;\" /><line x1=\"261\" y1=\"15\" x2=\"261\" y2=\"27\" style=\"stroke:#4799c6ff;stroke-width:2;\" /><line x1=\"262\" y1=\"15\" x2=\"262\" y2=\"27\" style=\"stroke:#4698c5ff;stroke-width:2;\" /><line x1=\"263\" y1=\"15\" x2=\"263\" y2=\"27\" style=\"stroke:#4598c5ff;stroke-width:2;\" /><line x1=\"264\" y1=\"15\" x2=\"264\" y2=\"27\" style=\"stroke:#4497c5ff;stroke-width:2;\" /><line x1=\"265\" y1=\"15\" x2=\"265\" y2=\"27\" style=\"stroke:#4397c4ff;stroke-width:2;\" /><line x1=\"266\" y1=\"15\" x2=\"266\" y2=\"27\" style=\"stroke:#4397c4ff;stroke-width:2;\" /><line x1=\"267\" y1=\"15\" x2=\"267\" y2=\"27\" style=\"stroke:#4296c4ff;stroke-width:2;\" /><line x1=\"268\" y1=\"15\" x2=\"268\" y2=\"27\" style=\"stroke:#4196c4ff;stroke-width:2;\" /><line x1=\"269\" y1=\"15\" x2=\"269\" y2=\"27\" style=\"stroke:#4095c3ff;stroke-width:2;\" /><line x1=\"270\" y1=\"15\" x2=\"270\" y2=\"27\" style=\"stroke:#3f95c3ff;stroke-width:2;\" /><line x1=\"271\" y1=\"15\" x2=\"271\" y2=\"27\" style=\"stroke:#3e94c3ff;stroke-width:2;\" /><line x1=\"272\" y1=\"15\" x2=\"272\" y2=\"27\" style=\"stroke:#3d94c3ff;stroke-width:2;\" /><line x1=\"273\" y1=\"15\" x2=\"273\" y2=\"27\" style=\"stroke:#3c93c2ff;stroke-width:2;\" /><line x1=\"274\" y1=\"15\" x2=\"274\" y2=\"27\" style=\"stroke:#3c93c2ff;stroke-width:2;\" /><line x1=\"275\" y1=\"15\" x2=\"275\" y2=\"27\" style=\"stroke:#3b93c2ff;stroke-width:2;\" /><line x1=\"276\" y1=\"15\" x2=\"276\" y2=\"27\" style=\"stroke:#3a92c1ff;stroke-width:2;\" /><line x1=\"277\" y1=\"15\" x2=\"277\" y2=\"27\" style=\"stroke:#3992c1ff;stroke-width:2;\" /><line x1=\"278\" y1=\"15\" x2=\"278\" y2=\"27\" style=\"stroke:#3891c1ff;stroke-width:2;\" /><line x1=\"279\" y1=\"15\" x2=\"279\" y2=\"27\" style=\"stroke:#3791c1ff;stroke-width:2;\" /><line x1=\"280\" y1=\"15\" x2=\"280\" y2=\"27\" style=\"stroke:#3690c0ff;stroke-width:2;\" /><line x1=\"281\" y1=\"15\" x2=\"281\" y2=\"27\" style=\"stroke:#3590c0ff;stroke-width:2;\" /><line x1=\"282\" y1=\"15\" x2=\"282\" y2=\"27\" style=\"stroke:#3490bfff;stroke-width:2;\" /><line x1=\"283\" y1=\"15\" x2=\"283\" y2=\"27\" style=\"stroke:#348fbeff;stroke-width:2;\" /><line x1=\"284\" y1=\"15\" x2=\"284\" y2=\"27\" style=\"stroke:#338fbdff;stroke-width:2;\" /><line x1=\"285\" y1=\"15\" x2=\"285\" y2=\"27\" style=\"stroke:#328fbcff;stroke-width:2;\" /><line x1=\"286\" y1=\"15\" x2=\"286\" y2=\"27\" style=\"stroke:#318fbbff;stroke-width:2;\" /><line x1=\"287\" y1=\"15\" x2=\"287\" y2=\"27\" style=\"stroke:#308ebaff;stroke-width:2;\" /><line x1=\"288\" y1=\"15\" x2=\"288\" y2=\"27\" style=\"stroke:#2f8eb9ff;stroke-width:2;\" /><line x1=\"289\" y1=\"15\" x2=\"289\" y2=\"27\" style=\"stroke:#2e8eb8ff;stroke-width:2;\" /><line x1=\"290\" y1=\"15\" x2=\"290\" y2=\"27\" style=\"stroke:#2d8eb7ff;stroke-width:2;\" /><line x1=\"291\" y1=\"15\" x2=\"291\" y2=\"27\" style=\"stroke:#2c8db6ff;stroke-width:2;\" /><line x1=\"292\" y1=\"15\" x2=\"292\" y2=\"27\" style=\"stroke:#2b8db5ff;stroke-width:2;\" /><line x1=\"293\" y1=\"15\" x2=\"293\" y2=\"27\" style=\"stroke:#2a8db4ff;stroke-width:2;\" /><line x1=\"294\" y1=\"15\" x2=\"294\" y2=\"27\" style=\"stroke:#298cb3ff;stroke-width:2;\" /><line x1=\"295\" y1=\"15\" x2=\"295\" y2=\"27\" style=\"stroke:#288cb2ff;stroke-width:2;\" /><line x1=\"296\" y1=\"15\" x2=\"296\" y2=\"27\" style=\"stroke:#278cb1ff;stroke-width:2;\" /><line x1=\"297\" y1=\"15\" x2=\"297\" y2=\"27\" style=\"stroke:#268cb0ff;stroke-width:2;\" /><line x1=\"298\" y1=\"15\" x2=\"298\" y2=\"27\" style=\"stroke:#268bafff;stroke-width:2;\" /><line x1=\"299\" y1=\"15\" x2=\"299\" y2=\"27\" style=\"stroke:#258bafff;stroke-width:2;\" /><line x1=\"300\" y1=\"15\" x2=\"300\" y2=\"27\" style=\"stroke:#248baeff;stroke-width:2;\" /><line x1=\"301\" y1=\"15\" x2=\"301\" y2=\"27\" style=\"stroke:#238badff;stroke-width:2;\" /><line x1=\"302\" y1=\"15\" x2=\"302\" y2=\"27\" style=\"stroke:#228aacff;stroke-width:2;\" /><line x1=\"303\" y1=\"15\" x2=\"303\" y2=\"27\" style=\"stroke:#218aabff;stroke-width:2;\" /><line x1=\"304\" y1=\"15\" x2=\"304\" y2=\"27\" style=\"stroke:#208aaaff;stroke-width:2;\" /><line x1=\"305\" y1=\"15\" x2=\"305\" y2=\"27\" style=\"stroke:#1f8aa9ff;stroke-width:2;\" /><line x1=\"306\" y1=\"15\" x2=\"306\" y2=\"27\" style=\"stroke:#1e89a8ff;stroke-width:2;\" /><line x1=\"307\" y1=\"15\" x2=\"307\" y2=\"27\" style=\"stroke:#1d89a7ff;stroke-width:2;\" /><line x1=\"308\" y1=\"15\" x2=\"308\" y2=\"27\" style=\"stroke:#1c89a6ff;stroke-width:2;\" /><line x1=\"309\" y1=\"15\" x2=\"309\" y2=\"27\" style=\"stroke:#1b88a5ff;stroke-width:2;\" /><line x1=\"310\" y1=\"15\" x2=\"310\" y2=\"27\" style=\"stroke:#1a88a4ff;stroke-width:2;\" /><line x1=\"311\" y1=\"15\" x2=\"311\" y2=\"27\" style=\"stroke:#1988a3ff;stroke-width:2;\" /><line x1=\"312\" y1=\"15\" x2=\"312\" y2=\"27\" style=\"stroke:#1988a2ff;stroke-width:2;\" /><line x1=\"313\" y1=\"15\" x2=\"313\" y2=\"27\" style=\"stroke:#1887a1ff;stroke-width:2;\" /><line x1=\"314\" y1=\"15\" x2=\"314\" y2=\"27\" style=\"stroke:#1787a0ff;stroke-width:2;\" /><line x1=\"315\" y1=\"15\" x2=\"315\" y2=\"27\" style=\"stroke:#16879fff;stroke-width:2;\" /><line x1=\"316\" y1=\"15\" x2=\"316\" y2=\"27\" style=\"stroke:#15879eff;stroke-width:2;\" /><line x1=\"317\" y1=\"15\" x2=\"317\" y2=\"27\" style=\"stroke:#14869dff;stroke-width:2;\" /><line x1=\"318\" y1=\"15\" x2=\"318\" y2=\"27\" style=\"stroke:#13869cff;stroke-width:2;\" /><line x1=\"319\" y1=\"15\" x2=\"319\" y2=\"27\" style=\"stroke:#12869bff;stroke-width:2;\" /><line x1=\"320\" y1=\"15\" x2=\"320\" y2=\"27\" style=\"stroke:#11869aff;stroke-width:2;\" /><line x1=\"321\" y1=\"15\" x2=\"321\" y2=\"27\" style=\"stroke:#108599ff;stroke-width:2;\" /><line x1=\"322\" y1=\"15\" x2=\"322\" y2=\"27\" style=\"stroke:#0f8598ff;stroke-width:2;\" /><line x1=\"323\" y1=\"15\" x2=\"323\" y2=\"27\" style=\"stroke:#0e8597ff;stroke-width:2;\" /><line x1=\"324\" y1=\"15\" x2=\"324\" y2=\"27\" style=\"stroke:#0d8496ff;stroke-width:2;\" /><line x1=\"325\" y1=\"15\" x2=\"325\" y2=\"27\" style=\"stroke:#0c8495ff;stroke-width:2;\" /><line x1=\"326\" y1=\"15\" x2=\"326\" y2=\"27\" style=\"stroke:#0c8494ff;stroke-width:2;\" /><line x1=\"327\" y1=\"15\" x2=\"327\" y2=\"27\" style=\"stroke:#0b8493ff;stroke-width:2;\" /><line x1=\"328\" y1=\"15\" x2=\"328\" y2=\"27\" style=\"stroke:#0a8392ff;stroke-width:2;\" /><line x1=\"329\" y1=\"15\" x2=\"329\" y2=\"27\" style=\"stroke:#098392ff;stroke-width:2;\" /><line x1=\"330\" y1=\"15\" x2=\"330\" y2=\"27\" style=\"stroke:#088391ff;stroke-width:2;\" /><line x1=\"331\" y1=\"15\" x2=\"331\" y2=\"27\" style=\"stroke:#078390ff;stroke-width:2;\" /><line x1=\"332\" y1=\"15\" x2=\"332\" y2=\"27\" style=\"stroke:#06828fff;stroke-width:2;\" /><line x1=\"333\" y1=\"15\" x2=\"333\" y2=\"27\" style=\"stroke:#05828eff;stroke-width:2;\" /><line x1=\"334\" y1=\"15\" x2=\"334\" y2=\"27\" style=\"stroke:#04828dff;stroke-width:2;\" /><line x1=\"335\" y1=\"15\" x2=\"335\" y2=\"27\" style=\"stroke:#03818cff;stroke-width:2;\" /><line x1=\"336\" y1=\"15\" x2=\"336\" y2=\"27\" style=\"stroke:#02818bff;stroke-width:2;\" /><line x1=\"337\" y1=\"15\" x2=\"337\" y2=\"27\" style=\"stroke:#02818aff;stroke-width:2;\" /><line x1=\"338\" y1=\"15\" x2=\"338\" y2=\"27\" style=\"stroke:#018189ff;stroke-width:2;\" /><line x1=\"339\" y1=\"15\" x2=\"339\" y2=\"27\" style=\"stroke:#018088ff;stroke-width:2;\" /><line x1=\"340\" y1=\"15\" x2=\"340\" y2=\"27\" style=\"stroke:#018087ff;stroke-width:2;\" /><line x1=\"341\" y1=\"15\" x2=\"341\" y2=\"27\" style=\"stroke:#017f86ff;stroke-width:2;\" /><line x1=\"342\" y1=\"15\" x2=\"342\" y2=\"27\" style=\"stroke:#017f85ff;stroke-width:2;\" /><line x1=\"343\" y1=\"15\" x2=\"343\" y2=\"27\" style=\"stroke:#017f85ff;stroke-width:2;\" /><line x1=\"344\" y1=\"15\" x2=\"344\" y2=\"27\" style=\"stroke:#017e84ff;stroke-width:2;\" /><line x1=\"345\" y1=\"15\" x2=\"345\" y2=\"27\" style=\"stroke:#017e83ff;stroke-width:2;\" /><line x1=\"346\" y1=\"15\" x2=\"346\" y2=\"27\" style=\"stroke:#017e82ff;stroke-width:2;\" /><line x1=\"347\" y1=\"15\" x2=\"347\" y2=\"27\" style=\"stroke:#017d81ff;stroke-width:2;\" /><line x1=\"348\" y1=\"15\" x2=\"348\" y2=\"27\" style=\"stroke:#017d80ff;stroke-width:2;\" /><line x1=\"349\" y1=\"15\" x2=\"349\" y2=\"27\" style=\"stroke:#017c7fff;stroke-width:2;\" /><line x1=\"350\" y1=\"15\" x2=\"350\" y2=\"27\" style=\"stroke:#017c7eff;stroke-width:2;\" /><line x1=\"351\" y1=\"15\" x2=\"351\" y2=\"27\" style=\"stroke:#017c7eff;stroke-width:2;\" /><line x1=\"352\" y1=\"15\" x2=\"352\" y2=\"27\" style=\"stroke:#017b7dff;stroke-width:2;\" /><line x1=\"353\" y1=\"15\" x2=\"353\" y2=\"27\" style=\"stroke:#017b7cff;stroke-width:2;\" /><line x1=\"354\" y1=\"15\" x2=\"354\" y2=\"27\" style=\"stroke:#017b7bff;stroke-width:2;\" /><line x1=\"355\" y1=\"15\" x2=\"355\" y2=\"27\" style=\"stroke:#017a7aff;stroke-width:2;\" /><line x1=\"356\" y1=\"15\" x2=\"356\" y2=\"27\" style=\"stroke:#017a79ff;stroke-width:2;\" /><line x1=\"357\" y1=\"15\" x2=\"357\" y2=\"27\" style=\"stroke:#017978ff;stroke-width:2;\" /><line x1=\"358\" y1=\"15\" x2=\"358\" y2=\"27\" style=\"stroke:#017977ff;stroke-width:2;\" /><line x1=\"359\" y1=\"15\" x2=\"359\" y2=\"27\" style=\"stroke:#017977ff;stroke-width:2;\" /><line x1=\"360\" y1=\"15\" x2=\"360\" y2=\"27\" style=\"stroke:#017876ff;stroke-width:2;\" /><line x1=\"361\" y1=\"15\" x2=\"361\" y2=\"27\" style=\"stroke:#017875ff;stroke-width:2;\" /><line x1=\"362\" y1=\"15\" x2=\"362\" y2=\"27\" style=\"stroke:#017874ff;stroke-width:2;\" /><line x1=\"363\" y1=\"15\" x2=\"363\" y2=\"27\" style=\"stroke:#017773ff;stroke-width:2;\" /><line x1=\"364\" y1=\"15\" x2=\"364\" y2=\"27\" style=\"stroke:#017772ff;stroke-width:2;\" /><line x1=\"365\" y1=\"15\" x2=\"365\" y2=\"27\" style=\"stroke:#017671ff;stroke-width:2;\" /><line x1=\"366\" y1=\"15\" x2=\"366\" y2=\"27\" style=\"stroke:#017670ff;stroke-width:2;\" /><line x1=\"367\" y1=\"15\" x2=\"367\" y2=\"27\" style=\"stroke:#017670ff;stroke-width:2;\" /><line x1=\"368\" y1=\"15\" x2=\"368\" y2=\"27\" style=\"stroke:#01756fff;stroke-width:2;\" /><line x1=\"369\" y1=\"15\" x2=\"369\" y2=\"27\" style=\"stroke:#01756eff;stroke-width:2;\" /><line x1=\"370\" y1=\"15\" x2=\"370\" y2=\"27\" style=\"stroke:#01756dff;stroke-width:2;\" /><line x1=\"371\" y1=\"15\" x2=\"371\" y2=\"27\" style=\"stroke:#01746cff;stroke-width:2;\" /><line x1=\"372\" y1=\"15\" x2=\"372\" y2=\"27\" style=\"stroke:#01746bff;stroke-width:2;\" /><line x1=\"373\" y1=\"15\" x2=\"373\" y2=\"27\" style=\"stroke:#01736aff;stroke-width:2;\" /><line x1=\"374\" y1=\"15\" x2=\"374\" y2=\"27\" style=\"stroke:#017369ff;stroke-width:2;\" /><line x1=\"375\" y1=\"15\" x2=\"375\" y2=\"27\" style=\"stroke:#017369ff;stroke-width:2;\" /><line x1=\"376\" y1=\"15\" x2=\"376\" y2=\"27\" style=\"stroke:#017268ff;stroke-width:2;\" /><line x1=\"377\" y1=\"15\" x2=\"377\" y2=\"27\" style=\"stroke:#017267ff;stroke-width:2;\" /><line x1=\"378\" y1=\"15\" x2=\"378\" y2=\"27\" style=\"stroke:#017266ff;stroke-width:2;\" /><line x1=\"379\" y1=\"15\" x2=\"379\" y2=\"27\" style=\"stroke:#017165ff;stroke-width:2;\" /><line x1=\"380\" y1=\"15\" x2=\"380\" y2=\"27\" style=\"stroke:#017164ff;stroke-width:2;\" /><line x1=\"381\" y1=\"15\" x2=\"381\" y2=\"27\" style=\"stroke:#017063ff;stroke-width:2;\" /><line x1=\"382\" y1=\"15\" x2=\"382\" y2=\"27\" style=\"stroke:#017062ff;stroke-width:2;\" /><line x1=\"383\" y1=\"15\" x2=\"383\" y2=\"27\" style=\"stroke:#017062ff;stroke-width:2;\" /><line x1=\"384\" y1=\"15\" x2=\"384\" y2=\"27\" style=\"stroke:#016f61ff;stroke-width:2;\" /><line x1=\"385\" y1=\"15\" x2=\"385\" y2=\"27\" style=\"stroke:#016f60ff;stroke-width:2;\" /><line x1=\"386\" y1=\"15\" x2=\"386\" y2=\"27\" style=\"stroke:#016f5fff;stroke-width:2;\" /><line x1=\"387\" y1=\"15\" x2=\"387\" y2=\"27\" style=\"stroke:#016e5eff;stroke-width:2;\" /><line x1=\"388\" y1=\"15\" x2=\"388\" y2=\"27\" style=\"stroke:#016e5dff;stroke-width:2;\" /><line x1=\"389\" y1=\"15\" x2=\"389\" y2=\"27\" style=\"stroke:#016d5cff;stroke-width:2;\" /><line x1=\"390\" y1=\"15\" x2=\"390\" y2=\"27\" style=\"stroke:#016d5bff;stroke-width:2;\" /><line x1=\"391\" y1=\"15\" x2=\"391\" y2=\"27\" style=\"stroke:#016d5aff;stroke-width:2;\" /><line x1=\"392\" y1=\"15\" x2=\"392\" y2=\"27\" style=\"stroke:#016c5aff;stroke-width:2;\" /><line x1=\"393\" y1=\"15\" x2=\"393\" y2=\"27\" style=\"stroke:#016c59ff;stroke-width:2;\" /><line x1=\"394\" y1=\"15\" x2=\"394\" y2=\"27\" style=\"stroke:#016b58ff;stroke-width:2;\" /><line x1=\"395\" y1=\"15\" x2=\"395\" y2=\"27\" style=\"stroke:#016a58ff;stroke-width:2;\" /><line x1=\"396\" y1=\"15\" x2=\"396\" y2=\"27\" style=\"stroke:#016a57ff;stroke-width:2;\" /><line x1=\"397\" y1=\"15\" x2=\"397\" y2=\"27\" style=\"stroke:#016956ff;stroke-width:2;\" /><line x1=\"398\" y1=\"15\" x2=\"398\" y2=\"27\" style=\"stroke:#016856ff;stroke-width:2;\" /><line x1=\"399\" y1=\"15\" x2=\"399\" y2=\"27\" style=\"stroke:#016855ff;stroke-width:2;\" /><line x1=\"400\" y1=\"15\" x2=\"400\" y2=\"27\" style=\"stroke:#016754ff;stroke-width:2;\" /><line x1=\"401\" y1=\"15\" x2=\"401\" y2=\"27\" style=\"stroke:#016654ff;stroke-width:2;\" /><line x1=\"402\" y1=\"15\" x2=\"402\" y2=\"27\" style=\"stroke:#016653ff;stroke-width:2;\" /><line x1=\"403\" y1=\"15\" x2=\"403\" y2=\"27\" style=\"stroke:#016553ff;stroke-width:2;\" /><line x1=\"404\" y1=\"15\" x2=\"404\" y2=\"27\" style=\"stroke:#016452ff;stroke-width:2;\" /><line x1=\"405\" y1=\"15\" x2=\"405\" y2=\"27\" style=\"stroke:#016451ff;stroke-width:2;\" /><line x1=\"406\" y1=\"15\" x2=\"406\" y2=\"27\" style=\"stroke:#016351ff;stroke-width:2;\" /><line x1=\"407\" y1=\"15\" x2=\"407\" y2=\"27\" style=\"stroke:#016250ff;stroke-width:2;\" /><line x1=\"408\" y1=\"15\" x2=\"408\" y2=\"27\" style=\"stroke:#01624fff;stroke-width:2;\" /><line x1=\"409\" y1=\"15\" x2=\"409\" y2=\"27\" style=\"stroke:#01614fff;stroke-width:2;\" /><line x1=\"410\" y1=\"15\" x2=\"410\" y2=\"27\" style=\"stroke:#01604eff;stroke-width:2;\" /><line x1=\"411\" y1=\"15\" x2=\"411\" y2=\"27\" style=\"stroke:#01604eff;stroke-width:2;\" /><line x1=\"412\" y1=\"15\" x2=\"412\" y2=\"27\" style=\"stroke:#015f4dff;stroke-width:2;\" /><line x1=\"413\" y1=\"15\" x2=\"413\" y2=\"27\" style=\"stroke:#015e4cff;stroke-width:2;\" /><line x1=\"414\" y1=\"15\" x2=\"414\" y2=\"27\" style=\"stroke:#015e4cff;stroke-width:2;\" /><line x1=\"415\" y1=\"15\" x2=\"415\" y2=\"27\" style=\"stroke:#015d4bff;stroke-width:2;\" /><line x1=\"416\" y1=\"15\" x2=\"416\" y2=\"27\" style=\"stroke:#015c4aff;stroke-width:2;\" /><line x1=\"417\" y1=\"15\" x2=\"417\" y2=\"27\" style=\"stroke:#015c4aff;stroke-width:2;\" /><line x1=\"418\" y1=\"15\" x2=\"418\" y2=\"27\" style=\"stroke:#015b49ff;stroke-width:2;\" /><line x1=\"419\" y1=\"15\" x2=\"419\" y2=\"27\" style=\"stroke:#015a48ff;stroke-width:2;\" /><line x1=\"420\" y1=\"15\" x2=\"420\" y2=\"27\" style=\"stroke:#015948ff;stroke-width:2;\" /><line x1=\"421\" y1=\"15\" x2=\"421\" y2=\"27\" style=\"stroke:#015947ff;stroke-width:2;\" /><line x1=\"422\" y1=\"15\" x2=\"422\" y2=\"27\" style=\"stroke:#015847ff;stroke-width:2;\" /><line x1=\"423\" y1=\"15\" x2=\"423\" y2=\"27\" style=\"stroke:#015746ff;stroke-width:2;\" /><line x1=\"424\" y1=\"15\" x2=\"424\" y2=\"27\" style=\"stroke:#015745ff;stroke-width:2;\" /><line x1=\"425\" y1=\"15\" x2=\"425\" y2=\"27\" style=\"stroke:#015645ff;stroke-width:2;\" /><line x1=\"426\" y1=\"15\" x2=\"426\" y2=\"27\" style=\"stroke:#015544ff;stroke-width:2;\" /><line x1=\"427\" y1=\"15\" x2=\"427\" y2=\"27\" style=\"stroke:#015543ff;stroke-width:2;\" /><line x1=\"428\" y1=\"15\" x2=\"428\" y2=\"27\" style=\"stroke:#015443ff;stroke-width:2;\" /><line x1=\"429\" y1=\"15\" x2=\"429\" y2=\"27\" style=\"stroke:#015342ff;stroke-width:2;\" /><line x1=\"430\" y1=\"15\" x2=\"430\" y2=\"27\" style=\"stroke:#015342ff;stroke-width:2;\" /><line x1=\"431\" y1=\"15\" x2=\"431\" y2=\"27\" style=\"stroke:#015241ff;stroke-width:2;\" /><line x1=\"432\" y1=\"15\" x2=\"432\" y2=\"27\" style=\"stroke:#015140ff;stroke-width:2;\" /><line x1=\"433\" y1=\"15\" x2=\"433\" y2=\"27\" style=\"stroke:#015140ff;stroke-width:2;\" /><line x1=\"434\" y1=\"15\" x2=\"434\" y2=\"27\" style=\"stroke:#01503fff;stroke-width:2;\" /><line x1=\"435\" y1=\"15\" x2=\"435\" y2=\"27\" style=\"stroke:#014f3eff;stroke-width:2;\" /><line x1=\"436\" y1=\"15\" x2=\"436\" y2=\"27\" style=\"stroke:#014f3eff;stroke-width:2;\" /><line x1=\"437\" y1=\"15\" x2=\"437\" y2=\"27\" style=\"stroke:#014e3dff;stroke-width:2;\" /><line x1=\"438\" y1=\"15\" x2=\"438\" y2=\"27\" style=\"stroke:#014d3dff;stroke-width:2;\" /><line x1=\"439\" y1=\"15\" x2=\"439\" y2=\"27\" style=\"stroke:#014d3cff;stroke-width:2;\" /><line x1=\"440\" y1=\"15\" x2=\"440\" y2=\"27\" style=\"stroke:#014c3bff;stroke-width:2;\" /><line x1=\"441\" y1=\"15\" x2=\"441\" y2=\"27\" style=\"stroke:#014b3bff;stroke-width:2;\" /><line x1=\"442\" y1=\"15\" x2=\"442\" y2=\"27\" style=\"stroke:#014b3aff;stroke-width:2;\" /><line x1=\"443\" y1=\"15\" x2=\"443\" y2=\"27\" style=\"stroke:#014a39ff;stroke-width:2;\" /><line x1=\"444\" y1=\"15\" x2=\"444\" y2=\"27\" style=\"stroke:#014939ff;stroke-width:2;\" /><line x1=\"445\" y1=\"15\" x2=\"445\" y2=\"27\" style=\"stroke:#014838ff;stroke-width:2;\" /><line x1=\"446\" y1=\"15\" x2=\"446\" y2=\"27\" style=\"stroke:#014838ff;stroke-width:2;\" /><line x1=\"447\" y1=\"15\" x2=\"447\" y2=\"27\" style=\"stroke:#014737ff;stroke-width:2;\" /><line x1=\"448\" y1=\"15\" x2=\"448\" y2=\"27\" style=\"stroke:#014636ff;stroke-width:2;\" /><line x1=\"449\" y1=\"15\" x2=\"449\" y2=\"27\" style=\"stroke:#014636ff;stroke-width:2;\" /><text x=\"0\" y=\"38\" style=\"text-anchor:start; font-size:11px; font:Arial; fill:black\">39</text><text x=\"75\" y=\"38\"; style=\"text-anchor:middle; font-size:11px; font:Arial; fill:black\">321.8</text><text x=\"150\" y=\"38\"; style=\"text-anchor:middle; font-size:11px; font:Arial; fill:black\">604.7</text><text x=\"225\" y=\"38\"; style=\"text-anchor:middle; font-size:11px; font:Arial; fill:black\">887.5</text><text x=\"300\" y=\"38\"; style=\"text-anchor:middle; font-size:11px; font:Arial; fill:black\">1170.3</text><text x=\"375\" y=\"38\"; style=\"text-anchor:middle; font-size:11px; font:Arial; fill:black\">1453.2</text><text x=\"450\" y=\"38\" style=\"text-anchor:end; font-size:11px; font:Arial; fill:black\">1736</text><text x=\"0\" y=\"12\" style=\"font-size:11px; font:Arial; fill:black\">sightings</text></svg>"
      ],
      "text/plain": [
       "<branca.colormap.LinearColormap at 0x7f789988b820>"
      ]
     },
     "execution_count": 10,
     "metadata": {},
     "output_type": "execute_result"
    }
   ],
   "source": [
    "# gradient\n",
    "# https://python-visualization.github.io/folium/latest/advanced_guide/colormaps.html\n",
    "# tutoring session\n",
    "gradient = cm.linear.PuBuGn_09.scale(outliers[\"counts\"].min(), outliers[\"counts\"].max())\n",
    "# https://python-visualization.github.io/folium/latest/advanced_guide/colormaps.html#Draw-a-ColorMap-on-a-map\n",
    "gradient.caption = \"sightings\"\n",
    "gradient"
   ]
  },
  {
   "cell_type": "code",
   "execution_count": 11,
   "id": "97d6cb8e-914b-430d-92ff-2fca265460cc",
   "metadata": {},
   "outputs": [
    {
     "data": {
      "text/html": [
       "<div style=\"width:100%;\"><div style=\"position:relative;width:100%;height:0;padding-bottom:60%;\"><span style=\"color:#565656\">Make this Notebook Trusted to load map: File -> Trust Notebook</span><iframe srcdoc=\"&lt;!DOCTYPE html&gt;\n",
       "&lt;html&gt;\n",
       "&lt;head&gt;\n",
       "    \n",
       "    &lt;meta http-equiv=&quot;content-type&quot; content=&quot;text/html; charset=UTF-8&quot; /&gt;\n",
       "    \n",
       "        &lt;script&gt;\n",
       "            L_NO_TOUCH = false;\n",
       "            L_DISABLE_3D = false;\n",
       "        &lt;/script&gt;\n",
       "    \n",
       "    &lt;style&gt;html, body {width: 100%;height: 100%;margin: 0;padding: 0;}&lt;/style&gt;\n",
       "    &lt;style&gt;#map {position:absolute;top:0;bottom:0;right:0;left:0;}&lt;/style&gt;\n",
       "    &lt;script src=&quot;https://cdn.jsdelivr.net/npm/leaflet@1.9.3/dist/leaflet.js&quot;&gt;&lt;/script&gt;\n",
       "    &lt;script src=&quot;https://code.jquery.com/jquery-3.7.1.min.js&quot;&gt;&lt;/script&gt;\n",
       "    &lt;script src=&quot;https://cdn.jsdelivr.net/npm/bootstrap@5.2.2/dist/js/bootstrap.bundle.min.js&quot;&gt;&lt;/script&gt;\n",
       "    &lt;script src=&quot;https://cdnjs.cloudflare.com/ajax/libs/Leaflet.awesome-markers/2.0.2/leaflet.awesome-markers.js&quot;&gt;&lt;/script&gt;\n",
       "    &lt;link rel=&quot;stylesheet&quot; href=&quot;https://cdn.jsdelivr.net/npm/leaflet@1.9.3/dist/leaflet.css&quot;/&gt;\n",
       "    &lt;link rel=&quot;stylesheet&quot; href=&quot;https://cdn.jsdelivr.net/npm/bootstrap@5.2.2/dist/css/bootstrap.min.css&quot;/&gt;\n",
       "    &lt;link rel=&quot;stylesheet&quot; href=&quot;https://netdna.bootstrapcdn.com/bootstrap/3.0.0/css/bootstrap-glyphicons.css&quot;/&gt;\n",
       "    &lt;link rel=&quot;stylesheet&quot; href=&quot;https://cdn.jsdelivr.net/npm/@fortawesome/fontawesome-free@6.2.0/css/all.min.css&quot;/&gt;\n",
       "    &lt;link rel=&quot;stylesheet&quot; href=&quot;https://cdnjs.cloudflare.com/ajax/libs/Leaflet.awesome-markers/2.0.2/leaflet.awesome-markers.css&quot;/&gt;\n",
       "    &lt;link rel=&quot;stylesheet&quot; href=&quot;https://cdn.jsdelivr.net/gh/python-visualization/folium/folium/templates/leaflet.awesome.rotate.min.css&quot;/&gt;\n",
       "    \n",
       "            &lt;meta name=&quot;viewport&quot; content=&quot;width=device-width,\n",
       "                initial-scale=1.0, maximum-scale=1.0, user-scalable=no&quot; /&gt;\n",
       "            &lt;style&gt;\n",
       "                #map_20a93b6b3c357da4c35c84269951cce3 {\n",
       "                    position: relative;\n",
       "                    width: 100.0%;\n",
       "                    height: 100.0%;\n",
       "                    left: 0.0%;\n",
       "                    top: 0.0%;\n",
       "                }\n",
       "                .leaflet-container { font-size: 1rem; }\n",
       "            &lt;/style&gt;\n",
       "        \n",
       "    &lt;script src=&quot;https://cdnjs.cloudflare.com/ajax/libs/d3/3.5.5/d3.min.js&quot;&gt;&lt;/script&gt;\n",
       "&lt;/head&gt;\n",
       "&lt;body&gt;\n",
       "    \n",
       "    \n",
       "            &lt;div class=&quot;folium-map&quot; id=&quot;map_20a93b6b3c357da4c35c84269951cce3&quot; &gt;&lt;/div&gt;\n",
       "        \n",
       "&lt;/body&gt;\n",
       "&lt;script&gt;\n",
       "    \n",
       "    \n",
       "            var map_20a93b6b3c357da4c35c84269951cce3 = L.map(\n",
       "                &quot;map_20a93b6b3c357da4c35c84269951cce3&quot;,\n",
       "                {\n",
       "                    center: [38.01, -95.84],\n",
       "                    crs: L.CRS.EPSG3857,\n",
       "                    zoom: 3,\n",
       "                    zoomControl: true,\n",
       "                    preferCanvas: false,\n",
       "                }\n",
       "            );\n",
       "\n",
       "            \n",
       "\n",
       "        \n",
       "    \n",
       "            var tile_layer_fe472daed5434c64aa5e7b1e75509cb5 = L.tileLayer(\n",
       "                &quot;https://tile.openstreetmap.org/{z}/{x}/{y}.png&quot;,\n",
       "                {&quot;attribution&quot;: &quot;\\u0026copy; \\u003ca href=\\&quot;https://www.openstreetmap.org/copyright\\&quot;\\u003eOpenStreetMap\\u003c/a\\u003e contributors&quot;, &quot;detectRetina&quot;: false, &quot;maxNativeZoom&quot;: 19, &quot;maxZoom&quot;: 19, &quot;minZoom&quot;: 0, &quot;noWrap&quot;: false, &quot;opacity&quot;: 1, &quot;subdomains&quot;: &quot;abc&quot;, &quot;tms&quot;: false}\n",
       "            );\n",
       "        \n",
       "    \n",
       "            tile_layer_fe472daed5434c64aa5e7b1e75509cb5.addTo(map_20a93b6b3c357da4c35c84269951cce3);\n",
       "        \n",
       "    \n",
       "    var color_map_50293f00d08f864d09d70ff4474c19c2 = {};\n",
       "\n",
       "    \n",
       "    color_map_50293f00d08f864d09d70ff4474c19c2.color = d3.scale.threshold()\n",
       "              .domain([39.0, 42.40080160320641, 45.80160320641283, 49.20240480961924, 52.60320641282565, 56.00400801603206, 59.40480961923848, 62.80561122244489, 66.2064128256513, 69.60721442885772, 73.00801603206412, 76.40881763527054, 79.80961923847696, 83.21042084168337, 86.61122244488978, 90.0120240480962, 93.4128256513026, 96.81362725450902, 100.21442885771543, 103.61523046092185, 107.01603206412825, 110.41683366733467, 113.81763527054109, 117.21843687374749, 120.61923847695391, 124.02004008016031, 127.42084168336673, 130.82164328657313, 134.22244488977955, 137.62324649298597, 141.0240480961924, 144.4248496993988, 147.8256513026052, 151.22645290581164, 154.62725450901803, 158.02805611222445, 161.42885771543087, 164.82965931863725, 168.2304609218437, 171.6312625250501, 175.0320641282565, 178.43286573146293, 181.83366733466934, 185.23446893787576, 188.63527054108218, 192.03607214428857, 195.43687374749499, 198.8376753507014, 202.23847695390782, 205.63927855711424, 209.04008016032063, 212.44088176352705, 215.84168336673346, 219.24248496993988, 222.6432865731463, 226.04408817635272, 229.4448897795591, 232.84569138276552, 236.24649298597194, 239.64729458917836, 243.04809619238478, 246.4488977955912, 249.84969939879758, 253.250501002004, 256.6513026052104, 260.05210420841684, 263.4529058116233, 266.85370741482967, 270.25450901803606, 273.6553106212425, 277.0561122244489, 280.4569138276553, 283.85771543086173, 287.2585170340682, 290.6593186372745, 294.06012024048096, 297.4609218436874, 300.8617234468938, 304.2625250501002, 307.6633266533066, 311.064128256513, 314.46492985971946, 317.86573146292585, 321.26653306613224, 324.6673346693387, 328.0681362725451, 331.4689378757515, 334.8697394789579, 338.27054108216436, 341.67134268537075, 345.07214428857714, 348.4729458917836, 351.87374749498997, 355.2745490981964, 358.6753507014028, 362.0761523046092, 365.47695390781564, 368.87775551102203, 372.2785571142285, 375.67935871743487, 379.08016032064126, 382.4809619238477, 385.8817635270541, 389.28256513026054, 392.6833667334669, 396.0841683366734, 399.48496993987976, 402.88577154308615, 406.2865731462926, 409.687374749499, 413.08817635270543, 416.4889779559118, 419.8897795591182, 423.29058116232466, 426.69138276553105, 430.0921843687375, 433.4929859719439, 436.8937875751503, 440.2945891783567, 443.6953907815631, 447.09619238476955, 450.49699398797594, 453.8977955911824, 457.2985971943888, 460.69939879759517, 464.1002004008016, 467.501002004008, 470.90180360721445, 474.30260521042084, 477.7034068136273, 481.10420841683367, 484.50501002004006, 487.9058116232465, 491.3066132264529, 494.70741482965934, 498.10821643286573, 501.5090180360721, 504.90981963927857, 508.31062124248496, 511.7114228456914, 515.1122244488978, 518.5130260521041, 521.9138276553106, 525.314629258517, 528.7154308617235, 532.1162324649299, 535.5170340681364, 538.9178356713427, 542.318637274549, 545.7194388777555, 549.1202404809619, 552.5210420841684, 555.9218436873748, 559.3226452905811, 562.7234468937876, 566.124248496994, 569.5250501002004, 572.9258517034068, 576.3266533066133, 579.7274549098196, 583.128256513026, 586.5290581162325, 589.9298597194389, 593.3306613226453, 596.7314629258517, 600.1322645290581, 603.5330661322645, 606.9338677354709, 610.3346693386774, 613.7354709418838, 617.1362725450902, 620.5370741482966, 623.937875751503, 627.3386773547094, 630.7394789579158, 634.1402805611223, 637.5410821643287, 640.941883767535, 644.3426853707415, 647.7434869739479, 651.1442885771543, 654.5450901803607, 657.9458917835672, 661.3466933867735, 664.7474949899799, 668.1482965931864, 671.5490981963928, 674.9498997995992, 678.3507014028056, 681.7515030060121, 685.1523046092184, 688.5531062124248, 691.9539078156313, 695.3547094188377, 698.7555110220441, 702.1563126252505, 705.557114228457, 708.9579158316633, 712.3587174348697, 715.7595190380762, 719.1603206412825, 722.561122244489, 725.9619238476954, 729.3627254509018, 732.7635270541082, 736.1643286573146, 739.5651302605211, 742.9659318637274, 746.3667334669339, 749.7675350701403, 753.1683366733467, 756.5691382765531, 759.9699398797595, 763.370741482966, 766.7715430861723, 770.1723446893787, 773.5731462925852, 776.9739478957916, 780.374749498998, 783.7755511022044, 787.1763527054109, 790.5771543086172, 793.9779559118236, 797.3787575150301, 800.7795591182364, 804.1803607214429, 807.5811623246493, 810.9819639278558, 814.3827655310621, 817.7835671342685, 821.184368737475, 824.5851703406813, 827.9859719438878, 831.3867735470942, 834.7875751503007, 838.188376753507, 841.5891783567134, 844.9899799599199, 848.3907815631262, 851.7915831663327, 855.1923847695391, 858.5931863727454, 861.9939879759519, 865.3947895791583, 868.7955911823648, 872.1963927855711, 875.5971943887776, 878.997995991984, 882.3987975951903, 885.7995991983968, 889.2004008016032, 892.6012024048097, 896.002004008016, 899.4028056112224, 902.8036072144289, 906.2044088176352, 909.6052104208417, 913.0060120240481, 916.4068136272546, 919.8076152304609, 923.2084168336673, 926.6092184368738, 930.0100200400801, 933.4108216432866, 936.811623246493, 940.2124248496993, 943.6132264529058, 947.0140280561122, 950.4148296593187, 953.815631262525, 957.2164328657315, 960.6172344689379, 964.0180360721442, 967.4188376753507, 970.8196392785571, 974.2204408817636, 977.6212424849699, 981.0220440881764, 984.4228456913828, 987.8236472945891, 991.2244488977956, 994.625250501002, 998.0260521042084, 1001.4268537074148, 1004.8276553106213, 1008.2284569138277, 1011.629258517034, 1015.0300601202405, 1018.4308617234469, 1021.8316633266533, 1025.2324649298598, 1028.633266533066, 1032.0340681362727, 1035.434869739479, 1038.8356713426854, 1042.2364729458918, 1045.637274549098, 1049.0380761523047, 1052.438877755511, 1055.8396793587176, 1059.2404809619238, 1062.6412825651303, 1066.0420841683367, 1069.4428857715432, 1072.8436873747496, 1076.2444889779558, 1079.6452905811623, 1083.0460921843687, 1086.4468937875752, 1089.8476953907816, 1093.248496993988, 1096.6492985971945, 1100.0501002004007, 1103.4509018036072, 1106.8517034068136, 1110.25250501002, 1113.6533066132265, 1117.054108216433, 1120.4549098196392, 1123.8557114228456, 1127.256513026052, 1130.6573146292585, 1134.058116232465, 1137.4589178356714, 1140.8597194388778, 1144.260521042084, 1147.6613226452905, 1151.062124248497, 1154.4629258517034, 1157.8637274549098, 1161.2645290581163, 1164.6653306613227, 1168.066132264529, 1171.4669338677354, 1174.8677354709419, 1178.2685370741483, 1181.6693386773547, 1185.0701402805612, 1188.4709418837676, 1191.8717434869739, 1195.2725450901803, 1198.6733466933867, 1202.0741482965932, 1205.4749498997996, 1208.875751503006, 1212.2765531062125, 1215.6773547094188, 1219.0781563126252, 1222.4789579158316, 1225.879759519038, 1229.2805611222445, 1232.681362725451, 1236.0821643286574, 1239.4829659318636, 1242.88376753507, 1246.2845691382765, 1249.685370741483, 1253.0861723446894, 1256.4869739478959, 1259.887775551102, 1263.2885771543085, 1266.689378757515, 1270.0901803607214, 1273.4909819639279, 1276.8917835671343, 1280.2925851703408, 1283.693386773547, 1287.0941883767534, 1290.4949899799599, 1293.8957915831663, 1297.2965931863728, 1300.6973947895792, 1304.0981963927857, 1307.4989979959919, 1310.8997995991983, 1314.3006012024048, 1317.7014028056112, 1321.1022044088177, 1324.5030060120241, 1327.9038076152306, 1331.3046092184368, 1334.7054108216432, 1338.1062124248497, 1341.5070140280561, 1344.9078156312626, 1348.308617234469, 1351.7094188376755, 1355.1102204408817, 1358.5110220440881, 1361.9118236472946, 1365.312625250501, 1368.7134268537075, 1372.114228456914, 1375.5150300601204, 1378.9158316633266, 1382.316633266533, 1385.7174348697395, 1389.118236472946, 1392.5190380761524, 1395.9198396793588, 1399.320641282565, 1402.7214428857715, 1406.122244488978, 1409.5230460921844, 1412.9238476953908, 1416.3246492985973, 1419.7254509018037, 1423.12625250501, 1426.5270541082164, 1429.9278557114228, 1433.3286573146293, 1436.7294589178357, 1440.1302605210421, 1443.5310621242486, 1446.9318637274548, 1450.3326653306613, 1453.7334669338677, 1457.1342685370741, 1460.5350701402806, 1463.935871743487, 1467.3366733466935, 1470.7374749498997, 1474.1382765531062, 1477.5390781563126, 1480.939879759519, 1484.3406813627255, 1487.741482965932, 1491.1422845691384, 1494.5430861723446, 1497.943887775551, 1501.3446893787575, 1504.745490981964, 1508.1462925851704, 1511.5470941883768, 1514.9478957915833, 1518.3486973947895, 1521.749498997996, 1525.1503006012024, 1528.5511022044088, 1531.9519038076153, 1535.3527054108217, 1538.753507014028, 1542.1543086172344, 1545.5551102204408, 1548.9559118236473, 1552.3567134268537, 1555.7575150300602, 1559.1583166332666, 1562.5591182364728, 1565.9599198396793, 1569.3607214428857, 1572.7615230460922, 1576.1623246492986, 1579.563126252505, 1582.9639278557115, 1586.3647294589177, 1589.7655310621242, 1593.1663326653306, 1596.567134268537, 1599.9679358717435, 1603.36873747495, 1606.7695390781564, 1610.1703406813626, 1613.571142284569, 1616.9719438877755, 1620.372745490982, 1623.7735470941884, 1627.1743486973949, 1630.5751503006013, 1633.9759519038075, 1637.376753507014, 1640.7775551102204, 1644.1783567134269, 1647.5791583166333, 1650.9799599198398, 1654.3807615230462, 1657.7815631262524, 1661.1823647294589, 1664.5831663326653, 1667.9839679358718, 1671.3847695390782, 1674.7855711422847, 1678.1863727454909, 1681.5871743486973, 1684.9879759519038, 1688.3887775551102, 1691.7895791583167, 1695.190380761523, 1698.5911823647295, 1701.9919839679358, 1705.3927855711422, 1708.7935871743487, 1712.194388777555, 1715.5951903807616, 1718.995991983968, 1722.3967935871744, 1725.7975951903807, 1729.198396793587, 1732.5991983967936, 1736.0])\n",
       "              .range([&#x27;#fff7fbff&#x27;, &#x27;#fff7fbff&#x27;, &#x27;#fff7fbff&#x27;, &#x27;#fff6fbff&#x27;, &#x27;#fef6fbff&#x27;, &#x27;#fef6fbff&#x27;, &#x27;#fef5faff&#x27;, &#x27;#fdf5faff&#x27;, &#x27;#fdf5faff&#x27;, &#x27;#fdf4faff&#x27;, &#x27;#fcf4faff&#x27;, &#x27;#fcf4faff&#x27;, &#x27;#fcf3f9ff&#x27;, &#x27;#fcf3f9ff&#x27;, &#x27;#fbf3f9ff&#x27;, &#x27;#fbf2f9ff&#x27;, &#x27;#fbf2f9ff&#x27;, &#x27;#faf2f8ff&#x27;, &#x27;#faf1f8ff&#x27;, &#x27;#faf1f8ff&#x27;, &#x27;#f9f1f8ff&#x27;, &#x27;#f9f0f8ff&#x27;, &#x27;#f9f0f8ff&#x27;, &#x27;#f8f0f7ff&#x27;, &#x27;#f8eff7ff&#x27;, &#x27;#f8eff7ff&#x27;, &#x27;#f8eff7ff&#x27;, &#x27;#f7eef7ff&#x27;, &#x27;#f7eef7ff&#x27;, &#x27;#f7eef6ff&#x27;, &#x27;#f6edf6ff&#x27;, &#x27;#f6edf6ff&#x27;, &#x27;#f6edf6ff&#x27;, &#x27;#f5ecf6ff&#x27;, &#x27;#f5ecf5ff&#x27;, &#x27;#f5ecf5ff&#x27;, &#x27;#f4ebf5ff&#x27;, &#x27;#f4ebf5ff&#x27;, &#x27;#f4ebf5ff&#x27;, &#x27;#f4eaf5ff&#x27;, &#x27;#f3eaf4ff&#x27;, &#x27;#f3eaf4ff&#x27;, &#x27;#f3e9f4ff&#x27;, &#x27;#f2e9f4ff&#x27;, &#x27;#f2e9f4ff&#x27;, &#x27;#f2e8f4ff&#x27;, &#x27;#f1e8f3ff&#x27;, &#x27;#f1e8f3ff&#x27;, &#x27;#f1e7f3ff&#x27;, &#x27;#f1e7f3ff&#x27;, &#x27;#f0e7f3ff&#x27;, &#x27;#f0e6f2ff&#x27;, &#x27;#f0e6f2ff&#x27;, &#x27;#efe6f2ff&#x27;, &#x27;#efe5f2ff&#x27;, &#x27;#efe5f2ff&#x27;, &#x27;#eee5f2ff&#x27;, &#x27;#eee4f1ff&#x27;, &#x27;#eee4f1ff&#x27;, &#x27;#ede4f1ff&#x27;, &#x27;#ede3f1ff&#x27;, &#x27;#ede3f1ff&#x27;, &#x27;#ede3f1ff&#x27;, &#x27;#ece2f0ff&#x27;, &#x27;#ece2f0ff&#x27;, &#x27;#ebe2f0ff&#x27;, &#x27;#ebe1f0ff&#x27;, &#x27;#eae1f0ff&#x27;, &#x27;#eae1f0ff&#x27;, &#x27;#e9e1efff&#x27;, &#x27;#e9e0efff&#x27;, &#x27;#e9e0efff&#x27;, &#x27;#e8e0efff&#x27;, &#x27;#e8dfefff&#x27;, &#x27;#e7dfefff&#x27;, &#x27;#e7dfeeff&#x27;, &#x27;#e6dfeeff&#x27;, &#x27;#e6deeeff&#x27;, &#x27;#e5deeeff&#x27;, &#x27;#e5deeeff&#x27;, &#x27;#e4deeeff&#x27;, &#x27;#e4ddedff&#x27;, &#x27;#e4ddedff&#x27;, &#x27;#e3ddedff&#x27;, &#x27;#e3dcedff&#x27;, &#x27;#e2dcedff&#x27;, &#x27;#e2dcedff&#x27;, &#x27;#e1dcecff&#x27;, &#x27;#e1dbecff&#x27;, &#x27;#e0dbecff&#x27;, &#x27;#e0dbecff&#x27;, &#x27;#e0dbecff&#x27;, &#x27;#dfdaecff&#x27;, &#x27;#dfdaecff&#x27;, &#x27;#dedaebff&#x27;, &#x27;#ded9ebff&#x27;, &#x27;#ddd9ebff&#x27;, &#x27;#ddd9ebff&#x27;, &#x27;#dcd9ebff&#x27;, &#x27;#dcd8ebff&#x27;, &#x27;#dbd8eaff&#x27;, &#x27;#dbd8eaff&#x27;, &#x27;#dbd8eaff&#x27;, &#x27;#dad7eaff&#x27;, &#x27;#dad7eaff&#x27;, &#x27;#d9d7eaff&#x27;, &#x27;#d9d6e9ff&#x27;, &#x27;#d8d6e9ff&#x27;, &#x27;#d8d6e9ff&#x27;, &#x27;#d7d6e9ff&#x27;, &#x27;#d7d5e9ff&#x27;, &#x27;#d7d5e9ff&#x27;, &#x27;#d6d5e8ff&#x27;, &#x27;#d6d5e8ff&#x27;, &#x27;#d5d4e8ff&#x27;, &#x27;#d5d4e8ff&#x27;, &#x27;#d4d4e8ff&#x27;, &#x27;#d4d3e8ff&#x27;, &#x27;#d3d3e7ff&#x27;, &#x27;#d3d3e7ff&#x27;, &#x27;#d2d3e7ff&#x27;, &#x27;#d2d2e7ff&#x27;, &#x27;#d2d2e7ff&#x27;, &#x27;#d1d2e7ff&#x27;, &#x27;#d1d2e7ff&#x27;, &#x27;#d0d1e6ff&#x27;, &#x27;#cfd1e6ff&#x27;, &#x27;#cfd1e6ff&#x27;, &#x27;#ced0e6ff&#x27;, &#x27;#cdd0e6ff&#x27;, &#x27;#cdd0e5ff&#x27;, &#x27;#cccfe5ff&#x27;, &#x27;#cbcfe5ff&#x27;, &#x27;#cbcfe5ff&#x27;, &#x27;#cacee5ff&#x27;, &#x27;#c9cee5ff&#x27;, &#x27;#c9cee4ff&#x27;, &#x27;#c8cde4ff&#x27;, &#x27;#c7cde4ff&#x27;, &#x27;#c7cde4ff&#x27;, &#x27;#c6cce4ff&#x27;, &#x27;#c5cce4ff&#x27;, &#x27;#c5cce3ff&#x27;, &#x27;#c4cbe3ff&#x27;, &#x27;#c3cbe3ff&#x27;, &#x27;#c3cbe3ff&#x27;, &#x27;#c2cae3ff&#x27;, &#x27;#c1cae2ff&#x27;, &#x27;#c1cae2ff&#x27;, &#x27;#c0cae2ff&#x27;, &#x27;#bfc9e2ff&#x27;, &#x27;#bfc9e2ff&#x27;, &#x27;#bec9e2ff&#x27;, &#x27;#bdc8e1ff&#x27;, &#x27;#bdc8e1ff&#x27;, &#x27;#bcc8e1ff&#x27;, &#x27;#bbc7e1ff&#x27;, &#x27;#bbc7e1ff&#x27;, &#x27;#bac7e1ff&#x27;, &#x27;#b9c6e0ff&#x27;, &#x27;#b8c6e0ff&#x27;, &#x27;#b8c6e0ff&#x27;, &#x27;#b7c5e0ff&#x27;, &#x27;#b6c5e0ff&#x27;, &#x27;#b6c5dfff&#x27;, &#x27;#b5c4dfff&#x27;, &#x27;#b4c4dfff&#x27;, &#x27;#b4c4dfff&#x27;, &#x27;#b3c3dfff&#x27;, &#x27;#b2c3dfff&#x27;, &#x27;#b2c3deff&#x27;, &#x27;#b1c2deff&#x27;, &#x27;#b0c2deff&#x27;, &#x27;#b0c2deff&#x27;, &#x27;#afc1deff&#x27;, &#x27;#aec1deff&#x27;, &#x27;#aec1ddff&#x27;, &#x27;#adc1ddff&#x27;, &#x27;#acc0ddff&#x27;, &#x27;#acc0ddff&#x27;, &#x27;#abc0ddff&#x27;, &#x27;#aabfdcff&#x27;, &#x27;#aabfdcff&#x27;, &#x27;#a9bfdcff&#x27;, &#x27;#a8bedcff&#x27;, &#x27;#a8bedcff&#x27;, &#x27;#a7bedcff&#x27;, &#x27;#a6bddbff&#x27;, &#x27;#a5bddbff&#x27;, &#x27;#a4bddbff&#x27;, &#x27;#a3bcdbff&#x27;, &#x27;#a2bcdbff&#x27;, &#x27;#a1bcdaff&#x27;, &#x27;#a0bbdaff&#x27;, &#x27;#9fbbdaff&#x27;, &#x27;#9ebbdaff&#x27;, &#x27;#9dbadaff&#x27;, &#x27;#9cbad9ff&#x27;, &#x27;#9bbad9ff&#x27;, &#x27;#9ab9d9ff&#x27;, &#x27;#99b9d9ff&#x27;, &#x27;#98b9d9ff&#x27;, &#x27;#97b8d8ff&#x27;, &#x27;#96b8d8ff&#x27;, &#x27;#95b8d8ff&#x27;, &#x27;#94b7d8ff&#x27;, &#x27;#93b7d8ff&#x27;, &#x27;#92b7d8ff&#x27;, &#x27;#91b7d7ff&#x27;, &#x27;#90b6d7ff&#x27;, &#x27;#8fb6d7ff&#x27;, &#x27;#8eb6d7ff&#x27;, &#x27;#8db5d7ff&#x27;, &#x27;#8cb5d6ff&#x27;, &#x27;#8bb5d6ff&#x27;, &#x27;#8ab4d6ff&#x27;, &#x27;#89b4d6ff&#x27;, &#x27;#88b4d6ff&#x27;, &#x27;#87b3d5ff&#x27;, &#x27;#86b3d5ff&#x27;, &#x27;#85b3d5ff&#x27;, &#x27;#84b2d5ff&#x27;, &#x27;#83b2d5ff&#x27;, &#x27;#82b2d4ff&#x27;, &#x27;#81b1d4ff&#x27;, &#x27;#80b1d4ff&#x27;, &#x27;#7fb1d4ff&#x27;, &#x27;#7eb0d4ff&#x27;, &#x27;#7db0d3ff&#x27;, &#x27;#7cb0d3ff&#x27;, &#x27;#7bafd3ff&#x27;, &#x27;#7aafd3ff&#x27;, &#x27;#79afd3ff&#x27;, &#x27;#78aed2ff&#x27;, &#x27;#77aed2ff&#x27;, &#x27;#76aed2ff&#x27;, &#x27;#75aed2ff&#x27;, &#x27;#74add2ff&#x27;, &#x27;#73add2ff&#x27;, &#x27;#72add1ff&#x27;, &#x27;#71acd1ff&#x27;, &#x27;#70acd1ff&#x27;, &#x27;#6facd1ff&#x27;, &#x27;#6dabd1ff&#x27;, &#x27;#6cabd0ff&#x27;, &#x27;#6babd0ff&#x27;, &#x27;#6aaad0ff&#x27;, &#x27;#69aad0ff&#x27;, &#x27;#68aad0ff&#x27;, &#x27;#67a9cfff&#x27;, &#x27;#67a9cfff&#x27;, &#x27;#66a9cfff&#x27;, &#x27;#65a8cfff&#x27;, &#x27;#64a8ceff&#x27;, &#x27;#63a7ceff&#x27;, &#x27;#63a7ceff&#x27;, &#x27;#62a7ceff&#x27;, &#x27;#61a6ceff&#x27;, &#x27;#60a6cdff&#x27;, &#x27;#5fa5cdff&#x27;, &#x27;#5fa5cdff&#x27;, &#x27;#5ea5cdff&#x27;, &#x27;#5da4ccff&#x27;, &#x27;#5ca4ccff&#x27;, &#x27;#5ba3ccff&#x27;, &#x27;#5ba3ccff&#x27;, &#x27;#5aa3cbff&#x27;, &#x27;#59a2cbff&#x27;, &#x27;#58a2cbff&#x27;, &#x27;#58a1cbff&#x27;, &#x27;#57a1caff&#x27;, &#x27;#56a1caff&#x27;, &#x27;#55a0caff&#x27;, &#x27;#54a0caff&#x27;, &#x27;#549fc9ff&#x27;, &#x27;#539fc9ff&#x27;, &#x27;#529ec9ff&#x27;, &#x27;#519ec9ff&#x27;, &#x27;#509ec8ff&#x27;, &#x27;#509dc8ff&#x27;, &#x27;#4f9dc8ff&#x27;, &#x27;#4e9cc8ff&#x27;, &#x27;#4d9cc7ff&#x27;, &#x27;#4c9cc7ff&#x27;, &#x27;#4c9bc7ff&#x27;, &#x27;#4b9bc7ff&#x27;, &#x27;#4a9ac6ff&#x27;, &#x27;#499ac6ff&#x27;, &#x27;#499ac6ff&#x27;, &#x27;#4899c6ff&#x27;, &#x27;#4799c6ff&#x27;, &#x27;#4698c5ff&#x27;, &#x27;#4598c5ff&#x27;, &#x27;#4598c5ff&#x27;, &#x27;#4497c5ff&#x27;, &#x27;#4397c4ff&#x27;, &#x27;#4296c4ff&#x27;, &#x27;#4196c4ff&#x27;, &#x27;#4196c4ff&#x27;, &#x27;#4095c3ff&#x27;, &#x27;#3f95c3ff&#x27;, &#x27;#3e94c3ff&#x27;, &#x27;#3d94c3ff&#x27;, &#x27;#3d94c2ff&#x27;, &#x27;#3c93c2ff&#x27;, &#x27;#3b93c2ff&#x27;, &#x27;#3a92c2ff&#x27;, &#x27;#3a92c1ff&#x27;, &#x27;#3992c1ff&#x27;, &#x27;#3891c1ff&#x27;, &#x27;#3791c1ff&#x27;, &#x27;#3690c0ff&#x27;, &#x27;#3690c0ff&#x27;, &#x27;#3590bfff&#x27;, &#x27;#3490beff&#x27;, &#x27;#338fbeff&#x27;, &#x27;#328fbdff&#x27;, &#x27;#318fbcff&#x27;, &#x27;#318fbbff&#x27;, &#x27;#308ebaff&#x27;, &#x27;#2f8eb9ff&#x27;, &#x27;#2e8eb8ff&#x27;, &#x27;#2d8eb7ff&#x27;, &#x27;#2c8db7ff&#x27;, &#x27;#2c8db6ff&#x27;, &#x27;#2b8db5ff&#x27;, &#x27;#2a8db4ff&#x27;, &#x27;#298cb3ff&#x27;, &#x27;#288cb2ff&#x27;, &#x27;#278cb1ff&#x27;, &#x27;#278cb0ff&#x27;, &#x27;#268bb0ff&#x27;, &#x27;#258bafff&#x27;, &#x27;#248baeff&#x27;, &#x27;#238badff&#x27;, &#x27;#228aacff&#x27;, &#x27;#228aabff&#x27;, &#x27;#218aaaff&#x27;, &#x27;#208aaaff&#x27;, &#x27;#1f8aa9ff&#x27;, &#x27;#1e89a8ff&#x27;, &#x27;#1d89a7ff&#x27;, &#x27;#1c89a6ff&#x27;, &#x27;#1c89a5ff&#x27;, &#x27;#1b88a4ff&#x27;, &#x27;#1a88a3ff&#x27;, &#x27;#1988a3ff&#x27;, &#x27;#1888a2ff&#x27;, &#x27;#1787a1ff&#x27;, &#x27;#1787a0ff&#x27;, &#x27;#16879fff&#x27;, &#x27;#15879eff&#x27;, &#x27;#14869dff&#x27;, &#x27;#13869dff&#x27;, &#x27;#12869cff&#x27;, &#x27;#12869bff&#x27;, &#x27;#11859aff&#x27;, &#x27;#108599ff&#x27;, &#x27;#0f8598ff&#x27;, &#x27;#0e8597ff&#x27;, &#x27;#0d8496ff&#x27;, &#x27;#0d8496ff&#x27;, &#x27;#0c8495ff&#x27;, &#x27;#0b8494ff&#x27;, &#x27;#0a8393ff&#x27;, &#x27;#098392ff&#x27;, &#x27;#088391ff&#x27;, &#x27;#088390ff&#x27;, &#x27;#07838fff&#x27;, &#x27;#06828fff&#x27;, &#x27;#05828eff&#x27;, &#x27;#04828dff&#x27;, &#x27;#03828cff&#x27;, &#x27;#03818bff&#x27;, &#x27;#02818aff&#x27;, &#x27;#018189ff&#x27;, &#x27;#018089ff&#x27;, &#x27;#018088ff&#x27;, &#x27;#018087ff&#x27;, &#x27;#017f86ff&#x27;, &#x27;#017f86ff&#x27;, &#x27;#017f85ff&#x27;, &#x27;#017e84ff&#x27;, &#x27;#017e83ff&#x27;, &#x27;#017e82ff&#x27;, &#x27;#017d82ff&#x27;, &#x27;#017d81ff&#x27;, &#x27;#017d80ff&#x27;, &#x27;#017c7fff&#x27;, &#x27;#017c7eff&#x27;, &#x27;#017c7eff&#x27;, &#x27;#017b7dff&#x27;, &#x27;#017b7cff&#x27;, &#x27;#017b7bff&#x27;, &#x27;#017a7aff&#x27;, &#x27;#017a7aff&#x27;, &#x27;#017a79ff&#x27;, &#x27;#017978ff&#x27;, &#x27;#017977ff&#x27;, &#x27;#017977ff&#x27;, &#x27;#017876ff&#x27;, &#x27;#017875ff&#x27;, &#x27;#017874ff&#x27;, &#x27;#017773ff&#x27;, &#x27;#017773ff&#x27;, &#x27;#017772ff&#x27;, &#x27;#017671ff&#x27;, &#x27;#017670ff&#x27;, &#x27;#01766fff&#x27;, &#x27;#01756fff&#x27;, &#x27;#01756eff&#x27;, &#x27;#01756dff&#x27;, &#x27;#01746cff&#x27;, &#x27;#01746bff&#x27;, &#x27;#01746bff&#x27;, &#x27;#01736aff&#x27;, &#x27;#017369ff&#x27;, &#x27;#017368ff&#x27;, &#x27;#017268ff&#x27;, &#x27;#017267ff&#x27;, &#x27;#017266ff&#x27;, &#x27;#017165ff&#x27;, &#x27;#017164ff&#x27;, &#x27;#017164ff&#x27;, &#x27;#017063ff&#x27;, &#x27;#017062ff&#x27;, &#x27;#017061ff&#x27;, &#x27;#016f60ff&#x27;, &#x27;#016f60ff&#x27;, &#x27;#016f5fff&#x27;, &#x27;#016e5eff&#x27;, &#x27;#016e5dff&#x27;, &#x27;#016d5cff&#x27;, &#x27;#016d5cff&#x27;, &#x27;#016d5bff&#x27;, &#x27;#016c5aff&#x27;, &#x27;#016c59ff&#x27;, &#x27;#016c59ff&#x27;, &#x27;#016b58ff&#x27;, &#x27;#016a58ff&#x27;, &#x27;#016a57ff&#x27;, &#x27;#016956ff&#x27;, &#x27;#016956ff&#x27;, &#x27;#016855ff&#x27;, &#x27;#016755ff&#x27;, &#x27;#016754ff&#x27;, &#x27;#016654ff&#x27;, &#x27;#016653ff&#x27;, &#x27;#016552ff&#x27;, &#x27;#016452ff&#x27;, &#x27;#016451ff&#x27;, &#x27;#016351ff&#x27;, &#x27;#016350ff&#x27;, &#x27;#016250ff&#x27;, &#x27;#01614fff&#x27;, &#x27;#01614eff&#x27;, &#x27;#01604eff&#x27;, &#x27;#015f4dff&#x27;, &#x27;#015f4dff&#x27;, &#x27;#015e4cff&#x27;, &#x27;#015e4cff&#x27;, &#x27;#015d4bff&#x27;, &#x27;#015c4bff&#x27;, &#x27;#015c4aff&#x27;, &#x27;#015b49ff&#x27;, &#x27;#015b49ff&#x27;, &#x27;#015a48ff&#x27;, &#x27;#015948ff&#x27;, &#x27;#015947ff&#x27;, &#x27;#015847ff&#x27;, &#x27;#015846ff&#x27;, &#x27;#015745ff&#x27;, &#x27;#015645ff&#x27;, &#x27;#015644ff&#x27;, &#x27;#015544ff&#x27;, &#x27;#015443ff&#x27;, &#x27;#015443ff&#x27;, &#x27;#015342ff&#x27;, &#x27;#015342ff&#x27;, &#x27;#015241ff&#x27;, &#x27;#015140ff&#x27;, &#x27;#015140ff&#x27;, &#x27;#01503fff&#x27;, &#x27;#01503fff&#x27;, &#x27;#014f3eff&#x27;, &#x27;#014e3eff&#x27;, &#x27;#014e3dff&#x27;, &#x27;#014d3cff&#x27;, &#x27;#014d3cff&#x27;, &#x27;#014c3bff&#x27;, &#x27;#014b3bff&#x27;, &#x27;#014b3aff&#x27;, &#x27;#014a3aff&#x27;, &#x27;#014939ff&#x27;, &#x27;#014939ff&#x27;, &#x27;#014838ff&#x27;, &#x27;#014837ff&#x27;, &#x27;#014737ff&#x27;, &#x27;#014636ff&#x27;, &#x27;#014636ff&#x27;]);\n",
       "    \n",
       "\n",
       "    color_map_50293f00d08f864d09d70ff4474c19c2.x = d3.scale.linear()\n",
       "              .domain([39.0, 1736.0])\n",
       "              .range([0, 450 - 50]);\n",
       "\n",
       "    color_map_50293f00d08f864d09d70ff4474c19c2.legend = L.control({position: &#x27;topright&#x27;});\n",
       "    color_map_50293f00d08f864d09d70ff4474c19c2.legend.onAdd = function (map) {var div = L.DomUtil.create(&#x27;div&#x27;, &#x27;legend&#x27;); return div};\n",
       "    color_map_50293f00d08f864d09d70ff4474c19c2.legend.addTo(map_20a93b6b3c357da4c35c84269951cce3);\n",
       "\n",
       "    color_map_50293f00d08f864d09d70ff4474c19c2.xAxis = d3.svg.axis()\n",
       "        .scale(color_map_50293f00d08f864d09d70ff4474c19c2.x)\n",
       "        .orient(&quot;top&quot;)\n",
       "        .tickSize(1)\n",
       "        .tickValues([39.0, 251.125, 463.25, 675.375, 887.5, 1099.625, 1311.75, 1523.875, 1736.0]);\n",
       "\n",
       "    color_map_50293f00d08f864d09d70ff4474c19c2.svg = d3.select(&quot;.legend.leaflet-control&quot;).append(&quot;svg&quot;)\n",
       "        .attr(&quot;id&quot;, &#x27;legend&#x27;)\n",
       "        .attr(&quot;width&quot;, 450)\n",
       "        .attr(&quot;height&quot;, 40);\n",
       "\n",
       "    color_map_50293f00d08f864d09d70ff4474c19c2.g = color_map_50293f00d08f864d09d70ff4474c19c2.svg.append(&quot;g&quot;)\n",
       "        .attr(&quot;class&quot;, &quot;key&quot;)\n",
       "        .attr(&quot;fill&quot;, &quot;black&quot;)\n",
       "        .attr(&quot;transform&quot;, &quot;translate(25,16)&quot;);\n",
       "\n",
       "    color_map_50293f00d08f864d09d70ff4474c19c2.g.selectAll(&quot;rect&quot;)\n",
       "        .data(color_map_50293f00d08f864d09d70ff4474c19c2.color.range().map(function(d, i) {\n",
       "          return {\n",
       "            x0: i ? color_map_50293f00d08f864d09d70ff4474c19c2.x(color_map_50293f00d08f864d09d70ff4474c19c2.color.domain()[i - 1]) : color_map_50293f00d08f864d09d70ff4474c19c2.x.range()[0],\n",
       "            x1: i &lt; color_map_50293f00d08f864d09d70ff4474c19c2.color.domain().length ? color_map_50293f00d08f864d09d70ff4474c19c2.x(color_map_50293f00d08f864d09d70ff4474c19c2.color.domain()[i]) : color_map_50293f00d08f864d09d70ff4474c19c2.x.range()[1],\n",
       "            z: d\n",
       "          };\n",
       "        }))\n",
       "      .enter().append(&quot;rect&quot;)\n",
       "        .attr(&quot;height&quot;, 40 - 30)\n",
       "        .attr(&quot;x&quot;, function(d) { return d.x0; })\n",
       "        .attr(&quot;width&quot;, function(d) { return d.x1 - d.x0; })\n",
       "        .style(&quot;fill&quot;, function(d) { return d.z; });\n",
       "\n",
       "    color_map_50293f00d08f864d09d70ff4474c19c2.g.call(color_map_50293f00d08f864d09d70ff4474c19c2.xAxis).append(&quot;text&quot;)\n",
       "        .attr(&quot;class&quot;, &quot;caption&quot;)\n",
       "        .attr(&quot;y&quot;, 21)\n",
       "        .attr(&quot;fill&quot;, &quot;black&quot;)\n",
       "        .text(&quot;sightings&quot;);\n",
       "&lt;/script&gt;\n",
       "&lt;/html&gt;\" style=\"position:absolute;width:100%;height:100%;left:0;top:0;border:none !important;\" allowfullscreen webkitallowfullscreen mozallowfullscreen></iframe></div></div>"
      ],
      "text/plain": [
       "<folium.folium.Map at 0x7f7899889e70>"
      ]
     },
     "execution_count": 11,
     "metadata": {},
     "output_type": "execute_result"
    }
   ],
   "source": [
    "# adding gradient to base\n",
    "# https://python-visualization.github.io/folium/latest/advanced_guide/colormaps.html#Draw-a-ColorMap-on-a-map\n",
    "base.add_child(gradient)"
   ]
  },
  {
   "cell_type": "code",
   "execution_count": 12,
   "id": "29356edd-bfa8-4d02-800e-c0babfaac390",
   "metadata": {},
   "outputs": [],
   "source": [
    "# function to determine which color belongs to which county\n",
    "# tutoring session\n",
    "def style(feature):\n",
    "    count = feature[\"properties\"][\"counts\"]\n",
    "    colorforcount = gradient(count)\n",
    "    dict = {\n",
    "        \"fillColor\": colorforcount,\n",
    "        \"color\": \"black\",\n",
    "        \"fillOpacity\": 1,\n",
    "        \"weight\": 0.1,\n",
    "    }\n",
    "    return dict"
   ]
  },
  {
   "cell_type": "code",
   "execution_count": 14,
   "id": "65b96168-4435-4f80-b008-1e07017a6887",
   "metadata": {},
   "outputs": [
    {
     "data": {
      "text/plain": [
       "<folium.features.GeoJson at 0x7f789cb5c7c0>"
      ]
     },
     "execution_count": 14,
     "metadata": {},
     "output_type": "execute_result"
    }
   ],
   "source": [
    "# adding counties and colors to base\n",
    "# https://python-visualization.github.io/folium/latest/user_guide/geojson/geojson_popup_and_tooltip.html\n",
    "# https://python-visualization.github.io/folium/latest/user_guide/ui_elements/layer_control.html\n",
    "# tutoring session\n",
    "folium.GeoJson(outliers, style_function=style, popup=popup,).add_to(base)"
   ]
  },
  {
   "cell_type": "code",
   "execution_count": 15,
   "id": "35b010f4-6977-44d4-ba74-de19a06e5973",
   "metadata": {},
   "outputs": [],
   "source": [
    "# saving base\n",
    "# xpert\n",
    "base.save(\"yesoutliers.html\")"
   ]
  }
 ],
 "metadata": {
  "kernelspec": {
   "display_name": "Python 3 (ipykernel)",
   "language": "python",
   "name": "python3"
  },
  "language_info": {
   "codemirror_mode": {
    "name": "ipython",
    "version": 3
   },
   "file_extension": ".py",
   "mimetype": "text/x-python",
   "name": "python",
   "nbconvert_exporter": "python",
   "pygments_lexer": "ipython3",
   "version": "3.10.14"
  }
 },
 "nbformat": 4,
 "nbformat_minor": 5
}
