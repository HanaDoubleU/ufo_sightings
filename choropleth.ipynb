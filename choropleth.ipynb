{
 "cells": [
  {
   "cell_type": "code",
   "execution_count": 1,
   "id": "828007d4-0d3a-4b98-94b5-334db6ad2568",
   "metadata": {},
   "outputs": [],
   "source": [
    "# dependencies\n",
    "# reference: fourth week's third day's first activity\n",
    "# xpert\n",
    "import pandas as pd\n",
    "import geopandas as gpd"
   ]
  },
  {
   "cell_type": "code",
   "execution_count": 2,
   "id": "a40b133a-5407-4fd9-a875-be1846abfe03",
   "metadata": {},
   "outputs": [],
   "source": [
    "# dependency\n",
    "# fourth week's first day's ninth activity\n",
    "from pathlib import Path"
   ]
  },
  {
   "cell_type": "code",
   "execution_count": 3,
   "id": "c625728a-f7a5-4258-ade0-fbaa93916a0d",
   "metadata": {},
   "outputs": [],
   "source": [
    "# paths\n",
    "# fourth week's first day's ninth activity\n",
    "# tutoring session\n",
    "PATHtocountiescounted = Path(\"Data/countiescounted.csv\")\n",
    "PATHtocleanedgeodata = Path(\"Data/cleanedgeodata.geojson\")\n",
    "PATHtochoropleth = Path(\"Data/choropleth.geojson\")"
   ]
  },
  {
   "cell_type": "code",
   "execution_count": 4,
   "id": "b9bc221a-5a35-4a70-aa89-44f5979ab11b",
   "metadata": {},
   "outputs": [
    {
     "name": "stdout",
     "output_type": "stream",
     "text": [
      "(2751, 3)\n"
     ]
    },
    {
     "data": {
      "text/html": [
       "<div>\n",
       "<style scoped>\n",
       "    .dataframe tbody tr th:only-of-type {\n",
       "        vertical-align: middle;\n",
       "    }\n",
       "\n",
       "    .dataframe tbody tr th {\n",
       "        vertical-align: top;\n",
       "    }\n",
       "\n",
       "    .dataframe thead th {\n",
       "        text-align: right;\n",
       "    }\n",
       "</style>\n",
       "<table border=\"1\" class=\"dataframe\">\n",
       "  <thead>\n",
       "    <tr style=\"text-align: right;\">\n",
       "      <th></th>\n",
       "      <th>county</th>\n",
       "      <th>state</th>\n",
       "      <th>counts</th>\n",
       "    </tr>\n",
       "  </thead>\n",
       "  <tbody>\n",
       "    <tr>\n",
       "      <th>0</th>\n",
       "      <td>los angeles</td>\n",
       "      <td>california</td>\n",
       "      <td>1736</td>\n",
       "    </tr>\n",
       "    <tr>\n",
       "      <th>1</th>\n",
       "      <td>maricopa</td>\n",
       "      <td>arizona</td>\n",
       "      <td>1274</td>\n",
       "    </tr>\n",
       "    <tr>\n",
       "      <th>2</th>\n",
       "      <td>king</td>\n",
       "      <td>washington</td>\n",
       "      <td>1095</td>\n",
       "    </tr>\n",
       "    <tr>\n",
       "      <th>3</th>\n",
       "      <td>san diego</td>\n",
       "      <td>california</td>\n",
       "      <td>808</td>\n",
       "    </tr>\n",
       "    <tr>\n",
       "      <th>4</th>\n",
       "      <td>cook</td>\n",
       "      <td>illinois</td>\n",
       "      <td>781</td>\n",
       "    </tr>\n",
       "  </tbody>\n",
       "</table>\n",
       "</div>"
      ],
      "text/plain": [
       "        county       state  counts\n",
       "0  los angeles  california    1736\n",
       "1     maricopa     arizona    1274\n",
       "2         king  washington    1095\n",
       "3    san diego  california     808\n",
       "4         cook    illinois     781"
      ]
     },
     "execution_count": 4,
     "metadata": {},
     "output_type": "execute_result"
    }
   ],
   "source": [
    "# reading countiescounted.csv\n",
    "# fourth week's first day's ninth activity\n",
    "# xpert\n",
    "data = pd.read_csv(PATHtocountiescounted, encoding='utf-8')\n",
    "# verification\n",
    "# fourth week's first day's ninth activity\n",
    "# tutoring session\n",
    "print(data.shape)\n",
    "data.head()"
   ]
  },
  {
   "cell_type": "code",
   "execution_count": 5,
   "id": "44713fb4-2d0d-4166-835a-d0ad139bcdc5",
   "metadata": {},
   "outputs": [
    {
     "name": "stdout",
     "output_type": "stream",
     "text": [
      "(3234, 3)\n"
     ]
    },
    {
     "data": {
      "text/html": [
       "<div>\n",
       "<style scoped>\n",
       "    .dataframe tbody tr th:only-of-type {\n",
       "        vertical-align: middle;\n",
       "    }\n",
       "\n",
       "    .dataframe tbody tr th {\n",
       "        vertical-align: top;\n",
       "    }\n",
       "\n",
       "    .dataframe thead th {\n",
       "        text-align: right;\n",
       "    }\n",
       "</style>\n",
       "<table border=\"1\" class=\"dataframe\">\n",
       "  <thead>\n",
       "    <tr style=\"text-align: right;\">\n",
       "      <th></th>\n",
       "      <th>county</th>\n",
       "      <th>state</th>\n",
       "      <th>geometry</th>\n",
       "    </tr>\n",
       "  </thead>\n",
       "  <tbody>\n",
       "    <tr>\n",
       "      <th>0</th>\n",
       "      <td>cuming</td>\n",
       "      <td>nebraska</td>\n",
       "      <td>POLYGON ((-96.55516 41.91588, -96.55518 41.917...</td>\n",
       "    </tr>\n",
       "    <tr>\n",
       "      <th>1</th>\n",
       "      <td>wahkiakum</td>\n",
       "      <td>washington</td>\n",
       "      <td>POLYGON ((-123.49078 46.38359, -123.50285 46.3...</td>\n",
       "    </tr>\n",
       "    <tr>\n",
       "      <th>2</th>\n",
       "      <td>de baca</td>\n",
       "      <td>new mexico</td>\n",
       "      <td>POLYGON ((-104.38369 34.69213, -104.38424 34.6...</td>\n",
       "    </tr>\n",
       "    <tr>\n",
       "      <th>3</th>\n",
       "      <td>lancaster</td>\n",
       "      <td>nebraska</td>\n",
       "      <td>POLYGON ((-96.68141 41.04566, -96.68289 41.045...</td>\n",
       "    </tr>\n",
       "    <tr>\n",
       "      <th>4</th>\n",
       "      <td>nuckolls</td>\n",
       "      <td>nebraska</td>\n",
       "      <td>POLYGON ((-98.04802 40.35066, -98.04849 40.350...</td>\n",
       "    </tr>\n",
       "  </tbody>\n",
       "</table>\n",
       "</div>"
      ],
      "text/plain": [
       "      county       state                                           geometry\n",
       "0     cuming    nebraska  POLYGON ((-96.55516 41.91588, -96.55518 41.917...\n",
       "1  wahkiakum  washington  POLYGON ((-123.49078 46.38359, -123.50285 46.3...\n",
       "2    de baca  new mexico  POLYGON ((-104.38369 34.69213, -104.38424 34.6...\n",
       "3  lancaster    nebraska  POLYGON ((-96.68141 41.04566, -96.68289 41.045...\n",
       "4   nuckolls    nebraska  POLYGON ((-98.04802 40.35066, -98.04849 40.350..."
      ]
     },
     "execution_count": 5,
     "metadata": {},
     "output_type": "execute_result"
    }
   ],
   "source": [
    "# reading cleanedgeodata.geojson\n",
    "# fourth week's first day's ninth activity\n",
    "# xpert\n",
    "geodata = gpd.read_file(PATHtocleanedgeodata)\n",
    "# verification\n",
    "# fourth week's first day's ninth activity\n",
    "# tutoring session\n",
    "print(geodata.shape)\n",
    "geodata.head()"
   ]
  },
  {
   "cell_type": "code",
   "execution_count": 6,
   "id": "553dc91c-1b7b-4442-916b-0d217c5a8f66",
   "metadata": {},
   "outputs": [
    {
     "name": "stdout",
     "output_type": "stream",
     "text": [
      "(2672, 4)\n"
     ]
    },
    {
     "data": {
      "text/html": [
       "<div>\n",
       "<style scoped>\n",
       "    .dataframe tbody tr th:only-of-type {\n",
       "        vertical-align: middle;\n",
       "    }\n",
       "\n",
       "    .dataframe tbody tr th {\n",
       "        vertical-align: top;\n",
       "    }\n",
       "\n",
       "    .dataframe thead th {\n",
       "        text-align: right;\n",
       "    }\n",
       "</style>\n",
       "<table border=\"1\" class=\"dataframe\">\n",
       "  <thead>\n",
       "    <tr style=\"text-align: right;\">\n",
       "      <th></th>\n",
       "      <th>county</th>\n",
       "      <th>state</th>\n",
       "      <th>counts</th>\n",
       "      <th>geometry</th>\n",
       "    </tr>\n",
       "  </thead>\n",
       "  <tbody>\n",
       "    <tr>\n",
       "      <th>0</th>\n",
       "      <td>los angeles</td>\n",
       "      <td>california</td>\n",
       "      <td>1736</td>\n",
       "      <td>MULTIPOLYGON (((-118.67822 33.03973, -118.6785...</td>\n",
       "    </tr>\n",
       "    <tr>\n",
       "      <th>1</th>\n",
       "      <td>maricopa</td>\n",
       "      <td>arizona</td>\n",
       "      <td>1274</td>\n",
       "      <td>POLYGON ((-111.89310 33.20471, -111.89310 33.2...</td>\n",
       "    </tr>\n",
       "    <tr>\n",
       "      <th>2</th>\n",
       "      <td>king</td>\n",
       "      <td>washington</td>\n",
       "      <td>1095</td>\n",
       "      <td>POLYGON ((-122.00036 47.77540, -122.00038 47.7...</td>\n",
       "    </tr>\n",
       "    <tr>\n",
       "      <th>3</th>\n",
       "      <td>san diego</td>\n",
       "      <td>california</td>\n",
       "      <td>808</td>\n",
       "      <td>POLYGON ((-116.85262 32.55747, -116.85088 32.5...</td>\n",
       "    </tr>\n",
       "    <tr>\n",
       "      <th>4</th>\n",
       "      <td>cook</td>\n",
       "      <td>illinois</td>\n",
       "      <td>781</td>\n",
       "      <td>POLYGON ((-87.52500 41.64464, -87.52485 41.647...</td>\n",
       "    </tr>\n",
       "  </tbody>\n",
       "</table>\n",
       "</div>"
      ],
      "text/plain": [
       "        county       state  counts  \\\n",
       "0  los angeles  california    1736   \n",
       "1     maricopa     arizona    1274   \n",
       "2         king  washington    1095   \n",
       "3    san diego  california     808   \n",
       "4         cook    illinois     781   \n",
       "\n",
       "                                            geometry  \n",
       "0  MULTIPOLYGON (((-118.67822 33.03973, -118.6785...  \n",
       "1  POLYGON ((-111.89310 33.20471, -111.89310 33.2...  \n",
       "2  POLYGON ((-122.00036 47.77540, -122.00038 47.7...  \n",
       "3  POLYGON ((-116.85262 32.55747, -116.85088 32.5...  \n",
       "4  POLYGON ((-87.52500 41.64464, -87.52485 41.647...  "
      ]
     },
     "execution_count": 6,
     "metadata": {},
     "output_type": "execute_result"
    }
   ],
   "source": [
    "# merging data and geodata\n",
    "# reference: fourth week's third day's first activity\n",
    "# xpert\n",
    "merge = pd.merge(data, geodata, how='inner', on=['county', 'state'])\n",
    "# tutoring session\n",
    "print(merge.shape)\n",
    "merge.head()"
   ]
  },
  {
   "cell_type": "code",
   "execution_count": 7,
   "id": "e91a1c42-6557-474c-9571-a15918f8b9a7",
   "metadata": {},
   "outputs": [
    {
     "data": {
      "text/plain": [
       "county      0\n",
       "state       0\n",
       "counts      0\n",
       "geometry    0\n",
       "dtype: int64"
      ]
     },
     "execution_count": 7,
     "metadata": {},
     "output_type": "execute_result"
    }
   ],
   "source": [
    "# verification\n",
    "# tutoring session\n",
    "merge.isnull().sum()"
   ]
  },
  {
   "cell_type": "code",
   "execution_count": 9,
   "id": "0059f2ef-0ba2-48f9-b468-47afbf1e6185",
   "metadata": {},
   "outputs": [],
   "source": [
    "# from df to gdf\n",
    "# xpert\n",
    "choropleth = gpd.GeoDataFrame(merge, geometry='geometry')"
   ]
  },
  {
   "cell_type": "code",
   "execution_count": 10,
   "id": "f7851737-1cab-4d1b-979d-7f1085851f17",
   "metadata": {},
   "outputs": [
    {
     "name": "stdout",
     "output_type": "stream",
     "text": [
      "(2672, 4)\n"
     ]
    },
    {
     "data": {
      "text/html": [
       "<div>\n",
       "<style scoped>\n",
       "    .dataframe tbody tr th:only-of-type {\n",
       "        vertical-align: middle;\n",
       "    }\n",
       "\n",
       "    .dataframe tbody tr th {\n",
       "        vertical-align: top;\n",
       "    }\n",
       "\n",
       "    .dataframe thead th {\n",
       "        text-align: right;\n",
       "    }\n",
       "</style>\n",
       "<table border=\"1\" class=\"dataframe\">\n",
       "  <thead>\n",
       "    <tr style=\"text-align: right;\">\n",
       "      <th></th>\n",
       "      <th>county</th>\n",
       "      <th>state</th>\n",
       "      <th>counts</th>\n",
       "      <th>geometry</th>\n",
       "    </tr>\n",
       "  </thead>\n",
       "  <tbody>\n",
       "    <tr>\n",
       "      <th>0</th>\n",
       "      <td>los angeles</td>\n",
       "      <td>california</td>\n",
       "      <td>1736</td>\n",
       "      <td>MULTIPOLYGON (((-118.67822 33.03973, -118.6785...</td>\n",
       "    </tr>\n",
       "    <tr>\n",
       "      <th>1</th>\n",
       "      <td>maricopa</td>\n",
       "      <td>arizona</td>\n",
       "      <td>1274</td>\n",
       "      <td>POLYGON ((-111.89310 33.20471, -111.89310 33.2...</td>\n",
       "    </tr>\n",
       "    <tr>\n",
       "      <th>2</th>\n",
       "      <td>king</td>\n",
       "      <td>washington</td>\n",
       "      <td>1095</td>\n",
       "      <td>POLYGON ((-122.00036 47.77540, -122.00038 47.7...</td>\n",
       "    </tr>\n",
       "    <tr>\n",
       "      <th>3</th>\n",
       "      <td>san diego</td>\n",
       "      <td>california</td>\n",
       "      <td>808</td>\n",
       "      <td>POLYGON ((-116.85262 32.55747, -116.85088 32.5...</td>\n",
       "    </tr>\n",
       "    <tr>\n",
       "      <th>4</th>\n",
       "      <td>cook</td>\n",
       "      <td>illinois</td>\n",
       "      <td>781</td>\n",
       "      <td>POLYGON ((-87.52500 41.64464, -87.52485 41.647...</td>\n",
       "    </tr>\n",
       "  </tbody>\n",
       "</table>\n",
       "</div>"
      ],
      "text/plain": [
       "        county       state  counts  \\\n",
       "0  los angeles  california    1736   \n",
       "1     maricopa     arizona    1274   \n",
       "2         king  washington    1095   \n",
       "3    san diego  california     808   \n",
       "4         cook    illinois     781   \n",
       "\n",
       "                                            geometry  \n",
       "0  MULTIPOLYGON (((-118.67822 33.03973, -118.6785...  \n",
       "1  POLYGON ((-111.89310 33.20471, -111.89310 33.2...  \n",
       "2  POLYGON ((-122.00036 47.77540, -122.00038 47.7...  \n",
       "3  POLYGON ((-116.85262 32.55747, -116.85088 32.5...  \n",
       "4  POLYGON ((-87.52500 41.64464, -87.52485 41.647...  "
      ]
     },
     "execution_count": 10,
     "metadata": {},
     "output_type": "execute_result"
    }
   ],
   "source": [
    "# verification\n",
    "# fourth week's first day's ninth activity\n",
    "# tutoring session\n",
    "print(choropleth.shape)\n",
    "choropleth.head()"
   ]
  },
  {
   "cell_type": "code",
   "execution_count": 13,
   "id": "cbfaeaa0-2562-43d1-89fe-872fa8196f6c",
   "metadata": {},
   "outputs": [],
   "source": [
    "# saving data\n",
    "# fourth week's second day's third activity\n",
    "# tutoring session\n",
    "choropleth.to_file(PATHtochoropleth, driver='GeoJSON')"
   ]
  }
 ],
 "metadata": {
  "kernelspec": {
   "display_name": "Python 3 (ipykernel)",
   "language": "python",
   "name": "python3"
  },
  "language_info": {
   "codemirror_mode": {
    "name": "ipython",
    "version": 3
   },
   "file_extension": ".py",
   "mimetype": "text/x-python",
   "name": "python",
   "nbconvert_exporter": "python",
   "pygments_lexer": "ipython3",
   "version": "3.10.14"
  }
 },
 "nbformat": 4,
 "nbformat_minor": 5
}
