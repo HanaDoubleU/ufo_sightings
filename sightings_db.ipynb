{
 "cells": [
  {
   "cell_type": "markdown",
   "id": "60a42d90",
   "metadata": {},
   "source": [
    "## Set up Mongo Database\n",
    "\n",
    "` Code in the Terminal for the ufo_sightings data: `\n",
    "    `mongoimport --type csv -d sightings -c ufo_sightings --headerline --drop cleanedsightings.csv`\n",
    "    `mongoimport --type csv -d sightings -c special_use --headerline --drop Special_Use_Airspace.csv`"
   ]
  },
  {
   "cell_type": "code",
   "execution_count": 46,
   "id": "0f7aa920",
   "metadata": {},
   "outputs": [],
   "source": [
    "# Import dependencies\n",
    "from pymongo import MongoClient\n",
    "import json\n",
    "import requests \n",
    "from pprint import pprint"
   ]
  },
  {
   "cell_type": "code",
   "execution_count": 47,
   "id": "c0adbad6",
   "metadata": {},
   "outputs": [],
   "source": [
    "# Create an instance of MongoClient\n",
    "mongo = MongoClient(port=27017)"
   ]
  },
  {
   "cell_type": "code",
   "execution_count": 48,
   "id": "f9ccdc04",
   "metadata": {},
   "outputs": [
    {
     "name": "stdout",
     "output_type": "stream",
     "text": [
      "['admin', 'autosaurus', 'config', 'epa', 'local', 'met', 'sightings', 'uk_food']\n"
     ]
    }
   ],
   "source": [
    "# confirm that our new database was created\n",
    "print(mongo.list_database_names())"
   ]
  },
  {
   "cell_type": "code",
   "execution_count": 49,
   "id": "7ea204dc",
   "metadata": {},
   "outputs": [],
   "source": [
    "# assign the sightings database to a variable name\n",
    "db = mongo['sightings']"
   ]
  },
  {
   "cell_type": "code",
   "execution_count": 50,
   "id": "9cbf1bd4",
   "metadata": {},
   "outputs": [],
   "source": [
    "# db.ufo_sightings.drop()"
   ]
  },
  {
   "cell_type": "code",
   "execution_count": 51,
   "id": "b4147ecf",
   "metadata": {},
   "outputs": [
    {
     "name": "stdout",
     "output_type": "stream",
     "text": [
      "['ufo_sightings', 'special_use']\n"
     ]
    }
   ],
   "source": [
    "# review the collections in our new database\n",
    "print(db.list_collection_names())"
   ]
  },
  {
   "cell_type": "code",
   "execution_count": 52,
   "id": "d15d07d6",
   "metadata": {},
   "outputs": [],
   "source": [
    "# assign the collections to variables\n",
    "ufo_sightings = db['ufo_sightings']\n",
    "special_use = db['special_use']"
   ]
  },
  {
   "cell_type": "code",
   "execution_count": 53,
   "id": "4f4dbf4f",
   "metadata": {},
   "outputs": [
    {
     "name": "stdout",
     "output_type": "stream",
     "text": [
      "{'AK_HIGH': 0,\n",
      " 'AK_LOW': 0,\n",
      " 'CITY': 'MCGUIRE AFB',\n",
      " 'CLASS': '',\n",
      " 'COMM_NAME': '',\n",
      " 'CONT_AGENT': '',\n",
      " 'COUNTRY': 'UNITED STATES',\n",
      " 'DST_CODE': 1,\n",
      " 'EXCLUSION': 0,\n",
      " 'GLOBAL_ID': '5F02297F-7DF5-478E-B876-C758B6E4B910',\n",
      " 'GMTOFFSET': -5,\n",
      " 'LEVEL_CODE': 'L',\n",
      " 'LOWER_CODE': 'SFC',\n",
      " 'LOWER_DESC': '',\n",
      " 'LOWER_UOM': 'FT',\n",
      " 'LOWER_VAL': 0,\n",
      " 'NAME': 'A-220',\n",
      " 'OBJECTID': 1,\n",
      " 'ONSHORE': 1,\n",
      " 'PACIFIC': 0,\n",
      " 'REMARKS': '',\n",
      " 'SECTOR': '',\n",
      " 'STATE': 'NJ',\n",
      " 'Shape__Area': 0.165564236045384,\n",
      " 'Shape__Length': 1.7062563615085,\n",
      " 'TIMESOFUSE': '0800 - 2200, DAILY',\n",
      " 'TYPE_CODE': 'A',\n",
      " 'UPPER_CODE': 'MSL',\n",
      " 'UPPER_DESC': 'TI',\n",
      " 'UPPER_UOM': 'FT',\n",
      " 'UPPER_VAL': 4500,\n",
      " 'US_AREA': 1,\n",
      " 'US_HIGH': 0,\n",
      " 'US_LOW': 1,\n",
      " '_id': ObjectId('6733f8818b5f54bfde958b10')}\n"
     ]
    }
   ],
   "source": [
    "pprint(db.special_use.find_one())"
   ]
  }
 ],
 "metadata": {
  "kernelspec": {
   "display_name": "dev",
   "language": "python",
   "name": "python3"
  },
  "language_info": {
   "codemirror_mode": {
    "name": "ipython",
    "version": 3
   },
   "file_extension": ".py",
   "mimetype": "text/x-python",
   "name": "python",
   "nbconvert_exporter": "python",
   "pygments_lexer": "ipython3",
   "version": "3.12.4"
  }
 },
 "nbformat": 4,
 "nbformat_minor": 5
}
